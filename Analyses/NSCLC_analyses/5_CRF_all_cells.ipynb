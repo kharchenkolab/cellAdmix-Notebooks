{
 "cells": [
  {
   "cell_type": "code",
   "execution_count": 1,
   "id": "e6ca74f1-5971-4316-82b1-ba664860e5a4",
   "metadata": {
    "vscode": {
     "languageId": "r"
    }
   },
   "outputs": [
    {
     "name": "stderr",
     "output_type": "stream",
     "text": [
      "\u001b[1m\u001b[22m\u001b[36mℹ\u001b[39m Loading \u001b[34mcellAdmixNotebooks\u001b[39m\n"
     ]
    }
   ],
   "source": [
    "suppressPackageStartupMessages({\n",
    "  library(dplyr)\n",
    "  library(dataorganizer)\n",
    "  library(devtools)\n",
    "  library(cellAdmix)\n",
    "  library(ggplot2)\n",
    "  library(readr)\n",
    "  devtools::load_all()\n",
    "})\n",
    "\n",
    "suppressMessages({\n",
    "  load_arial_font()\n",
    "})\n",
    "\n",
    "theme_set(theme_bw())"
   ]
  },
  {
   "cell_type": "code",
   "execution_count": 3,
   "id": "7db0db39-81d3-43a2-8092-7dcd613fc330",
   "metadata": {
    "vscode": {
     "languageId": "r"
    }
   },
   "outputs": [
    {
     "name": "stderr",
     "output_type": "stream",
     "text": [
      "Normalizing layer: counts\n",
      "\n"
     ]
    }
   ],
   "source": [
    "base_dir <- CachePath('nsclc_scaled_dat11/')\n",
    "\n",
    "# load data\n",
    "cell_annot <- prepare_nsclc_metadata(reps='all')\n",
    "df <- prepare_nsclc_transcript_data(cell_annot,reps='all')\n",
    "\n",
    "# save a counts version of the data\n",
    "so_spatial_orig <- get_counts_meta_seurat(df, normalize=TRUE)"
   ]
  },
  {
   "cell_type": "code",
   "execution_count": 4,
   "id": "2f0f18c5-18a8-4140-a274-df2a82bcc175",
   "metadata": {
    "vscode": {
     "languageId": "r"
    }
   },
   "outputs": [],
   "source": [
    "write_rds(so_spatial_orig, file.path(base_dir,'so_spatial_orig.rds'))"
   ]
  },
  {
   "cell_type": "code",
   "execution_count": 5,
   "id": "30f87b9a-b8b1-4680-9bef-a4dd3107c6bd",
   "metadata": {
    "vscode": {
     "languageId": "r"
    }
   },
   "outputs": [],
   "source": [
    "k <- 15\n",
    "nmf_res <- readRDS(file=paste0(base_dir,'nmf_joint_k',k,'.rds'))"
   ]
  },
  {
   "cell_type": "code",
   "execution_count": 6,
   "id": "227ae3c0-0f47-44c5-ac06-4b909bc1fad9",
   "metadata": {
    "vscode": {
     "languageId": "r"
    }
   },
   "outputs": [],
   "source": [
    "# loading precomputed bridge-results to determine factor-ctypes to remove\n",
    "fp_checks <- readRDS(file=paste0(base_dir,'fp_checks.rds'))\n",
    "annot_res_all <- fp_checks[[1]]\n",
    "f_rm <- annot_res_all[[paste0('joint_',k,'_bridge')]]"
   ]
  },
  {
   "cell_type": "code",
   "execution_count": 9,
   "id": "a781b5f1-a023-4596-8b4f-1a1934b06bb4",
   "metadata": {
    "vscode": {
     "languageId": "r"
    }
   },
   "outputs": [
    {
     "name": "stderr",
     "output_type": "stream",
     "text": [
      "Normalizing layer: counts\n",
      "\n"
     ]
    }
   ],
   "source": [
    "### first generating cleaned fibroblasts\n",
    "df_ct <- df[df$celltype=='fibroblast',]\n",
    "\n",
    "crf_res <- run_crf_all(\n",
    "  df_ct, nmf_res, num.nn=10, same.label.ratio=5,\n",
    "  normalize.by='gene',n.cores=20\n",
    ")\n",
    "\n",
    "# clean the df\n",
    "df_ct$factor <- crf_res[,1]\n",
    "\n",
    "df_cln <- df_ct[!(paste(df_ct$factor, df_ct$celltype, sep = \"_\") %in% f_rm), ]\n",
    "\n",
    "# make a counts version of df_cln\n",
    "so_spatial_cln <- get_counts_meta_seurat(df_cln,normalize=TRUE)"
   ]
  },
  {
   "cell_type": "code",
   "execution_count": 10,
   "id": "73754cd6-c63f-4a60-bd9b-ca068993e75a",
   "metadata": {
    "vscode": {
     "languageId": "r"
    }
   },
   "outputs": [],
   "source": [
    "write_rds(so_spatial_cln, paste0(base_dir,'so_spatial_cln_',k,'_fib_full.rds'))"
   ]
  },
  {
   "cell_type": "code",
   "execution_count": 11,
   "id": "2c310862-5050-4dc7-bf01-fe0b4a9b2a76",
   "metadata": {
    "vscode": {
     "languageId": "r"
    }
   },
   "outputs": [
    {
     "name": "stderr",
     "output_type": "stream",
     "text": [
      "Normalizing layer: counts\n",
      "\n"
     ]
    }
   ],
   "source": [
    "### first generating cleaned macrophages\n",
    "df_ct <- df[df$celltype=='macrophage',]\n",
    "\n",
    "crf_res <- run_crf_all(\n",
    "  df_ct, nmf_res, num.nn=10, same.label.ratio=5,\n",
    "  normalize.by='gene', n.cores=20\n",
    ")\n",
    "\n",
    "# clean the df\n",
    "df_ct$factor <- crf_res[,1]\n",
    "\n",
    "df_cln <- df_ct[!(paste(df_ct$factor, df_ct$celltype, sep = \"_\") %in% f_rm), ]\n",
    "\n",
    "# make a counts version of df_cln\n",
    "so_spatial_cln <- get_counts_meta_seurat(df_cln,normalize=TRUE)"
   ]
  },
  {
   "cell_type": "code",
   "execution_count": 12,
   "id": "ca2f8688-b6d3-43aa-8e77-d799495ac1fb",
   "metadata": {
    "vscode": {
     "languageId": "r"
    }
   },
   "outputs": [],
   "source": [
    "write_rds(so_spatial_cln,file=paste0(base_dir,'so_spatial_cln_',k,'_macro_full.rds'))"
   ]
  }
 ],
 "metadata": {
  "kernelspec": {
   "display_name": "R",
   "language": "R",
   "name": "ir"
  },
  "language_info": {
   "codemirror_mode": "r",
   "file_extension": ".r",
   "mimetype": "text/x-r-source",
   "name": "R",
   "pygments_lexer": "r",
   "version": "4.4.1"
  }
 },
 "nbformat": 4,
 "nbformat_minor": 5
}
