{
 "cells": [
  {
   "cell_type": "markdown",
   "id": "281bf99d",
   "metadata": {
    "vscode": {
     "languageId": "r"
    }
   },
   "source": [
    "Requires notebook 0."
   ]
  },
  {
   "cell_type": "code",
   "execution_count": 1,
   "id": "29c759d9-9560-42a0-a94a-022c08d6a02a",
   "metadata": {
    "vscode": {
     "languageId": "r"
    }
   },
   "outputs": [
    {
     "name": "stderr",
     "output_type": "stream",
     "text": [
      "\u001b[1m\u001b[22m\u001b[36mℹ\u001b[39m Loading \u001b[34mcellAdmixNotebooks\u001b[39m\n"
     ]
    }
   ],
   "source": [
    "suppressPackageStartupMessages({\n",
    "  library(dplyr)\n",
    "  library(dataorganizer)\n",
    "  library(devtools)\n",
    "  library(cellAdmix)\n",
    "\n",
    "  devtools::load_all()\n",
    "})\n",
    "\n",
    "suppressMessages({\n",
    "  load_arial_font()\n",
    "})"
   ]
  },
  {
   "cell_type": "code",
   "execution_count": 2,
   "id": "449e972f-69ac-45b8-8ff8-115946fbb878",
   "metadata": {
    "vscode": {
     "languageId": "r"
    }
   },
   "outputs": [],
   "source": [
    "# load data\n",
    "cell_annot <- prepare_nsclc_metadata(reps='one')\n",
    "df <- prepare_nsclc_transcript_data(cell_annot,reps='one')\n",
    "\n",
    "# converting back to px from um units\n",
    "df$x <- (df$x * 1000) / 180\n",
    "df$y <- (df$y * 1000) / 180\n",
    "df$z <- (df$z * 1000) / 800\n",
    "\n",
    "df <- df[,c('x_local_px','y_local_px','z','cell','fov','celltype','gene')]\n",
    "colnames(df) <- c('x','y','z_index','cell','fov','celltype','gene')\n",
    "\n",
    "# # remove z slices that we don't have images for\n",
    "df <- df[df$z %in% c(0:8),]"
   ]
  },
  {
   "cell_type": "code",
   "execution_count": 3,
   "id": "bdea07ff-a480-4a57-92b4-6dc04ba6ab84",
   "metadata": {
    "vscode": {
     "languageId": "r"
    }
   },
   "outputs": [],
   "source": [
    "score_params <- list(\n",
    "  sep_type = \"pairwise_max\",\n",
    "  compare_type = \"cross_groups\", # 'cross_groups' (i.e., admix-pure vs pure-pure) or 'same_groups' (i.e.,admix-admix vs pure-pure)\n",
    "  norm_scores = FALSE, # to normalize each pair's membrane signal by distance between molecules\n",
    "  same_z = TRUE,\n",
    "  balance_dists = TRUE, # to balance molecule pair distance distributions between admix and native groups\n",
    "  min_mols = 5, # require at least this many molecule pairs of each type admix/native to test a cell\n",
    "  downsamp_cells_to = NULL, # downsample number of cells per fov to test\n",
    "  downsamp_pairs_to = NULL # downsample number of molecule pairs per z slice to test if above this threshold\n",
    ")"
   ]
  },
  {
   "cell_type": "code",
   "execution_count": 4,
   "id": "7e159b63-ebdd-4d4d-a7bf-5982765dcc4d",
   "metadata": {
    "vscode": {
     "languageId": "r"
    }
   },
   "outputs": [],
   "source": [
    "focal_cell_type <- 'fibroblast'\n",
    "\n",
    "df_markers <- load_markers_nsclc()\n",
    "colnames(df_markers) <- c('gene','ct')\n",
    "df_markers <- df_markers[df_markers$ct %in% c(\"malignant\",\"macrophage\",\"fibroblast\"),]\n",
    "df_markers$is_admixture <- df_markers$ct != focal_cell_type\n",
    "\n",
    "ndx_match <- match(df$gene,df_markers$gene)\n",
    "df$is_admixture <- df_markers[ndx_match,'is_admixture']\n",
    "df <- df[!is.na(df$is_admixture),]"
   ]
  },
  {
   "cell_type": "code",
   "execution_count": 9,
   "id": "b25a2914",
   "metadata": {
    "vscode": {
     "languageId": "r"
    }
   },
   "outputs": [
    {
     "name": "stderr",
     "output_type": "stream",
     "text": [
      "\u001b[1m\u001b[22m\u001b[36mℹ\u001b[39m Loading \u001b[34mcellAdmixNotebooks\u001b[39m\n"
     ]
    }
   ],
   "source": [
    "devtools::load_all()"
   ]
  },
  {
   "cell_type": "code",
   "execution_count": 10,
   "id": "8024b8b2-ab48-4a62-9fad-99612831a8ec",
   "metadata": {
    "vscode": {
     "languageId": "r"
    }
   },
   "outputs": [],
   "source": [
    "scores <- get_scores_all_fov(df, score_params, load_images_nsclc, ct_test=focal_cell_type, n.cores=10)"
   ]
  },
  {
   "cell_type": "code",
   "execution_count": 12,
   "id": "259d965e-9081-47fb-80cb-f58f7a3483ba",
   "metadata": {
    "vscode": {
     "languageId": "r"
    }
   },
   "outputs": [
    {
     "name": "stdout",
     "output_type": "stream",
     "text": [
      "\n",
      "\tOne Sample t-test\n",
      "\n",
      "data:  log(scores)\n",
      "t = 33.571, df = 7527, p-value < 2.2e-16\n",
      "alternative hypothesis: true mean is greater than 0\n",
      "95 percent confidence interval:\n",
      " 0.0811103       Inf\n",
      "sample estimates:\n",
      " mean of x \n",
      "0.08528968 \n",
      "\n"
     ]
    },
    {
     "data": {
      "text/html": [
       "0.629914984059511"
      ],
      "text/latex": [
       "0.629914984059511"
      ],
      "text/markdown": [
       "0.629914984059511"
      ],
      "text/plain": [
       "[1] 0.629915"
      ]
     },
     "metadata": {},
     "output_type": "display_data"
    },
    {
     "data": {
      "text/html": [
       "0.30154091392136"
      ],
      "text/latex": [
       "0.30154091392136"
      ],
      "text/markdown": [
       "0.30154091392136"
      ],
      "text/plain": [
       "[1] 0.3015409"
      ]
     },
     "metadata": {},
     "output_type": "display_data"
    }
   ],
   "source": [
    "print(t.test(log(scores), mu = 0, alternative = \"greater\"))\n",
    "sum(scores>1)/length(scores)\n",
    "sum(scores<1)/length(scores)"
   ]
  },
  {
   "cell_type": "code",
   "execution_count": 13,
   "id": "f912adb7-4e4d-4683-86d0-66832a4ecb4c",
   "metadata": {
    "vscode": {
     "languageId": "r"
    }
   },
   "outputs": [
    {
     "data": {
      "image/png": "[encoded data removed]",
      "text/plain": [
       "plot without title"
      ]
     },
     "metadata": {
      "image/png": {
       "height": 250,
       "width": 250
      }
     },
     "output_type": "display_data"
    }
   ],
   "source": [
    "options(repr.plot.width = 2.5, repr.plot.height = 2.5, repr.plot.res = 200)\n",
    "\n",
    "p <- plot_scores(scores,title='Admixture into fibroblasts',score_params,\n",
    "                 log_transform=FALSE,binwidth=.2,capval=3)\n",
    "p"
   ]
  },
  {
   "cell_type": "code",
   "execution_count": 14,
   "id": "0db413c0-827b-459b-83ca-8007d5ea6a99",
   "metadata": {
    "vscode": {
     "languageId": "r"
    }
   },
   "outputs": [
    {
     "data": {
      "text/html": [
       "<strong>png:</strong> 2"
      ],
      "text/latex": [
       "\\textbf{png:} 2"
      ],
      "text/markdown": [
       "**png:** 2"
      ],
      "text/plain": [
       "png \n",
       "  2 "
      ]
     },
     "metadata": {},
     "output_type": "display_data"
    }
   ],
   "source": [
    "pdf(OutputPath(\"nsclc_membrane_sep.pdf\"), useDingbats=FALSE, width=1.85, height=1.85)\n",
    "p\n",
    "dev.off()"
   ]
  }
 ],
 "metadata": {
  "kernelspec": {
   "display_name": "R",
   "language": "R",
   "name": "ir"
  },
  "language_info": {
   "codemirror_mode": "r",
   "file_extension": ".r",
   "mimetype": "text/x-r-source",
   "name": "R",
   "pygments_lexer": "r",
   "version": "4.4.1"
  }
 },
 "nbformat": 4,
 "nbformat_minor": 5
}
