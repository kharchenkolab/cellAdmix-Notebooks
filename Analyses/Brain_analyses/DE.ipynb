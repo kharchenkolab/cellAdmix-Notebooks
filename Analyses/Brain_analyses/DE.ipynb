{
 "cells": [
  {
   "cell_type": "code",
   "execution_count": 1,
   "id": "b467aa1f-3335-466d-ad6e-575e8cbb263f",
   "metadata": {
    "execution": {
     "iopub.execute_input": "2025-04-17T15:24:11.995093Z",
     "iopub.status.busy": "2025-04-17T15:24:11.993723Z",
     "iopub.status.idle": "2025-04-17T15:24:18.220409Z",
     "shell.execute_reply": "2025-04-17T15:24:18.219455Z"
    },
    "vscode": {
     "languageId": "r"
    }
   },
   "outputs": [
    {
     "name": "stderr",
     "output_type": "stream",
     "text": [
      "\u001b[1m\u001b[22m\u001b[36mℹ\u001b[39m Loading \u001b[34mcellAdmixNotebooks\u001b[39m\n"
     ]
    }
   ],
   "source": [
    "suppressPackageStartupMessages({\n",
    "  library(dplyr)\n",
    "  library(cowplot)\n",
    "  library(magrittr)\n",
    "  library(dataorganizer)\n",
    "  library(pagoda2)\n",
    "  library(ggrepel)\n",
    "\n",
    "  devtools::load_all()\n",
    "})\n",
    "\n",
    "suppressMessages({\n",
    "  load_arial_font()\n",
    "})"
   ]
  },
  {
   "cell_type": "code",
   "execution_count": 2,
   "id": "27d8421c-f900-40d7-b73e-a4fb998db367",
   "metadata": {
    "execution": {
     "iopub.execute_input": "2025-04-17T15:24:18.234492Z",
     "iopub.status.busy": "2025-04-17T15:24:18.221659Z",
     "iopub.status.idle": "2025-04-17T15:24:18.249097Z",
     "shell.execute_reply": "2025-04-17T15:24:18.248355Z"
    },
    "vscode": {
     "languageId": "r"
    }
   },
   "outputs": [],
   "source": [
    "markers_use <- load_markers_brain(filter_markers=FALSE)\n",
    "all_ct <- unique(markers_use$marker_of)\n",
    "markers_use <- lapply(all_ct, \\(ct) markers_use[markers_use$marker_of==ct,'gene'])\n",
    "names(markers_use) <- all_ct\n",
    "\n",
    "names(markers_use)[which(names(markers_use)=='OD Mature')] <- \"Mature oligodendrocyte\"\n",
    "names(markers_use)[which(names(markers_use)=='OD Immature')] <- \"Immature oligodendrocyte\""
   ]
  },
  {
   "cell_type": "code",
   "execution_count": 3,
   "id": "b2b4a1f1-b863-46c9-9b8d-f7167a948e7f",
   "metadata": {
    "execution": {
     "iopub.execute_input": "2025-04-17T15:24:18.250784Z",
     "iopub.status.busy": "2025-04-17T15:24:18.250230Z",
     "iopub.status.idle": "2025-04-17T15:24:18.276925Z",
     "shell.execute_reply": "2025-04-17T15:24:18.276243Z"
    },
    "vscode": {
     "languageId": "r"
    }
   },
   "outputs": [
    {
     "data": {
      "text/html": [
       "<dl>\n",
       "\t<dt>$Endothelial</dt>\n",
       "\t\t<dd><style>\n",
       ".list-inline {list-style: none; margin:0; padding: 0}\n",
       ".list-inline>li {display: inline-block}\n",
       ".list-inline>li:not(:last-child)::after {content: \"\\00b7\"; padding: 0 .5ex}\n",
       "</style>\n",
       "<ol class=list-inline><li>'Slco1a4'</li><li>'Fn1'</li></ol>\n",
       "</dd>\n",
       "\t<dt>$Microglia</dt>\n",
       "\t\t<dd><style>\n",
       ".list-inline {list-style: none; margin:0; padding: 0}\n",
       ".list-inline>li {display: inline-block}\n",
       ".list-inline>li:not(:last-child)::after {content: \"\\00b7\"; padding: 0 .5ex}\n",
       "</style>\n",
       "<ol class=list-inline><li>'Selplg'</li><li>'Slc15a3'</li></ol>\n",
       "</dd>\n",
       "\t<dt>$Mural</dt>\n",
       "\t\t<dd><style>\n",
       ".list-inline {list-style: none; margin:0; padding: 0}\n",
       ".list-inline>li {display: inline-block}\n",
       ".list-inline>li:not(:last-child)::after {content: \"\\00b7\"; padding: 0 .5ex}\n",
       "</style>\n",
       "<ol class=list-inline><li>'Myh11'</li><li>'Lmod1'</li><li>'Ace2'</li></ol>\n",
       "</dd>\n",
       "\t<dt>$`Immature oligodendrocyte`</dt>\n",
       "\t\t<dd>'Pdgfra'</dd>\n",
       "\t<dt>$`Mature oligodendrocyte`</dt>\n",
       "\t\t<dd><style>\n",
       ".list-inline {list-style: none; margin:0; padding: 0}\n",
       ".list-inline>li {display: inline-block}\n",
       ".list-inline>li:not(:last-child)::after {content: \"\\00b7\"; padding: 0 .5ex}\n",
       "</style>\n",
       "<ol class=list-inline><li>'Ermn'</li><li>'Gjc3'</li><li>'Lpar1'</li><li>'Opalin'</li><li>'Ndrg1'</li><li>'Etv1'</li><li>'Ttyh2'</li><li>'Plin3'</li></ol>\n",
       "</dd>\n",
       "\t<dt>$Excitatory</dt>\n",
       "\t\t<dd><style>\n",
       ".list-inline {list-style: none; margin:0; padding: 0}\n",
       ".list-inline>li {display: inline-block}\n",
       ".list-inline>li:not(:last-child)::after {content: \"\\00b7\"; padding: 0 .5ex}\n",
       "</style>\n",
       "<ol class=list-inline><li>'Slc17a6'</li><li>'Bdnf'</li><li>'Cbln1'</li><li>'Fezf1'</li><li>'Ebf3'</li></ol>\n",
       "</dd>\n",
       "\t<dt>$Inhibitory</dt>\n",
       "\t\t<dd><style>\n",
       ".list-inline {list-style: none; margin:0; padding: 0}\n",
       ".list-inline>li {display: inline-block}\n",
       ".list-inline>li:not(:last-child)::after {content: \"\\00b7\"; padding: 0 .5ex}\n",
       "</style>\n",
       "<ol class=list-inline><li>'Gad1'</li><li>'Gda'</li><li>'Cpne5'</li><li>'Baiap2'</li><li>'Rgs2'</li><li>'Isl1'</li><li>'Htr2c'</li><li>'Ano3'</li><li>'Pnoc'</li><li>'Synpr'</li><li>'Sp9'</li><li>'Oprk1'</li><li>'Npy2r'</li><li>'Coch'</li><li>'Slc18a2'</li><li>'Crhbp'</li><li>'Brs3'</li><li>'Tacr3'</li><li>'Avpr1a'</li><li>'Oxtr'</li><li>'Scgn'</li><li>'Crhr1'</li><li>'Slc17a8'</li></ol>\n",
       "</dd>\n",
       "\t<dt>$Astrocyte</dt>\n",
       "\t\t<dd><style>\n",
       ".list-inline {list-style: none; margin:0; padding: 0}\n",
       ".list-inline>li {display: inline-block}\n",
       ".list-inline>li:not(:last-child)::after {content: \"\\00b7\"; padding: 0 .5ex}\n",
       "</style>\n",
       "<ol class=list-inline><li>'Aqp4'</li><li>'Aldh1l1'</li></ol>\n",
       "</dd>\n",
       "</dl>\n"
      ],
      "text/latex": [
       "\\begin{description}\n",
       "\\item[\\$Endothelial] \\begin{enumerate*}\n",
       "\\item 'Slco1a4'\n",
       "\\item 'Fn1'\n",
       "\\end{enumerate*}\n",
       "\n",
       "\\item[\\$Microglia] \\begin{enumerate*}\n",
       "\\item 'Selplg'\n",
       "\\item 'Slc15a3'\n",
       "\\end{enumerate*}\n",
       "\n",
       "\\item[\\$Mural] \\begin{enumerate*}\n",
       "\\item 'Myh11'\n",
       "\\item 'Lmod1'\n",
       "\\item 'Ace2'\n",
       "\\end{enumerate*}\n",
       "\n",
       "\\item[\\$`Immature oligodendrocyte`] 'Pdgfra'\n",
       "\\item[\\$`Mature oligodendrocyte`] \\begin{enumerate*}\n",
       "\\item 'Ermn'\n",
       "\\item 'Gjc3'\n",
       "\\item 'Lpar1'\n",
       "\\item 'Opalin'\n",
       "\\item 'Ndrg1'\n",
       "\\item 'Etv1'\n",
       "\\item 'Ttyh2'\n",
       "\\item 'Plin3'\n",
       "\\end{enumerate*}\n",
       "\n",
       "\\item[\\$Excitatory] \\begin{enumerate*}\n",
       "\\item 'Slc17a6'\n",
       "\\item 'Bdnf'\n",
       "\\item 'Cbln1'\n",
       "\\item 'Fezf1'\n",
       "\\item 'Ebf3'\n",
       "\\end{enumerate*}\n",
       "\n",
       "\\item[\\$Inhibitory] \\begin{enumerate*}\n",
       "\\item 'Gad1'\n",
       "\\item 'Gda'\n",
       "\\item 'Cpne5'\n",
       "\\item 'Baiap2'\n",
       "\\item 'Rgs2'\n",
       "\\item 'Isl1'\n",
       "\\item 'Htr2c'\n",
       "\\item 'Ano3'\n",
       "\\item 'Pnoc'\n",
       "\\item 'Synpr'\n",
       "\\item 'Sp9'\n",
       "\\item 'Oprk1'\n",
       "\\item 'Npy2r'\n",
       "\\item 'Coch'\n",
       "\\item 'Slc18a2'\n",
       "\\item 'Crhbp'\n",
       "\\item 'Brs3'\n",
       "\\item 'Tacr3'\n",
       "\\item 'Avpr1a'\n",
       "\\item 'Oxtr'\n",
       "\\item 'Scgn'\n",
       "\\item 'Crhr1'\n",
       "\\item 'Slc17a8'\n",
       "\\end{enumerate*}\n",
       "\n",
       "\\item[\\$Astrocyte] \\begin{enumerate*}\n",
       "\\item 'Aqp4'\n",
       "\\item 'Aldh1l1'\n",
       "\\end{enumerate*}\n",
       "\n",
       "\\end{description}\n"
      ],
      "text/markdown": [
       "$Endothelial\n",
       ":   1. 'Slco1a4'\n",
       "2. 'Fn1'\n",
       "\n",
       "\n",
       "\n",
       "$Microglia\n",
       ":   1. 'Selplg'\n",
       "2. 'Slc15a3'\n",
       "\n",
       "\n",
       "\n",
       "$Mural\n",
       ":   1. 'Myh11'\n",
       "2. 'Lmod1'\n",
       "3. 'Ace2'\n",
       "\n",
       "\n",
       "\n",
       "$`Immature oligodendrocyte`\n",
       ":   'Pdgfra'\n",
       "$`Mature oligodendrocyte`\n",
       ":   1. 'Ermn'\n",
       "2. 'Gjc3'\n",
       "3. 'Lpar1'\n",
       "4. 'Opalin'\n",
       "5. 'Ndrg1'\n",
       "6. 'Etv1'\n",
       "7. 'Ttyh2'\n",
       "8. 'Plin3'\n",
       "\n",
       "\n",
       "\n",
       "$Excitatory\n",
       ":   1. 'Slc17a6'\n",
       "2. 'Bdnf'\n",
       "3. 'Cbln1'\n",
       "4. 'Fezf1'\n",
       "5. 'Ebf3'\n",
       "\n",
       "\n",
       "\n",
       "$Inhibitory\n",
       ":   1. 'Gad1'\n",
       "2. 'Gda'\n",
       "3. 'Cpne5'\n",
       "4. 'Baiap2'\n",
       "5. 'Rgs2'\n",
       "6. 'Isl1'\n",
       "7. 'Htr2c'\n",
       "8. 'Ano3'\n",
       "9. 'Pnoc'\n",
       "10. 'Synpr'\n",
       "11. 'Sp9'\n",
       "12. 'Oprk1'\n",
       "13. 'Npy2r'\n",
       "14. 'Coch'\n",
       "15. 'Slc18a2'\n",
       "16. 'Crhbp'\n",
       "17. 'Brs3'\n",
       "18. 'Tacr3'\n",
       "19. 'Avpr1a'\n",
       "20. 'Oxtr'\n",
       "21. 'Scgn'\n",
       "22. 'Crhr1'\n",
       "23. 'Slc17a8'\n",
       "\n",
       "\n",
       "\n",
       "$Astrocyte\n",
       ":   1. 'Aqp4'\n",
       "2. 'Aldh1l1'\n",
       "\n",
       "\n",
       "\n",
       "\n",
       "\n"
      ],
      "text/plain": [
       "$Endothelial\n",
       "[1] \"Slco1a4\" \"Fn1\"    \n",
       "\n",
       "$Microglia\n",
       "[1] \"Selplg\"  \"Slc15a3\"\n",
       "\n",
       "$Mural\n",
       "[1] \"Myh11\" \"Lmod1\" \"Ace2\" \n",
       "\n",
       "$`Immature oligodendrocyte`\n",
       "[1] \"Pdgfra\"\n",
       "\n",
       "$`Mature oligodendrocyte`\n",
       "[1] \"Ermn\"   \"Gjc3\"   \"Lpar1\"  \"Opalin\" \"Ndrg1\"  \"Etv1\"   \"Ttyh2\"  \"Plin3\" \n",
       "\n",
       "$Excitatory\n",
       "[1] \"Slc17a6\" \"Bdnf\"    \"Cbln1\"   \"Fezf1\"   \"Ebf3\"   \n",
       "\n",
       "$Inhibitory\n",
       " [1] \"Gad1\"    \"Gda\"     \"Cpne5\"   \"Baiap2\"  \"Rgs2\"    \"Isl1\"    \"Htr2c\"  \n",
       " [8] \"Ano3\"    \"Pnoc\"    \"Synpr\"   \"Sp9\"     \"Oprk1\"   \"Npy2r\"   \"Coch\"   \n",
       "[15] \"Slc18a2\" \"Crhbp\"   \"Brs3\"    \"Tacr3\"   \"Avpr1a\"  \"Oxtr\"    \"Scgn\"   \n",
       "[22] \"Crhr1\"   \"Slc17a8\"\n",
       "\n",
       "$Astrocyte\n",
       "[1] \"Aqp4\"    \"Aldh1l1\"\n"
      ]
     },
     "metadata": {},
     "output_type": "display_data"
    }
   ],
   "source": [
    "markers_use"
   ]
  },
  {
   "cell_type": "code",
   "execution_count": 4,
   "id": "fc077c78-f394-4569-9403-ec26827c8be1",
   "metadata": {
    "execution": {
     "iopub.execute_input": "2025-04-17T15:24:18.278632Z",
     "iopub.status.busy": "2025-04-17T15:24:18.278079Z",
     "iopub.status.idle": "2025-04-17T15:24:20.042235Z",
     "shell.execute_reply": "2025-04-17T15:24:20.041330Z"
    },
    "vscode": {
     "languageId": "r"
    }
   },
   "outputs": [],
   "source": [
    "# load counts version of org and clean data\n",
    "base_dir <- CachePath('brain_scaled_dat4/')\n",
    "so_spatial_orig <- readRDS(paste0(base_dir,'so_spatial_orig.rds'))\n",
    "so_spatial_cln <- readRDS(paste0(base_dir,'so_spatial_cln_15_full.rds'))\n",
    "\n",
    "dat_orig <- so_spatial_orig[['RNA']]$counts\n",
    "meta_orig <- so_spatial_orig@meta.data\n",
    "\n",
    "dat_cln <- so_spatial_cln[['RNA']]$counts\n",
    "meta_cln <- so_spatial_cln@meta.data\n",
    "\n",
    "# subset data to same cells\n",
    "cells_both <- intersect(colnames(dat_orig),colnames(dat_cln))\n",
    "dat_orig <- dat_orig[,cells_both]\n",
    "dat_cln <- dat_cln[,cells_both]\n",
    "meta_orig <- meta_orig[cells_both,]\n",
    "\n",
    "# subset to just one cell type\n",
    "cells_keep <- rownames(meta_orig)[meta_orig$cell_type=='Microglia']\n",
    "meta_orig <- meta_orig[cells_keep,]\n",
    "dat_orig <- dat_orig[,cells_keep]\n",
    "dat_cln <- dat_cln[,cells_keep]\n",
    "\n",
    "# add annotation for regions to compare with de\n",
    "spatial_meta <- DatasetPath('mouse_hypothalamus', 'meta_with_spatial_clusts.rds') %>% readRDS()\n",
    "meta_orig$niche <- spatial_meta[rownames(meta_orig),'spat_clust']\n",
    "meta_orig$regions_compare <- sapply(meta_orig$niche, \\(x) {\n",
    "  if (x==3) {'ACA'} else {'other'}\n",
    "})\n",
    "meta_cln <- meta_orig"
   ]
  },
  {
   "cell_type": "code",
   "execution_count": 5,
   "id": "47d159f5-c972-4e68-bb61-7d8b4fef6520",
   "metadata": {
    "execution": {
     "iopub.execute_input": "2025-04-17T15:24:20.043941Z",
     "iopub.status.busy": "2025-04-17T15:24:20.043392Z",
     "iopub.status.idle": "2025-04-17T15:24:21.631514Z",
     "shell.execute_reply": "2025-04-17T15:24:21.630571Z"
    },
    "vscode": {
     "languageId": "r"
    }
   },
   "outputs": [
    {
     "name": "stderr",
     "output_type": "stream",
     "text": [
      "607 cells, 135 genes; normalizing ... \n",
      "\n",
      "Using plain model \n",
      "\n",
      "Winsorizing ... \n",
      "\n",
      "log scale ... \n",
      "\n",
      "done.\n",
      "\n",
      "\n",
      "calculating variance fit ...\n",
      "\n",
      " using gam \n",
      "\n",
      "8 overdispersed genes ... 8\n",
      "\n",
      "persisting ... \n",
      "\n",
      "done.\n",
      "\n",
      "running PCA using 135 OD genes .\n",
      "\n",
      ".\n",
      "\n",
      "Warning message in irlba(x, nv = nPcs, nu = 0, center = cm, right_only = FALSE, :\n",
      "“You're computing too large a percentage of total singular values, use a standard svd instead.”\n",
      ".\n",
      "\n",
      ".\n",
      "\n",
      " done\n",
      "\n",
      "\n"
     ]
    },
    {
     "name": "stdout",
     "output_type": "stream",
     "text": [
      "creating space of type angular done\n",
      "adding data ... done\n",
      "building index ... done\n",
      "querying ... done\n"
     ]
    },
    {
     "name": "stderr",
     "output_type": "stream",
     "text": [
      "running tSNE using 1 cores:\n",
      "\n",
      "\n",
      "running differential expression with 2 clusters ... \n",
      "\n",
      "adjusting p-values ... \n",
      "\n",
      "done.\n",
      "\n",
      "\n"
     ]
    },
    {
     "name": "stderr",
     "output_type": "stream",
     "text": [
      "running differential expression with 2 clusters ... \n",
      "\n",
      "adjusting p-values ... \n",
      "\n",
      "done.\n",
      "\n",
      "\n"
     ]
    }
   ],
   "source": [
    "## run de for original counts\n",
    "dat_pgda_orig <- basicP2proc(dat_orig, n.cores=1, min.cells.per.gene=0,\n",
    "                            n.odgenes=2e3, get.largevis=FALSE, make.geneknn=FALSE)\n",
    "regions_compare <- meta_orig$regions_compare\n",
    "names(regions_compare) <- rownames(meta_orig)\n",
    "de_out_orig <- dat_pgda_orig$getDifferentialGenes(verbose=TRUE,groups=regions_compare,z.threshold = 0,\n",
    "                                            upregulated.only=FALSE,append.auc = TRUE)\n",
    "de_out_orig <- de_out_orig[['ACA']]"
   ]
  },
  {
   "cell_type": "code",
   "execution_count": 6,
   "id": "c2dbf163-f358-4f90-a271-b4274aa02084",
   "metadata": {
    "execution": {
     "iopub.execute_input": "2025-04-17T15:24:21.633307Z",
     "iopub.status.busy": "2025-04-17T15:24:21.632745Z",
     "iopub.status.idle": "2025-04-17T15:24:22.527673Z",
     "shell.execute_reply": "2025-04-17T15:24:22.526990Z"
    },
    "vscode": {
     "languageId": "r"
    }
   },
   "outputs": [
    {
     "name": "stderr",
     "output_type": "stream",
     "text": [
      "Warning message:\n",
      "“\u001b[1m\u001b[22mRemoved 120 rows containing missing values or values outside the scale range (`geom_text_repel()`).”\n"
     ]
    },
    {
     "data": {
      "image/png": "[encoded data removed]",
      "text/plain": [
       "plot without title"
      ]
     },
     "metadata": {
      "image/png": {
       "height": 200,
       "width": 325
      }
     },
     "output_type": "display_data"
    }
   ],
   "source": [
    "####### trying adding neuron markers to the plot\n",
    "\n",
    "options(repr.plot.width = 3.25, repr.plot.height = 2, repr.plot.res = 200)\n",
    "\n",
    "## making volcano plot for original DE\n",
    "de_out_orig$padj <- 2*pnorm(abs(de_out_orig$Z), mean = 0, sd = 1, lower.tail = FALSE) # convert z back to padj\n",
    "de_out_orig$mark_other <- sapply(de_out_orig$Gene,function(x){\n",
    "  if (x %in% markers_use[[\"Mature oligodendrocyte\"]]) {\n",
    "    return('Mature OD marker')\n",
    "  } else if (x %in% markers_use[[\"Inhibitory\"]]) {\n",
    "    return('Inhibitory neuron marker')\n",
    "  } else {\n",
    "    return('other')\n",
    "  }\n",
    "})\n",
    "de_out_orig <- de_out_orig[order(de_out_orig$Z,decreasing=TRUE),]\n",
    "de_out_orig$logpv <- -log10(de_out_orig$padj)\n",
    "genes_to_label <- markers_use[[\"Mature oligodendrocyte\"]][markers_use[[\"Mature oligodendrocyte\"]] %in% de_out_orig[1:30,'Gene']]\n",
    "de_out_orig_flip <- de_out_orig[rev(1:nrow(de_out_orig)),]\n",
    "genes_to_label2 <- markers_use[[\"Inhibitory\"]][markers_use[[\"Inhibitory\"]] %in% de_out_orig_flip[1:30,'Gene']]\n",
    "genes_to_label <- unique(c(genes_to_label,genes_to_label2))\n",
    "ndx_lab <- which(de_out_orig$Gene %in% genes_to_label)\n",
    "de_out_orig$top_mark_other <- NA\n",
    "de_out_orig[ndx_lab,'top_mark_other'] <- de_out_orig$Gene[ndx_lab]\n",
    "de_out_orig$logpv[de_out_orig$logpv>50] <- 50\n",
    "ymax <- max(de_out_orig$logpv,na.rm=TRUE) + 1\n",
    "myColors <- c('red4','blue4','grey70')\n",
    "\n",
    "# Helper variables\n",
    "limits <- range(de_out_orig$logpv,na.rm = TRUE,finite = TRUE)\n",
    "step   <- diff(limits) * 0.1\n",
    "size   <- 0.45 * step\n",
    "\n",
    "de_out_orig$mark_other <- factor(de_out_orig$mark_other,levels=c('Mature OD marker','Inhibitory neuron marker','other'))\n",
    "bottom_lim <- min(limits[1] - as.numeric(de_out_orig$mark_other) * step - size) - .5\n",
    "\n",
    "p <- ggplot(de_out_orig,aes(x=M,y=logpv,color=mark_other,label=top_mark_other)) +\n",
    "  geom_segment(aes(y=ymax,yend=0,x = log2(1.5)),color='red',linetype='dashed',alpha=gg_line_alpha,linewidth=3*gg_line_thickness/4) +\n",
    "  geom_segment(aes(y=ymax,yend=0,x = -log2(1.5)),color='red',linetype='dashed',alpha=gg_line_alpha,linewidth=3*gg_line_thickness/4) +\n",
    "  geom_hline(yintercept=0,linewidth=gg_line_thickness,alpha=gg_line_alpha) +\n",
    "  geom_segment(aes(x=-Inf,xend=Inf,y = -log10(.05)),color='red',linetype='dashed',alpha=gg_line_alpha,linewidth=3*gg_line_thickness/4) +\n",
    "  geom_segment(\n",
    "    aes(\n",
    "      color = mark_other,\n",
    "      xend = M,\n",
    "      y    = limits[1] - as.numeric(mark_other) * step + size,\n",
    "      yend = limits[1] - as.numeric(mark_other) * step - size\n",
    "    ),\n",
    "      linewidth=gg_line_thickness\n",
    "  ) +\n",
    "  geom_text_repel(size=geom_text_size, family=font_choice, show.legend = FALSE) +\n",
    "  geom_vline(xintercept=0,linewidth=gg_line_thickness,alpha=gg_line_alpha) +\n",
    "  geom_point(data=de_out_orig[de_out_orig$mark_other=='other',],alpha=gg_point_alpha,size=gg_point_size) +\n",
    "  geom_point(data=de_out_orig[de_out_orig$mark_other=='Mature OD marker',],alpha=gg_point_alpha,size=gg_point_size) +\n",
    "  geom_point(data=de_out_orig[de_out_orig$mark_other=='Inhibitory neuron marker',],alpha=gg_point_alpha,size=gg_point_size) +\n",
    "  scale_y_continuous(limits=c(bottom_lim,ymax),expand = c(0, 0)) +\n",
    "  xlab('logFC') +\n",
    "  ylab('-log10(Padj)') +\n",
    "  ggtitle('Microglia DE (ACA vs. other regions)') +\n",
    "  scale_colour_manual(breaks = c('Mature OD marker','Inhibitory neuron marker','other'), values = myColors) +\n",
    "  theme_classic(base_line_size = gg_line_thickness) +\n",
    "  p_theme +\n",
    "  theme(plot.title = element_text(hjust = 0.5),\n",
    "       legend.title=element_blank()) +\n",
    "  legend_mod\n",
    "\n",
    "p"
   ]
  },
  {
   "cell_type": "code",
   "execution_count": 7,
   "id": "af9cfc5e-7bf6-4cd4-a930-2df0fce3a22f",
   "metadata": {
    "execution": {
     "iopub.execute_input": "2025-04-17T15:24:22.529335Z",
     "iopub.status.busy": "2025-04-17T15:24:22.528776Z",
     "iopub.status.idle": "2025-04-17T15:24:22.830023Z",
     "shell.execute_reply": "2025-04-17T15:24:22.829337Z"
    },
    "vscode": {
     "languageId": "r"
    }
   },
   "outputs": [
    {
     "name": "stderr",
     "output_type": "stream",
     "text": [
      "Warning message:\n",
      "“\u001b[1m\u001b[22mRemoved 120 rows containing missing values or values outside the scale range (`geom_text_repel()`).”\n"
     ]
    },
    {
     "data": {
      "text/html": [
       "<strong>png:</strong> 2"
      ],
      "text/latex": [
       "\\textbf{png:} 2"
      ],
      "text/markdown": [
       "**png:** 2"
      ],
      "text/plain": [
       "png \n",
       "  2 "
      ]
     },
     "metadata": {},
     "output_type": "display_data"
    }
   ],
   "source": [
    "pdf(OutputPath('brain_micro_de.pdf'), useDingbats=FALSE, width=3.45, height=2)\n",
    "p\n",
    "dev.off()"
   ]
  },
  {
   "cell_type": "code",
   "execution_count": 27,
   "id": "b4134d74-949c-4ecf-8c0d-89826d63acaf",
   "metadata": {
    "execution": {
     "iopub.execute_input": "2025-04-17T15:29:14.961510Z",
     "iopub.status.busy": "2025-04-17T15:29:14.960765Z",
     "iopub.status.idle": "2025-04-17T15:29:15.345920Z",
     "shell.execute_reply": "2025-04-17T15:29:15.344871Z"
    },
    "vscode": {
     "languageId": "r"
    }
   },
   "outputs": [
    {
     "data": {
      "text/html": [
       "<style>\n",
       ".list-inline {list-style: none; margin:0; padding: 0}\n",
       ".list-inline>li {display: inline-block}\n",
       ".list-inline>li:not(:last-child)::after {content: \"\\00b7\"; padding: 0 .5ex}\n",
       "</style>\n",
       "<ol class=list-inline><li>135</li><li>13</li></ol>\n"
      ],
      "text/latex": [
       "\\begin{enumerate*}\n",
       "\\item 135\n",
       "\\item 13\n",
       "\\end{enumerate*}\n"
      ],
      "text/markdown": [
       "1. 135\n",
       "2. 13\n",
       "\n",
       "\n"
      ],
      "text/plain": [
       "[1] 135  13"
      ]
     },
     "metadata": {},
     "output_type": "display_data"
    },
    {
     "data": {
      "text/html": [
       "<style>\n",
       ".list-inline {list-style: none; margin:0; padding: 0}\n",
       ".list-inline>li {display: inline-block}\n",
       ".list-inline>li:not(:last-child)::after {content: \"\\00b7\"; padding: 0 .5ex}\n",
       "</style>\n",
       "<ol class=list-inline><li>102</li><li>13</li></ol>\n"
      ],
      "text/latex": [
       "\\begin{enumerate*}\n",
       "\\item 102\n",
       "\\item 13\n",
       "\\end{enumerate*}\n"
      ],
      "text/markdown": [
       "1. 102\n",
       "2. 13\n",
       "\n",
       "\n"
      ],
      "text/plain": [
       "[1] 102  13"
      ]
     },
     "metadata": {},
     "output_type": "display_data"
    },
    {
     "name": "stdout",
     "output_type": "stream",
     "text": [
      "              pathway         pval        padj         ES       NES\n",
      "               <char>        <num>       <num>      <num>     <num>\n",
      "1:  mature_OD_markers 0.0005184033 0.001036807  0.9648389  2.654725\n",
      "2: inhibitory_markers 0.0387713457 0.038771346 -0.5845082 -1.451164\n",
      "   nMoreExtreme  size  leadingEdge\n",
      "          <num> <int>       <list>\n",
      "1:            0     8 Opalin, ....\n",
      "2:          360    23 Gad1, Ht....\n"
     ]
    }
   ],
   "source": [
    "## run fgsea\n",
    "mystats <- de_out_orig$M\n",
    "names(mystats) <- rownames(de_out_orig)\n",
    "mystats <- mystats[!is.na(mystats)]\n",
    "mystats <- mystats[is.finite(mystats)]\n",
    "set_list <- list(markers_use[[\"Mature oligodendrocyte\"]],markers_use[[\"Inhibitory\"]])\n",
    "names(set_list) <- c('mature_OD_markers','inhibitory_markers')\n",
    "fgsea_res <- fgsea::fgseaSimple(\n",
    "  pathways=set_list, stats = mystats, minSize=5, nperm=10000\n",
    ")\n",
    "print(head(fgsea_res))"
   ]
  },
  {
   "cell_type": "code",
   "execution_count": 28,
   "id": "9a826f26-f59e-4582-b7ee-567ff7fa5f06",
   "metadata": {
    "execution": {
     "iopub.execute_input": "2025-04-17T15:29:19.731838Z",
     "iopub.status.busy": "2025-04-17T15:29:19.730772Z",
     "iopub.status.idle": "2025-04-17T15:29:21.059823Z",
     "shell.execute_reply": "2025-04-17T15:29:21.058867Z"
    },
    "scrolled": true,
    "vscode": {
     "languageId": "r"
    }
   },
   "outputs": [
    {
     "name": "stderr",
     "output_type": "stream",
     "text": [
      "506 cells, 135 genes; normalizing ... \n",
      "\n",
      "Using plain model \n",
      "\n",
      "Winsorizing ... \n",
      "\n",
      "log scale ... \n",
      "\n",
      "done.\n",
      "\n",
      "\n",
      "calculating variance fit ...\n",
      "\n",
      " using gam \n",
      "\n",
      "3 overdispersed genes ... 3\n",
      "\n",
      "persisting ... \n",
      "\n",
      "done.\n",
      "\n",
      "running PCA using 135 OD genes .\n",
      "\n",
      ".\n",
      "\n",
      "Warning message in irlba(x, nv = nPcs, nu = 0, center = cm, right_only = FALSE, :\n",
      "“You're computing too large a percentage of total singular values, use a standard svd instead.”\n",
      ".\n",
      "\n",
      ".\n",
      "\n",
      " done\n",
      "\n",
      "\n"
     ]
    },
    {
     "name": "stdout",
     "output_type": "stream",
     "text": [
      "creating space of type angular done\n",
      "adding data ... done\n",
      "building index ... done\n",
      "querying ... done\n"
     ]
    },
    {
     "name": "stderr",
     "output_type": "stream",
     "text": [
      "running tSNE using 1 cores:\n",
      "\n",
      "\n",
      "running differential expression with 2 clusters ... \n",
      "\n",
      "adjusting p-values ... \n",
      "\n",
      "done.\n",
      "\n",
      "\n"
     ]
    }
   ],
   "source": [
    "## run de for cleaned data\n",
    "dat_pgda_cln <- basicP2proc(dat_cln, n.cores=1, min.cells.per.gene=0,\n",
    "                        n.odgenes=2e3, get.largevis=FALSE, make.geneknn=FALSE)\n",
    "regions_compare <- meta_cln$regions_compare\n",
    "names(regions_compare) <- rownames(meta_cln)\n",
    "de_out_cln <- dat_pgda_cln$getDifferentialGenes(verbose=TRUE,groups=regions_compare,z.threshold = 0,\n",
    "                                        upregulated.only=FALSE,append.auc = TRUE)\n",
    "de_out_cln <- de_out_cln[['ACA']]\n",
    "\n",
    "# order genes the same in both de results matrixes\n",
    "de_out_orig <- de_out_orig[rownames(de_out_cln),]"
   ]
  },
  {
   "cell_type": "code",
   "execution_count": 29,
   "id": "c7690df0-6a98-4498-92ee-cca0dc9d9fb4",
   "metadata": {
    "execution": {
     "iopub.execute_input": "2025-04-17T15:29:26.153816Z",
     "iopub.status.busy": "2025-04-17T15:29:26.153037Z",
     "iopub.status.idle": "2025-04-17T15:29:27.158905Z",
     "shell.execute_reply": "2025-04-17T15:29:27.158204Z"
    },
    "vscode": {
     "languageId": "r"
    }
   },
   "outputs": [
    {
     "name": "stderr",
     "output_type": "stream",
     "text": [
      "Warning message:\n",
      "“\u001b[1m\u001b[22mRemoved 120 rows containing missing values or values outside the scale range (`geom_text_repel()`).”\n"
     ]
    },
    {
     "data": {
      "image/png": "[encoded data removed]",
      "text/plain": [
       "plot without title"
      ]
     },
     "metadata": {
      "image/png": {
       "height": 200,
       "width": 350
      }
     },
     "output_type": "display_data"
    }
   ],
   "source": [
    "### also showing inhibitory neuron markers here\n",
    "\n",
    "options(repr.plot.width = 3.5, repr.plot.height = 2, repr.plot.res = 200)\n",
    "\n",
    "#### plot DE comparison\n",
    "z_thresh <- qnorm(.01/2,lower.tail = FALSE)\n",
    "tmp <- cbind.data.frame(de_out_orig[,'Z'],de_out_cln[,'Z'])\n",
    "colnames(tmp) <- c('orig','clean')\n",
    "rownames(tmp) <- rownames(de_out_orig)\n",
    "\n",
    "## trying to color points by tumor marker set belonging\n",
    "tmp$markers <- sapply(rownames(tmp),function(x){\n",
    "  if (x %in% markers_use[[\"Mature oligodendrocyte\"]]) {\n",
    "    return('Mature OD marker')\n",
    "  } else if (x %in% markers_use[[\"Inhibitory\"]]) {\n",
    "    return('Inhibitory neuron marker')\n",
    "  } else {\n",
    "    return('other')\n",
    "  }\n",
    "})\n",
    "ndx_lab <- match(genes_to_label,rownames(tmp))\n",
    "genes_to_label <- genes_to_label[!is.na(ndx_lab)]\n",
    "ndx_lab <- ndx_lab[!is.na(ndx_lab)]\n",
    "tmp$glab <- NA\n",
    "tmp[ndx_lab,'glab'] <- genes_to_label\n",
    "z_upper_thresh <- 20\n",
    "tmp[which(tmp$orig>z_upper_thresh),'orig'] <- z_upper_thresh\n",
    "tmp[which(tmp$orig<(-z_upper_thresh)),'orig'] <- -z_upper_thresh\n",
    "tmp[which(tmp$clean>z_upper_thresh),'clean'] <- z_upper_thresh\n",
    "tmp[which(tmp$clean<(-z_upper_thresh)),'clean'] <- -z_upper_thresh\n",
    "tmp$markers <- factor(tmp$markers,levels=c('Mature OD marker','Inhibitory neuron marker','other'))\n",
    "myColors <- c('red4','blue4','grey70')\n",
    "p <- ggplot(tmp,aes(x=orig,y=clean,color=markers,label=glab)) +\n",
    "  geom_point(data=tmp[tmp$markers=='other',],alpha=gg_point_alpha,size=gg_point_size) +\n",
    "  geom_point(data=tmp[tmp$markers=='Mature OD marker',],alpha=gg_point_alpha,size=gg_point_size) +\n",
    "  geom_point(data=tmp[tmp$markers=='Inhibitory neuron marker',],alpha=gg_point_alpha,size=gg_point_size) +\n",
    "  geom_text_repel(size=geom_text_size,show.legend = FALSE,family=font_choice) +\n",
    "  ggtitle('Microglia DE (ACA vs. other regions)') +\n",
    "  xlab('Z-score (original)') +\n",
    "  ylab('Z-score (cleaned)') +\n",
    "  geom_hline(linewidth=gg_line_thickness, yintercept = z_thresh,color='red',linetype='dashed',alpha=gg_line_alpha) +\n",
    "  geom_hline(linewidth=gg_line_thickness, yintercept = -1*z_thresh,color='red',linetype='dashed',alpha=gg_line_alpha) +\n",
    "  geom_hline(linewidth=gg_line_thickness, yintercept = 0,alpha=gg_line_alpha) +\n",
    "  geom_abline(linewidth=gg_line_thickness, slope = 1,intercept=0,alpha=gg_line_alpha) +\n",
    "  scale_colour_manual(breaks = c('Mature OD marker','Inhibitory neuron marker','other'), values = myColors) +\n",
    "  theme_classic(base_line_size = gg_line_thickness) +\n",
    "  p_theme +\n",
    "  theme(plot.title = element_text(hjust = 0.5),\n",
    "       legend.title=element_blank()) +\n",
    "  legend_mod\n",
    "\n",
    "p"
   ]
  },
  {
   "cell_type": "code",
   "execution_count": 16,
   "id": "75cc46fb-e61b-4ef6-b5de-fa9db3a22cb3",
   "metadata": {
    "vscode": {
     "languageId": "r"
    }
   },
   "outputs": [
    {
     "name": "stderr",
     "output_type": "stream",
     "text": [
      "Warning message:\n",
      "“\u001b[1m\u001b[22mRemoved 120 rows containing missing values or values outside the scale range\n",
      "(`geom_text_repel()`).”\n",
      "Warning message:\n",
      "“ggrepel: 2 unlabeled data points (too many overlaps). Consider increasing max.overlaps”\n"
     ]
    },
    {
     "data": {
      "text/html": [
       "<strong>png:</strong> 2"
      ],
      "text/latex": [
       "\\textbf{png:} 2"
      ],
      "text/markdown": [
       "**png:** 2"
      ],
      "text/plain": [
       "png \n",
       "  2 "
      ]
     },
     "metadata": {},
     "output_type": "display_data"
    }
   ],
   "source": [
    "pdf(OutputPath('brain_de_pre_post.pdf'), useDingbats=FALSE, width=3.75, height=2)\n",
    "p\n",
    "dev.off()"
   ]
  }
 ],
 "metadata": {
  "kernelspec": {
   "display_name": "R",
   "language": "R",
   "name": "ir"
  },
  "language_info": {
   "codemirror_mode": "r",
   "file_extension": ".r",
   "mimetype": "text/x-r-source",
   "name": "R",
   "pygments_lexer": "r",
   "version": "4.4.1"
  }
 },
 "nbformat": 4,
 "nbformat_minor": 5
}
