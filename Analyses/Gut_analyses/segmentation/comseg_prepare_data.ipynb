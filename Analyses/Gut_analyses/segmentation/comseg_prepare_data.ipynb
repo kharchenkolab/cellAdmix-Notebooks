{
 "cells": [
  {
   "cell_type": "code",
   "execution_count": 1,
   "metadata": {},
   "outputs": [],
   "source": [
    "import pandas as pd\n",
    "from skimage import io as sio\n",
    "\n",
    "import sys\n",
    "sys.path.append('../../../scripts/')\n",
    "\n",
    "from paths import get_data_paths"
   ]
  },
  {
   "cell_type": "code",
   "execution_count": 2,
   "metadata": {},
   "outputs": [],
   "source": [
    "data_path = get_data_paths('../../../data_mapping.yml')['mouse_gut']"
   ]
  },
  {
   "cell_type": "code",
   "execution_count": 40,
   "metadata": {},
   "outputs": [],
   "source": [
    "df = pd.read_csv(data_path / 'raw_data' / 'molecules.csv')\n",
    "df[['x', 'y']] = df[['x_pixel', 'y_pixel']].copy()\n",
    "df['z'] = ((df.z_um - 2.5) / 1.5).astype(int)\n",
    "df.to_csv(data_path / 'comseg_format' / 'data.csv')"
   ]
  }
 ],
 "metadata": {
  "kernelspec": {
   "display_name": "xenium-workflow",
   "language": "python",
   "name": "xenium-workflow"
  },
  "language_info": {
   "codemirror_mode": {
    "name": "ipython",
    "version": 3
   },
   "file_extension": ".py",
   "mimetype": "text/x-python",
   "name": "python",
   "nbconvert_exporter": "python",
   "pygments_lexer": "ipython3",
   "version": "3.10.0"
  }
 },
 "nbformat": 4,
 "nbformat_minor": 4
}
