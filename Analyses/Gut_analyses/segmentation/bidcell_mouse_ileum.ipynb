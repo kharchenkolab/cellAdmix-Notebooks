{
 "cells": [
  {
   "cell_type": "code",
   "execution_count": 1,
   "metadata": {
    "execution": {
     "iopub.execute_input": "2025-02-05T10:50:44.630481Z",
     "iopub.status.busy": "2025-02-05T10:50:44.630181Z",
     "iopub.status.idle": "2025-02-05T10:51:12.499298Z",
     "shell.execute_reply": "2025-02-05T10:51:12.498708Z",
     "shell.execute_reply.started": "2025-02-05T10:50:44.630466Z"
    }
   },
   "outputs": [],
   "source": [
    "from bidcell import BIDCellModel\n",
    "import pandas as pd\n",
    "import numpy as np\n",
    "import skimage.io as sio\n",
    "import cv2"
   ]
  },
  {
   "cell_type": "code",
   "execution_count": 1,
   "metadata": {},
   "outputs": [],
   "source": [
    "import sys\n",
    "sys.path.append('../../../scripts/')\n",
    "\n",
    "from paths import get_data_paths"
   ]
  },
  {
   "cell_type": "code",
   "execution_count": 3,
   "metadata": {},
   "outputs": [],
   "source": [
    "data_path = get_data_paths('../../../data_mapping.yml')['mouse_gut']\n",
    "rna_data_path = get_data_paths('../../../data_mapping.yml')['mouse_gut_rna']"
   ]
  },
  {
   "cell_type": "code",
   "execution_count": 2,
   "metadata": {
    "execution": {
     "iopub.execute_input": "2025-02-05T10:51:12.500519Z",
     "iopub.status.busy": "2025-02-05T10:51:12.500168Z",
     "iopub.status.idle": "2025-02-05T10:51:12.525847Z",
     "shell.execute_reply": "2025-02-05T10:51:12.525471Z",
     "shell.execute_reply.started": "2025-02-05T10:51:12.500502Z"
    }
   },
   "outputs": [],
   "source": [
    "DATA_FOLDER = data_path / 'seg_method_results' / 'bidcell'"
   ]
  },
  {
   "cell_type": "markdown",
   "metadata": {},
   "source": [
    "## Prepare data"
   ]
  },
  {
   "cell_type": "code",
   "execution_count": 3,
   "metadata": {
    "execution": {
     "iopub.execute_input": "2025-02-05T10:51:12.526626Z",
     "iopub.status.busy": "2025-02-05T10:51:12.526273Z",
     "iopub.status.idle": "2025-02-05T10:51:12.569710Z",
     "shell.execute_reply": "2025-02-05T10:51:12.569304Z",
     "shell.execute_reply.started": "2025-02-05T10:51:12.526614Z"
    }
   },
   "outputs": [],
   "source": [
    "INPUT_DIR = DATA_FOLDER / 'input'"
   ]
  },
  {
   "cell_type": "code",
   "execution_count": 4,
   "metadata": {
    "execution": {
     "iopub.execute_input": "2025-02-05T10:51:12.570651Z",
     "iopub.status.busy": "2025-02-05T10:51:12.570416Z",
     "iopub.status.idle": "2025-02-05T10:51:13.118214Z",
     "shell.execute_reply": "2025-02-05T10:51:13.117700Z",
     "shell.execute_reply.started": "2025-02-05T10:51:12.570639Z"
    }
   },
   "outputs": [],
   "source": [
    "df = pd.read_csv(data_path / 'raw_data' / 'molecules.csv')"
   ]
  },
  {
   "cell_type": "code",
   "execution_count": 5,
   "metadata": {
    "execution": {
     "iopub.execute_input": "2025-02-05T10:51:13.118801Z",
     "iopub.status.busy": "2025-02-05T10:51:13.118687Z",
     "iopub.status.idle": "2025-02-05T10:51:13.151897Z",
     "shell.execute_reply": "2025-02-05T10:51:13.151448Z",
     "shell.execute_reply.started": "2025-02-05T10:51:13.118790Z"
    }
   },
   "outputs": [
    {
     "name": "stdout",
     "output_type": "stream",
     "text": [
      "1023.222\n",
      "0.10896576319543508\n",
      "0.10895772548184432\n"
     ]
    }
   ],
   "source": [
    "print(df.y_um.max() - df.y_um.min())\n",
    "print((df.x_um.max() - df.x_um.min()) / (df.x_pixel.max() - df.x_pixel.min()))\n",
    "print((df.y_um.max() - df.y_um.min()) / (df.y_pixel.max() - df.y_pixel.min()))"
   ]
  },
  {
   "cell_type": "code",
   "execution_count": 6,
   "metadata": {
    "execution": {
     "iopub.execute_input": "2025-02-05T10:51:13.193554Z",
     "iopub.status.busy": "2025-02-05T10:51:13.193318Z",
     "iopub.status.idle": "2025-02-05T10:51:13.319444Z",
     "shell.execute_reply": "2025-02-05T10:51:13.318930Z",
     "shell.execute_reply.started": "2025-02-05T10:51:13.193540Z"
    }
   },
   "outputs": [],
   "source": [
    "dapi_img = sio.imread(data_path / 'raw_data' / 'dapi_stack.tif')"
   ]
  },
  {
   "cell_type": "code",
   "execution_count": 5,
   "metadata": {},
   "outputs": [],
   "source": [
    "sio.imsave(INPUT_DIR / 'dapi.tif', dapi_img[4,:,:])"
   ]
  },
  {
   "cell_type": "code",
   "execution_count": 6,
   "metadata": {},
   "outputs": [],
   "source": [
    "cm_full = pd.read_csv(rna_data_path / 'regional_sampling_UMIcounts.txt', sep='\\t')\n",
    "cm_full.set_index('GENE', inplace=True)\n",
    "cm_full = cm_full.T\n",
    "\n",
    "cell_meta = pd.read_csv(rna_data_path / 'mouse_int_meta.csv', index_col='NAME')\n",
    "cell_meta = cell_meta.loc[cm_full.index]\n",
    "cell_meta = cell_meta[cell_meta.Region == 'Ileum']\n",
    "cm_full = cm_full.loc[cell_meta.index,:]"
   ]
  },
  {
   "cell_type": "code",
   "execution_count": 11,
   "metadata": {},
   "outputs": [
    {
     "data": {
      "text/plain": [
       "(3927, 236)"
      ]
     },
     "execution_count": 11,
     "metadata": {},
     "output_type": "execute_result"
    }
   ],
   "source": [
    "common_genes = sorted(set(df.gene.unique()) & set(cm_full.columns))\n",
    "cm_full = cm_full.loc[:,common_genes]\n",
    "cm_full.shape"
   ]
  },
  {
   "cell_type": "code",
   "execution_count": 12,
   "metadata": {},
   "outputs": [],
   "source": [
    "cm_full['atlas'] = cell_meta.Mouse\n",
    "cm_full['cell_type'] = cell_meta.Cluster\n",
    "cm_full['ct_idx'] = pd.factorize(cm_full['cell_type'])[0]"
   ]
  },
  {
   "cell_type": "code",
   "execution_count": 13,
   "metadata": {},
   "outputs": [],
   "source": [
    "cm_bulk = cm_full.groupby(['atlas', 'cell_type', 'ct_idx']).sum()\n",
    "cm_bulk = np.log1p(10000 * (cm_bulk.T / cm_bulk.T.sum()).T).reset_index()\n",
    "cm_bulk = pd.concat([cm_bulk.iloc[:,3:], cm_bulk[['ct_idx', 'cell_type', 'atlas']]], axis=1)"
   ]
  },
  {
   "cell_type": "code",
   "execution_count": 61,
   "metadata": {},
   "outputs": [
    {
     "data": {
      "text/html": [
       "<div>\n",
       "<style scoped>\n",
       "    .dataframe tbody tr th:only-of-type {\n",
       "        vertical-align: middle;\n",
       "    }\n",
       "\n",
       "    .dataframe tbody tr th {\n",
       "        vertical-align: top;\n",
       "    }\n",
       "\n",
       "    .dataframe thead th {\n",
       "        text-align: right;\n",
       "    }\n",
       "</style>\n",
       "<table border=\"1\" class=\"dataframe\">\n",
       "  <thead>\n",
       "    <tr style=\"text-align: right;\">\n",
       "      <th>GENE</th>\n",
       "      <th>Acsl1</th>\n",
       "      <th>Acta2</th>\n",
       "      <th>Ada</th>\n",
       "      <th>Adgrd1</th>\n",
       "      <th>Adgrf5</th>\n",
       "      <th>Adra1a</th>\n",
       "      <th>Adra1b</th>\n",
       "      <th>Adra1d</th>\n",
       "      <th>Adra2a</th>\n",
       "      <th>Adra2b</th>\n",
       "      <th>...</th>\n",
       "      <th>Tpsb2</th>\n",
       "      <th>Trpm5</th>\n",
       "      <th>Tspan13</th>\n",
       "      <th>Txndc5</th>\n",
       "      <th>Tymp</th>\n",
       "      <th>Vcan</th>\n",
       "      <th>Vim</th>\n",
       "      <th>ct_idx</th>\n",
       "      <th>cell_type</th>\n",
       "      <th>atlas</th>\n",
       "    </tr>\n",
       "  </thead>\n",
       "  <tbody>\n",
       "    <tr>\n",
       "      <th>0</th>\n",
       "      <td>3.200296</td>\n",
       "      <td>0.000000</td>\n",
       "      <td>2.547091</td>\n",
       "      <td>0.904719</td>\n",
       "      <td>0.000000</td>\n",
       "      <td>0.0</td>\n",
       "      <td>0.0</td>\n",
       "      <td>0.0</td>\n",
       "      <td>2.843956</td>\n",
       "      <td>0.0</td>\n",
       "      <td>...</td>\n",
       "      <td>0.000000</td>\n",
       "      <td>0.904719</td>\n",
       "      <td>4.162987</td>\n",
       "      <td>4.936603</td>\n",
       "      <td>0.0</td>\n",
       "      <td>0.000000</td>\n",
       "      <td>0.000000</td>\n",
       "      <td>5</td>\n",
       "      <td>EP</td>\n",
       "      <td>m1</td>\n",
       "    </tr>\n",
       "    <tr>\n",
       "      <th>1</th>\n",
       "      <td>2.389191</td>\n",
       "      <td>0.000000</td>\n",
       "      <td>1.972749</td>\n",
       "      <td>1.783783</td>\n",
       "      <td>0.000000</td>\n",
       "      <td>0.0</td>\n",
       "      <td>0.0</td>\n",
       "      <td>0.0</td>\n",
       "      <td>1.245930</td>\n",
       "      <td>0.0</td>\n",
       "      <td>...</td>\n",
       "      <td>0.000000</td>\n",
       "      <td>0.805620</td>\n",
       "      <td>4.121734</td>\n",
       "      <td>4.541764</td>\n",
       "      <td>0.0</td>\n",
       "      <td>0.000000</td>\n",
       "      <td>1.245930</td>\n",
       "      <td>1</td>\n",
       "      <td>Enterocyte</td>\n",
       "      <td>m1</td>\n",
       "    </tr>\n",
       "    <tr>\n",
       "      <th>2</th>\n",
       "      <td>3.421252</td>\n",
       "      <td>0.000000</td>\n",
       "      <td>0.000000</td>\n",
       "      <td>0.000000</td>\n",
       "      <td>2.760254</td>\n",
       "      <td>0.0</td>\n",
       "      <td>0.0</td>\n",
       "      <td>0.0</td>\n",
       "      <td>0.000000</td>\n",
       "      <td>0.0</td>\n",
       "      <td>...</td>\n",
       "      <td>0.000000</td>\n",
       "      <td>0.000000</td>\n",
       "      <td>5.004205</td>\n",
       "      <td>5.532066</td>\n",
       "      <td>0.0</td>\n",
       "      <td>2.128461</td>\n",
       "      <td>5.833314</td>\n",
       "      <td>7</td>\n",
       "      <td>Enteroendocrine</td>\n",
       "      <td>m1</td>\n",
       "    </tr>\n",
       "    <tr>\n",
       "      <th>3</th>\n",
       "      <td>2.726494</td>\n",
       "      <td>0.000000</td>\n",
       "      <td>2.540263</td>\n",
       "      <td>0.000000</td>\n",
       "      <td>0.000000</td>\n",
       "      <td>0.0</td>\n",
       "      <td>0.0</td>\n",
       "      <td>0.0</td>\n",
       "      <td>2.726494</td>\n",
       "      <td>0.0</td>\n",
       "      <td>...</td>\n",
       "      <td>0.832088</td>\n",
       "      <td>1.080844</td>\n",
       "      <td>7.032010</td>\n",
       "      <td>7.293332</td>\n",
       "      <td>0.0</td>\n",
       "      <td>0.000000</td>\n",
       "      <td>0.000000</td>\n",
       "      <td>0</td>\n",
       "      <td>Goblet</td>\n",
       "      <td>m1</td>\n",
       "    </tr>\n",
       "    <tr>\n",
       "      <th>4</th>\n",
       "      <td>1.109939</td>\n",
       "      <td>0.000000</td>\n",
       "      <td>0.000000</td>\n",
       "      <td>0.000000</td>\n",
       "      <td>0.000000</td>\n",
       "      <td>0.0</td>\n",
       "      <td>0.0</td>\n",
       "      <td>0.0</td>\n",
       "      <td>1.311633</td>\n",
       "      <td>0.0</td>\n",
       "      <td>...</td>\n",
       "      <td>0.000000</td>\n",
       "      <td>0.000000</td>\n",
       "      <td>5.207952</td>\n",
       "      <td>4.127541</td>\n",
       "      <td>0.0</td>\n",
       "      <td>0.000000</td>\n",
       "      <td>0.000000</td>\n",
       "      <td>4</td>\n",
       "      <td>Paneth</td>\n",
       "      <td>m1</td>\n",
       "    </tr>\n",
       "    <tr>\n",
       "      <th>5</th>\n",
       "      <td>3.400266</td>\n",
       "      <td>0.000000</td>\n",
       "      <td>2.776673</td>\n",
       "      <td>0.000000</td>\n",
       "      <td>0.000000</td>\n",
       "      <td>0.0</td>\n",
       "      <td>0.0</td>\n",
       "      <td>0.0</td>\n",
       "      <td>3.419414</td>\n",
       "      <td>0.0</td>\n",
       "      <td>...</td>\n",
       "      <td>0.000000</td>\n",
       "      <td>1.007346</td>\n",
       "      <td>4.606015</td>\n",
       "      <td>4.790528</td>\n",
       "      <td>0.0</td>\n",
       "      <td>0.457071</td>\n",
       "      <td>0.000000</td>\n",
       "      <td>2</td>\n",
       "      <td>Stem</td>\n",
       "      <td>m1</td>\n",
       "    </tr>\n",
       "    <tr>\n",
       "      <th>6</th>\n",
       "      <td>3.486181</td>\n",
       "      <td>0.000000</td>\n",
       "      <td>2.748089</td>\n",
       "      <td>0.000000</td>\n",
       "      <td>0.000000</td>\n",
       "      <td>0.0</td>\n",
       "      <td>0.0</td>\n",
       "      <td>0.0</td>\n",
       "      <td>3.324679</td>\n",
       "      <td>0.0</td>\n",
       "      <td>...</td>\n",
       "      <td>0.000000</td>\n",
       "      <td>0.000000</td>\n",
       "      <td>4.337281</td>\n",
       "      <td>5.007718</td>\n",
       "      <td>0.0</td>\n",
       "      <td>0.000000</td>\n",
       "      <td>0.000000</td>\n",
       "      <td>3</td>\n",
       "      <td>TA</td>\n",
       "      <td>m1</td>\n",
       "    </tr>\n",
       "    <tr>\n",
       "      <th>7</th>\n",
       "      <td>3.476551</td>\n",
       "      <td>0.000000</td>\n",
       "      <td>2.178946</td>\n",
       "      <td>0.000000</td>\n",
       "      <td>0.000000</td>\n",
       "      <td>0.0</td>\n",
       "      <td>0.0</td>\n",
       "      <td>0.0</td>\n",
       "      <td>0.000000</td>\n",
       "      <td>0.0</td>\n",
       "      <td>...</td>\n",
       "      <td>0.000000</td>\n",
       "      <td>6.235203</td>\n",
       "      <td>5.464297</td>\n",
       "      <td>4.374119</td>\n",
       "      <td>0.0</td>\n",
       "      <td>0.000000</td>\n",
       "      <td>0.000000</td>\n",
       "      <td>6</td>\n",
       "      <td>Tuft</td>\n",
       "      <td>m1</td>\n",
       "    </tr>\n",
       "    <tr>\n",
       "      <th>8</th>\n",
       "      <td>2.680866</td>\n",
       "      <td>0.757597</td>\n",
       "      <td>2.512152</td>\n",
       "      <td>0.000000</td>\n",
       "      <td>0.000000</td>\n",
       "      <td>0.0</td>\n",
       "      <td>0.0</td>\n",
       "      <td>0.0</td>\n",
       "      <td>1.481476</td>\n",
       "      <td>0.0</td>\n",
       "      <td>...</td>\n",
       "      <td>0.000000</td>\n",
       "      <td>0.757597</td>\n",
       "      <td>4.505553</td>\n",
       "      <td>4.815266</td>\n",
       "      <td>0.0</td>\n",
       "      <td>0.000000</td>\n",
       "      <td>0.757597</td>\n",
       "      <td>5</td>\n",
       "      <td>EP</td>\n",
       "      <td>m2</td>\n",
       "    </tr>\n",
       "    <tr>\n",
       "      <th>9</th>\n",
       "      <td>2.802008</td>\n",
       "      <td>0.000000</td>\n",
       "      <td>1.652725</td>\n",
       "      <td>0.878408</td>\n",
       "      <td>0.000000</td>\n",
       "      <td>0.0</td>\n",
       "      <td>0.0</td>\n",
       "      <td>0.0</td>\n",
       "      <td>0.000000</td>\n",
       "      <td>0.0</td>\n",
       "      <td>...</td>\n",
       "      <td>0.000000</td>\n",
       "      <td>0.000000</td>\n",
       "      <td>4.600102</td>\n",
       "      <td>4.780747</td>\n",
       "      <td>0.0</td>\n",
       "      <td>0.000000</td>\n",
       "      <td>0.878408</td>\n",
       "      <td>1</td>\n",
       "      <td>Enterocyte</td>\n",
       "      <td>m2</td>\n",
       "    </tr>\n",
       "    <tr>\n",
       "      <th>10</th>\n",
       "      <td>0.000000</td>\n",
       "      <td>0.000000</td>\n",
       "      <td>1.877025</td>\n",
       "      <td>0.000000</td>\n",
       "      <td>2.490563</td>\n",
       "      <td>0.0</td>\n",
       "      <td>0.0</td>\n",
       "      <td>0.0</td>\n",
       "      <td>2.490563</td>\n",
       "      <td>0.0</td>\n",
       "      <td>...</td>\n",
       "      <td>0.000000</td>\n",
       "      <td>0.000000</td>\n",
       "      <td>5.326707</td>\n",
       "      <td>5.626548</td>\n",
       "      <td>0.0</td>\n",
       "      <td>0.000000</td>\n",
       "      <td>6.376059</td>\n",
       "      <td>7</td>\n",
       "      <td>Enteroendocrine</td>\n",
       "      <td>m2</td>\n",
       "    </tr>\n",
       "    <tr>\n",
       "      <th>11</th>\n",
       "      <td>3.082521</td>\n",
       "      <td>0.000000</td>\n",
       "      <td>3.447428</td>\n",
       "      <td>0.427667</td>\n",
       "      <td>0.000000</td>\n",
       "      <td>0.0</td>\n",
       "      <td>0.0</td>\n",
       "      <td>0.0</td>\n",
       "      <td>2.585847</td>\n",
       "      <td>0.0</td>\n",
       "      <td>...</td>\n",
       "      <td>0.955905</td>\n",
       "      <td>1.435572</td>\n",
       "      <td>7.026415</td>\n",
       "      <td>7.232168</td>\n",
       "      <td>0.0</td>\n",
       "      <td>0.000000</td>\n",
       "      <td>0.000000</td>\n",
       "      <td>0</td>\n",
       "      <td>Goblet</td>\n",
       "      <td>m2</td>\n",
       "    </tr>\n",
       "    <tr>\n",
       "      <th>12</th>\n",
       "      <td>0.497661</td>\n",
       "      <td>0.000000</td>\n",
       "      <td>0.676665</td>\n",
       "      <td>0.000000</td>\n",
       "      <td>0.279475</td>\n",
       "      <td>0.0</td>\n",
       "      <td>0.0</td>\n",
       "      <td>0.0</td>\n",
       "      <td>0.960183</td>\n",
       "      <td>0.0</td>\n",
       "      <td>...</td>\n",
       "      <td>0.000000</td>\n",
       "      <td>0.279475</td>\n",
       "      <td>5.172781</td>\n",
       "      <td>3.931383</td>\n",
       "      <td>0.0</td>\n",
       "      <td>0.000000</td>\n",
       "      <td>0.000000</td>\n",
       "      <td>4</td>\n",
       "      <td>Paneth</td>\n",
       "      <td>m2</td>\n",
       "    </tr>\n",
       "    <tr>\n",
       "      <th>13</th>\n",
       "      <td>3.132600</td>\n",
       "      <td>0.000000</td>\n",
       "      <td>3.269870</td>\n",
       "      <td>0.611719</td>\n",
       "      <td>0.000000</td>\n",
       "      <td>0.0</td>\n",
       "      <td>0.0</td>\n",
       "      <td>0.0</td>\n",
       "      <td>3.237278</td>\n",
       "      <td>0.0</td>\n",
       "      <td>...</td>\n",
       "      <td>0.000000</td>\n",
       "      <td>1.475767</td>\n",
       "      <td>4.794060</td>\n",
       "      <td>4.960915</td>\n",
       "      <td>0.0</td>\n",
       "      <td>1.261522</td>\n",
       "      <td>0.988498</td>\n",
       "      <td>2</td>\n",
       "      <td>Stem</td>\n",
       "      <td>m2</td>\n",
       "    </tr>\n",
       "    <tr>\n",
       "      <th>14</th>\n",
       "      <td>3.964510</td>\n",
       "      <td>0.000000</td>\n",
       "      <td>3.718603</td>\n",
       "      <td>0.000000</td>\n",
       "      <td>0.000000</td>\n",
       "      <td>0.0</td>\n",
       "      <td>0.0</td>\n",
       "      <td>0.0</td>\n",
       "      <td>1.908627</td>\n",
       "      <td>0.0</td>\n",
       "      <td>...</td>\n",
       "      <td>0.000000</td>\n",
       "      <td>0.000000</td>\n",
       "      <td>4.247436</td>\n",
       "      <td>4.933407</td>\n",
       "      <td>0.0</td>\n",
       "      <td>0.000000</td>\n",
       "      <td>0.000000</td>\n",
       "      <td>3</td>\n",
       "      <td>TA</td>\n",
       "      <td>m2</td>\n",
       "    </tr>\n",
       "    <tr>\n",
       "      <th>15</th>\n",
       "      <td>1.723490</td>\n",
       "      <td>0.000000</td>\n",
       "      <td>0.000000</td>\n",
       "      <td>0.000000</td>\n",
       "      <td>0.000000</td>\n",
       "      <td>0.0</td>\n",
       "      <td>0.0</td>\n",
       "      <td>0.0</td>\n",
       "      <td>3.178898</td>\n",
       "      <td>0.0</td>\n",
       "      <td>...</td>\n",
       "      <td>0.000000</td>\n",
       "      <td>6.307884</td>\n",
       "      <td>5.443294</td>\n",
       "      <td>4.482742</td>\n",
       "      <td>0.0</td>\n",
       "      <td>0.000000</td>\n",
       "      <td>0.000000</td>\n",
       "      <td>6</td>\n",
       "      <td>Tuft</td>\n",
       "      <td>m2</td>\n",
       "    </tr>\n",
       "  </tbody>\n",
       "</table>\n",
       "<p>16 rows × 239 columns</p>\n",
       "</div>"
      ],
      "text/plain": [
       "GENE     Acsl1     Acta2       Ada    Adgrd1    Adgrf5  Adra1a  Adra1b  \\\n",
       "0     3.200296  0.000000  2.547091  0.904719  0.000000     0.0     0.0   \n",
       "1     2.389191  0.000000  1.972749  1.783783  0.000000     0.0     0.0   \n",
       "2     3.421252  0.000000  0.000000  0.000000  2.760254     0.0     0.0   \n",
       "3     2.726494  0.000000  2.540263  0.000000  0.000000     0.0     0.0   \n",
       "4     1.109939  0.000000  0.000000  0.000000  0.000000     0.0     0.0   \n",
       "5     3.400266  0.000000  2.776673  0.000000  0.000000     0.0     0.0   \n",
       "6     3.486181  0.000000  2.748089  0.000000  0.000000     0.0     0.0   \n",
       "7     3.476551  0.000000  2.178946  0.000000  0.000000     0.0     0.0   \n",
       "8     2.680866  0.757597  2.512152  0.000000  0.000000     0.0     0.0   \n",
       "9     2.802008  0.000000  1.652725  0.878408  0.000000     0.0     0.0   \n",
       "10    0.000000  0.000000  1.877025  0.000000  2.490563     0.0     0.0   \n",
       "11    3.082521  0.000000  3.447428  0.427667  0.000000     0.0     0.0   \n",
       "12    0.497661  0.000000  0.676665  0.000000  0.279475     0.0     0.0   \n",
       "13    3.132600  0.000000  3.269870  0.611719  0.000000     0.0     0.0   \n",
       "14    3.964510  0.000000  3.718603  0.000000  0.000000     0.0     0.0   \n",
       "15    1.723490  0.000000  0.000000  0.000000  0.000000     0.0     0.0   \n",
       "\n",
       "GENE  Adra1d    Adra2a  Adra2b  ...     Tpsb2     Trpm5   Tspan13    Txndc5  \\\n",
       "0        0.0  2.843956     0.0  ...  0.000000  0.904719  4.162987  4.936603   \n",
       "1        0.0  1.245930     0.0  ...  0.000000  0.805620  4.121734  4.541764   \n",
       "2        0.0  0.000000     0.0  ...  0.000000  0.000000  5.004205  5.532066   \n",
       "3        0.0  2.726494     0.0  ...  0.832088  1.080844  7.032010  7.293332   \n",
       "4        0.0  1.311633     0.0  ...  0.000000  0.000000  5.207952  4.127541   \n",
       "5        0.0  3.419414     0.0  ...  0.000000  1.007346  4.606015  4.790528   \n",
       "6        0.0  3.324679     0.0  ...  0.000000  0.000000  4.337281  5.007718   \n",
       "7        0.0  0.000000     0.0  ...  0.000000  6.235203  5.464297  4.374119   \n",
       "8        0.0  1.481476     0.0  ...  0.000000  0.757597  4.505553  4.815266   \n",
       "9        0.0  0.000000     0.0  ...  0.000000  0.000000  4.600102  4.780747   \n",
       "10       0.0  2.490563     0.0  ...  0.000000  0.000000  5.326707  5.626548   \n",
       "11       0.0  2.585847     0.0  ...  0.955905  1.435572  7.026415  7.232168   \n",
       "12       0.0  0.960183     0.0  ...  0.000000  0.279475  5.172781  3.931383   \n",
       "13       0.0  3.237278     0.0  ...  0.000000  1.475767  4.794060  4.960915   \n",
       "14       0.0  1.908627     0.0  ...  0.000000  0.000000  4.247436  4.933407   \n",
       "15       0.0  3.178898     0.0  ...  0.000000  6.307884  5.443294  4.482742   \n",
       "\n",
       "GENE  Tymp      Vcan       Vim  ct_idx        cell_type  atlas  \n",
       "0      0.0  0.000000  0.000000       5               EP     m1  \n",
       "1      0.0  0.000000  1.245930       1       Enterocyte     m1  \n",
       "2      0.0  2.128461  5.833314       7  Enteroendocrine     m1  \n",
       "3      0.0  0.000000  0.000000       0           Goblet     m1  \n",
       "4      0.0  0.000000  0.000000       4           Paneth     m1  \n",
       "5      0.0  0.457071  0.000000       2             Stem     m1  \n",
       "6      0.0  0.000000  0.000000       3               TA     m1  \n",
       "7      0.0  0.000000  0.000000       6             Tuft     m1  \n",
       "8      0.0  0.000000  0.757597       5               EP     m2  \n",
       "9      0.0  0.000000  0.878408       1       Enterocyte     m2  \n",
       "10     0.0  0.000000  6.376059       7  Enteroendocrine     m2  \n",
       "11     0.0  0.000000  0.000000       0           Goblet     m2  \n",
       "12     0.0  0.000000  0.000000       4           Paneth     m2  \n",
       "13     0.0  1.261522  0.988498       2             Stem     m2  \n",
       "14     0.0  0.000000  0.000000       3               TA     m2  \n",
       "15     0.0  0.000000  0.000000       6             Tuft     m2  \n",
       "\n",
       "[16 rows x 239 columns]"
      ]
     },
     "execution_count": 61,
     "metadata": {},
     "output_type": "execute_result"
    }
   ],
   "source": [
    "cm_bulk"
   ]
  },
  {
   "cell_type": "code",
   "execution_count": 56,
   "metadata": {},
   "outputs": [],
   "source": [
    "cm_bulk.to_csv(f'{INPUT_DIR}/sc_ref.csv')"
   ]
  },
  {
   "cell_type": "code",
   "execution_count": 16,
   "metadata": {},
   "outputs": [],
   "source": [
    "df[df.gene.isin(common_genes)].to_csv(f'{INPUT_DIR}/molecules.csv', index=False)"
   ]
  },
  {
   "cell_type": "markdown",
   "metadata": {},
   "source": [
    "### Find markers"
   ]
  },
  {
   "cell_type": "markdown",
   "metadata": {},
   "source": [
    "Copied from https://github.com/SydneyBioX/BIDCell/issues/9"
   ]
  },
  {
   "cell_type": "code",
   "execution_count": 30,
   "metadata": {},
   "outputs": [
    {
     "name": "stdout",
     "output_type": "stream",
     "text": [
      "Ref data shape (16, 239)\n"
     ]
    }
   ],
   "source": [
    "# import numpy as np\n",
    "# import pandas as pd\n",
    "import natsort\n",
    "\n",
    "max_overlaps_neg = 15\n",
    "max_overlaps_pos = 4\n",
    "\n",
    "ref_df = cm_bulk\n",
    "n_genes = ref_df.shape[1] - 3\n",
    "print(\"Ref data shape\", ref_df.shape)"
   ]
  },
  {
   "cell_type": "code",
   "execution_count": 32,
   "metadata": {},
   "outputs": [
    {
     "name": "stdout",
     "output_type": "stream",
     "text": [
      "['EP', 'Enterocyte', 'Enteroendocrine', 'Goblet', 'Paneth', 'Stem', 'TA', 'Tuft']\n"
     ]
    }
   ],
   "source": [
    "cell_types = ref_df[\"cell_type\"].tolist()\n",
    "cell_types = natsort.natsorted(list(set(cell_types)))\n",
    "print(cell_types)\n",
    "n_cell_types = len(cell_types)\n",
    "\n",
    "ref_expr = ref_df.iloc[:, :n_genes].to_numpy()\n",
    "gene_names = ref_df.columns[:n_genes]\n",
    "\n",
    "# Find genes with expressions in bottom 10% percentile for every ref cell type\n",
    "pct_10 = np.percentile(ref_expr, 10, axis=1, keepdims=True)\n",
    "pct_10 = np.tile(pct_10, (1, n_genes))\n",
    "low_expr_true = np.zeros(pct_10.shape)\n",
    "low_expr_true[ref_expr <= pct_10] = 1\n",
    "\n",
    "# Find overlap for different ref samples of the same cell type\n",
    "ct_idx = ref_df[\"ct_idx\"].to_numpy()\n",
    "low_expr_true_agg = np.zeros((n_cell_types, n_genes))\n",
    "for ct in range(n_cell_types):\n",
    "    rows = np.where(ct_idx == ct)[0]\n",
    "    low_expr_true_ct = low_expr_true[rows]\n",
    "    low_expr_true_agg[ct, :] = np.prod(low_expr_true_ct, axis=0)\n",
    "\n",
    "# Set overlaps to 0\n",
    "overlaps = np.sum(low_expr_true_agg, 0)\n",
    "too_many = np.where(overlaps > max_overlaps_neg)[0]\n",
    "low_expr_true_agg[:, too_many] = 0\n",
    "\n",
    "# print(\"num neg genes per cell type\")\n",
    "# print(np.sum(low_expr_true_agg, 1))\n",
    "\n",
    "df_neg = pd.DataFrame(low_expr_true_agg, index=cell_types, columns=gene_names)\n",
    "\n",
    "# Find genes with expressions in top 90% percentile for every ref cell type\n",
    "pct_90 = np.percentile(ref_expr, 90, axis=1, keepdims=True)\n",
    "pct_90 = np.tile(pct_90, (1, n_genes))\n",
    "high_expr_true = np.zeros(pct_90.shape)\n",
    "high_expr_true[ref_expr >= pct_90] = 1\n",
    "\n",
    "# Find overlap for different ref samples of the same cell type\n",
    "ct_idx = ref_df[\"ct_idx\"].to_numpy()\n",
    "high_expr_true_agg = np.zeros((n_cell_types, n_genes))\n",
    "for ct in range(n_cell_types):\n",
    "    rows = np.where(ct_idx == ct)[0]\n",
    "    high_expr_true_ct = high_expr_true[rows]\n",
    "    high_expr_true_agg[ct, :] = np.prod(high_expr_true_ct, axis=0)\n",
    "\n",
    "# print(\"num pos genes per cell type\")\n",
    "# print(np.sum(high_expr_true_agg, 1))\n",
    "\n",
    "# Set overlaps to 0\n",
    "overlaps = np.sum(high_expr_true_agg, 0)\n",
    "too_many = np.where(overlaps > max_overlaps_pos)[0]\n",
    "high_expr_true_agg[:, too_many] = 0\n",
    "\n",
    "df_pos = pd.DataFrame(high_expr_true_agg, index=cell_types, columns=gene_names)"
   ]
  },
  {
   "cell_type": "code",
   "execution_count": 33,
   "metadata": {},
   "outputs": [],
   "source": [
    "df_pos.to_csv(f'{INPUT_DIR}/sc_pos_markers.csv')\n",
    "df_neg.to_csv(f'{INPUT_DIR}/sc_neg_markers.csv')"
   ]
  },
  {
   "cell_type": "markdown",
   "metadata": {},
   "source": [
    "## Run BIDCell"
   ]
  },
  {
   "cell_type": "code",
   "execution_count": 32,
   "metadata": {},
   "outputs": [],
   "source": [
    "model = BIDCellModel(\"merfish_ileum_config.yaml\")"
   ]
  },
  {
   "cell_type": "code",
   "execution_count": null,
   "metadata": {},
   "outputs": [
    {
     "name": "stdout",
     "output_type": "stream",
     "text": [
      "Number of cells 24\n",
      "Number of splits for multiprocessing: 5\n",
      "Done\n",
      "Number of cells: 24\n",
      "Number of splits for multiprocessing: 5\n",
      "Computing simple annotation\n"
     ]
    }
   ],
   "source": [
    "model.preprocess()"
   ]
  },
  {
   "cell_type": "code",
   "execution_count": null,
   "metadata": {},
   "outputs": [
    {
     "data": {
      "image/png": "[encoded data removed]",
      "text/plain": [
       "<Figure size 640x480 with 1 Axes>"
      ]
     },
     "metadata": {},
     "output_type": "display_data"
    }
   ],
   "source": [
    "model.train()"
   ]
  },
  {
   "cell_type": "code",
   "execution_count": null,
   "metadata": {},
   "outputs": [
    {
     "name": "stderr",
     "output_type": "stream",
     "text": [
      "\n"
     ]
    }
   ],
   "source": [
    "model.predict()"
   ]
  },
  {
   "cell_type": "markdown",
   "metadata": {},
   "source": [
    "## Check results"
   ]
  },
  {
   "cell_type": "code",
   "execution_count": null,
   "metadata": {},
   "outputs": [],
   "source": [
    "im = sio.imread(f'{DATA_FOLDER}/output/model_outputs/2024_11_12_06_37_26/test_output/epoch_10_step_120_connected.tif')\n",
    "print(im.max())\n",
    "sio.imshow(im)"
   ]
  },
  {
   "cell_type": "code",
   "execution_count": 17,
   "metadata": {
    "execution": {
     "iopub.execute_input": "2025-02-05T10:52:55.585738Z",
     "iopub.status.busy": "2025-02-05T10:52:55.585385Z",
     "iopub.status.idle": "2025-02-05T10:52:55.655655Z",
     "shell.execute_reply": "2025-02-05T10:52:55.655096Z",
     "shell.execute_reply.started": "2025-02-05T10:52:55.585724Z"
    }
   },
   "outputs": [],
   "source": [
    "cells = cv2.resize(\n",
    "    im.astype(float), (dapi_img.shape[1], dapi_img.shape[2]), interpolation=cv2.INTER_NEAREST\n",
    ").astype(np.uint32)"
   ]
  },
  {
   "cell_type": "code",
   "execution_count": null,
   "metadata": {},
   "outputs": [],
   "source": [
    "sio.imsave(f'{DATA_FOLDER}/output/model_outputs/2024_11_12_06_37_26/test_output/cells_resized.tif', cells)"
   ]
  }
 ],
 "metadata": {
  "kernelspec": {
   "display_name": "xenium-workflow",
   "language": "python",
   "name": "xenium-workflow"
  },
  "language_info": {
   "codemirror_mode": {
    "name": "ipython",
    "version": 3
   },
   "file_extension": ".py",
   "mimetype": "text/x-python",
   "name": "python",
   "nbconvert_exporter": "python",
   "pygments_lexer": "ipython3",
   "version": "3.10.0"
  }
 },
 "nbformat": 4,
 "nbformat_minor": 4
}
