{
 "cells": [
  {
   "cell_type": "code",
   "execution_count": null,
   "metadata": {
    "execution": {
     "iopub.execute_input": "2025-02-05T11:39:10.246673Z",
     "iopub.status.busy": "2025-02-05T11:39:10.246363Z",
     "iopub.status.idle": "2025-02-05T11:39:10.303222Z",
     "shell.execute_reply": "2025-02-05T11:39:10.302872Z",
     "shell.execute_reply.started": "2025-02-05T11:39:10.246657Z"
    },
    "scrolled": true
   },
   "outputs": [
    {
     "name": "stdout",
     "output_type": "stream",
     "text": [
      "The autoreload extension is already loaded. To reload it, use:\n",
      "  %reload_ext autoreload\n"
     ]
    }
   ],
   "source": [
    "%load_ext autoreload\n",
    "%autoreload 2\n",
    "\n",
    "import sys\n",
    "sys.path.append('../../../../SCS')\n",
    "sys.path.append('../../../scripts/')\n",
    "\n",
    "from seg_utils import bin_2d_data\n",
    "import pandas as pd\n",
    "import matplotlib.pyplot as plt\n",
    "import math\n",
    "import skimage.io as sio\n",
    "\n",
    "from paths import get_data_paths\n",
    "\n",
    "%matplotlib inline"
   ]
  },
  {
   "cell_type": "code",
   "execution_count": 4,
   "metadata": {},
   "outputs": [],
   "source": [
    "data_path = get_data_paths('../../../data_mapping.yml')['mouse_gut']"
   ]
  },
  {
   "cell_type": "code",
   "execution_count": 13,
   "metadata": {
    "execution": {
     "iopub.execute_input": "2025-02-05T11:39:10.304007Z",
     "iopub.status.busy": "2025-02-05T11:39:10.303820Z",
     "iopub.status.idle": "2025-02-05T11:39:10.351821Z",
     "shell.execute_reply": "2025-02-05T11:39:10.351470Z",
     "shell.execute_reply.started": "2025-02-05T11:39:10.303994Z"
    }
   },
   "outputs": [],
   "source": [
    "OUT_FOLDER = data_path / 'seg_method_results' / 'scs'\n",
    "\n",
    "INPUT_FOLDER = OUT_FOLDER / 'input'\n",
    "IMG_PATH = INPUT_FOLDER / 'dapi.tif'\n",
    "BIN_PATH = INPUT_FOLDER / 'bin_df.tsv'"
   ]
  },
  {
   "cell_type": "code",
   "execution_count": 14,
   "metadata": {
    "execution": {
     "iopub.execute_input": "2025-02-05T11:39:10.352359Z",
     "iopub.status.busy": "2025-02-05T11:39:10.352178Z",
     "iopub.status.idle": "2025-02-05T11:39:10.446887Z",
     "shell.execute_reply": "2025-02-05T11:39:10.446540Z",
     "shell.execute_reply.started": "2025-02-05T11:39:10.352347Z"
    }
   },
   "outputs": [
    {
     "data": {
      "text/plain": [
       "1.0896"
      ]
     },
     "execution_count": 14,
     "metadata": {},
     "output_type": "execute_result"
    }
   ],
   "source": [
    "pixel_scale = 0.10896\n",
    "pixel_step = 10\n",
    "pixel_step * pixel_scale"
   ]
  },
  {
   "cell_type": "markdown",
   "metadata": {},
   "source": [
    "## Prepare data"
   ]
  },
  {
   "cell_type": "code",
   "execution_count": 15,
   "metadata": {
    "execution": {
     "iopub.execute_input": "2025-02-05T11:39:10.447469Z",
     "iopub.status.busy": "2025-02-05T11:39:10.447264Z",
     "iopub.status.idle": "2025-02-05T11:39:10.918491Z",
     "shell.execute_reply": "2025-02-05T11:39:10.918129Z",
     "shell.execute_reply.started": "2025-02-05T11:39:10.447456Z"
    }
   },
   "outputs": [
    {
     "data": {
      "text/html": [
       "<div>\n",
       "<style scoped>\n",
       "    .dataframe tbody tr th:only-of-type {\n",
       "        vertical-align: middle;\n",
       "    }\n",
       "\n",
       "    .dataframe tbody tr th {\n",
       "        vertical-align: top;\n",
       "    }\n",
       "\n",
       "    .dataframe thead th {\n",
       "        text-align: right;\n",
       "    }\n",
       "</style>\n",
       "<table border=\"1\" class=\"dataframe\">\n",
       "  <thead>\n",
       "    <tr style=\"text-align: right;\">\n",
       "      <th></th>\n",
       "      <th>molecule_id</th>\n",
       "      <th>gene</th>\n",
       "      <th>x_pixel</th>\n",
       "      <th>y_pixel</th>\n",
       "      <th>z_pixel</th>\n",
       "      <th>x_um</th>\n",
       "      <th>y_um</th>\n",
       "      <th>z_um</th>\n",
       "      <th>area</th>\n",
       "      <th>total_magnitude</th>\n",
       "      <th>brightness</th>\n",
       "      <th>qc_score</th>\n",
       "    </tr>\n",
       "  </thead>\n",
       "  <tbody>\n",
       "    <tr>\n",
       "      <th>0</th>\n",
       "      <td>1</td>\n",
       "      <td>Maoa</td>\n",
       "      <td>1705</td>\n",
       "      <td>1271</td>\n",
       "      <td>0.0</td>\n",
       "      <td>-2935.386</td>\n",
       "      <td>-1218.580</td>\n",
       "      <td>2.5</td>\n",
       "      <td>4</td>\n",
       "      <td>420.1126</td>\n",
       "      <td>2.021306</td>\n",
       "      <td>0.954363</td>\n",
       "    </tr>\n",
       "    <tr>\n",
       "      <th>1</th>\n",
       "      <td>2</td>\n",
       "      <td>Maoa</td>\n",
       "      <td>1725</td>\n",
       "      <td>1922</td>\n",
       "      <td>0.0</td>\n",
       "      <td>-2933.229</td>\n",
       "      <td>-1147.614</td>\n",
       "      <td>2.5</td>\n",
       "      <td>4</td>\n",
       "      <td>269.5874</td>\n",
       "      <td>1.828640</td>\n",
       "      <td>0.908246</td>\n",
       "    </tr>\n",
       "    <tr>\n",
       "      <th>2</th>\n",
       "      <td>3</td>\n",
       "      <td>Maoa</td>\n",
       "      <td>1753</td>\n",
       "      <td>1863</td>\n",
       "      <td>0.0</td>\n",
       "      <td>-2930.104</td>\n",
       "      <td>-1154.062</td>\n",
       "      <td>2.5</td>\n",
       "      <td>5</td>\n",
       "      <td>501.4615</td>\n",
       "      <td>2.001268</td>\n",
       "      <td>0.977219</td>\n",
       "    </tr>\n",
       "    <tr>\n",
       "      <th>3</th>\n",
       "      <td>4</td>\n",
       "      <td>Maoa</td>\n",
       "      <td>1760</td>\n",
       "      <td>1865</td>\n",
       "      <td>0.0</td>\n",
       "      <td>-2929.339</td>\n",
       "      <td>-1153.784</td>\n",
       "      <td>2.5</td>\n",
       "      <td>7</td>\n",
       "      <td>639.0364</td>\n",
       "      <td>1.960428</td>\n",
       "      <td>0.991316</td>\n",
       "    </tr>\n",
       "    <tr>\n",
       "      <th>4</th>\n",
       "      <td>5</td>\n",
       "      <td>Maoa</td>\n",
       "      <td>1904</td>\n",
       "      <td>794</td>\n",
       "      <td>0.0</td>\n",
       "      <td>-2913.718</td>\n",
       "      <td>-1270.474</td>\n",
       "      <td>2.5</td>\n",
       "      <td>6</td>\n",
       "      <td>519.3154</td>\n",
       "      <td>1.937280</td>\n",
       "      <td>0.983210</td>\n",
       "    </tr>\n",
       "  </tbody>\n",
       "</table>\n",
       "</div>"
      ],
      "text/plain": [
       "   molecule_id  gene  x_pixel  y_pixel  z_pixel      x_um      y_um  z_um  \\\n",
       "0            1  Maoa     1705     1271      0.0 -2935.386 -1218.580   2.5   \n",
       "1            2  Maoa     1725     1922      0.0 -2933.229 -1147.614   2.5   \n",
       "2            3  Maoa     1753     1863      0.0 -2930.104 -1154.062   2.5   \n",
       "3            4  Maoa     1760     1865      0.0 -2929.339 -1153.784   2.5   \n",
       "4            5  Maoa     1904      794      0.0 -2913.718 -1270.474   2.5   \n",
       "\n",
       "   area  total_magnitude  brightness  qc_score  \n",
       "0     4         420.1126    2.021306  0.954363  \n",
       "1     4         269.5874    1.828640  0.908246  \n",
       "2     5         501.4615    2.001268  0.977219  \n",
       "3     7         639.0364    1.960428  0.991316  \n",
       "4     6         519.3154    1.937280  0.983210  "
      ]
     },
     "execution_count": 15,
     "metadata": {},
     "output_type": "execute_result"
    }
   ],
   "source": [
    "df = pd.read_csv(data_path / 'raw_data' / 'molecules.csv')\n",
    "df.head()"
   ]
  },
  {
   "cell_type": "code",
   "execution_count": 16,
   "metadata": {
    "execution": {
     "iopub.execute_input": "2025-02-05T11:39:10.919561Z",
     "iopub.status.busy": "2025-02-05T11:39:10.919333Z",
     "iopub.status.idle": "2025-02-05T11:39:11.054117Z",
     "shell.execute_reply": "2025-02-05T11:39:11.053657Z",
     "shell.execute_reply.started": "2025-02-05T11:39:10.919548Z"
    }
   },
   "outputs": [],
   "source": [
    "dapi_img = sio.imread(data_path / 'raw_data' / 'dapi_stack.tif')"
   ]
  },
  {
   "cell_type": "code",
   "execution_count": 17,
   "metadata": {
    "execution": {
     "iopub.execute_input": "2025-02-05T11:39:11.054732Z",
     "iopub.status.busy": "2025-02-05T11:39:11.054529Z",
     "iopub.status.idle": "2025-02-05T11:39:11.267409Z",
     "shell.execute_reply": "2025-02-05T11:39:11.267049Z",
     "shell.execute_reply.started": "2025-02-05T11:39:11.054719Z"
    }
   },
   "outputs": [
    {
     "data": {
      "text/plain": [
       "(940, 561)"
      ]
     },
     "execution_count": 17,
     "metadata": {},
     "output_type": "execute_result"
    },
    {
     "data": {
      "image/png": "[encoded data removed]",
      "text/plain": [
       "<Figure size 400x300 with 1 Axes>"
      ]
     },
     "metadata": {
      "image/png": {
       "height": 282,
       "width": 395
      }
     },
     "output_type": "display_data"
    }
   ],
   "source": [
    "hist_info = bin_2d_data(df['x_pixel'], df['y_pixel'], step=pixel_step)\n",
    "plt.figure(figsize=(4, 3))\n",
    "plt.hist(hist_info[0].flatten(), bins=30);\n",
    "plt.xlabel('Number of molecules per bin'); plt.ylabel('Number of bins');\n",
    "plt.xlim(0, None);\n",
    "\n",
    "hist_info[0].shape"
   ]
  },
  {
   "cell_type": "code",
   "execution_count": 18,
   "metadata": {
    "execution": {
     "iopub.execute_input": "2025-02-05T11:39:11.268012Z",
     "iopub.status.busy": "2025-02-05T11:39:11.267797Z",
     "iopub.status.idle": "2025-02-05T11:39:14.942741Z",
     "shell.execute_reply": "2025-02-05T11:39:14.942276Z",
     "shell.execute_reply.started": "2025-02-05T11:39:11.267999Z"
    }
   },
   "outputs": [],
   "source": [
    "df['row'] = hist_info[-2]\n",
    "df['column'] = hist_info[-1]\n",
    "\n",
    "df.to_csv(f'{INPUT_FOLDER}/df.csv')"
   ]
  },
  {
   "cell_type": "code",
   "execution_count": 19,
   "metadata": {
    "execution": {
     "iopub.execute_input": "2025-02-05T11:39:14.943326Z",
     "iopub.status.busy": "2025-02-05T11:39:14.943173Z",
     "iopub.status.idle": "2025-02-05T11:39:15.231891Z",
     "shell.execute_reply": "2025-02-05T11:39:15.231523Z",
     "shell.execute_reply.started": "2025-02-05T11:39:14.943313Z"
    }
   },
   "outputs": [
    {
     "data": {
      "text/html": [
       "<div>\n",
       "<style scoped>\n",
       "    .dataframe tbody tr th:only-of-type {\n",
       "        vertical-align: middle;\n",
       "    }\n",
       "\n",
       "    .dataframe tbody tr th {\n",
       "        vertical-align: top;\n",
       "    }\n",
       "\n",
       "    .dataframe thead th {\n",
       "        text-align: right;\n",
       "    }\n",
       "</style>\n",
       "<table border=\"1\" class=\"dataframe\">\n",
       "  <thead>\n",
       "    <tr style=\"text-align: right;\">\n",
       "      <th></th>\n",
       "      <th>gene_ID</th>\n",
       "      <th>x</th>\n",
       "      <th>y</th>\n",
       "      <th>MIDCounts</th>\n",
       "    </tr>\n",
       "  </thead>\n",
       "  <tbody>\n",
       "    <tr>\n",
       "      <th>0</th>\n",
       "      <td>Acta2</td>\n",
       "      <td>593</td>\n",
       "      <td>81</td>\n",
       "      <td>12</td>\n",
       "    </tr>\n",
       "    <tr>\n",
       "      <th>1</th>\n",
       "      <td>Mptx2</td>\n",
       "      <td>400</td>\n",
       "      <td>223</td>\n",
       "      <td>12</td>\n",
       "    </tr>\n",
       "    <tr>\n",
       "      <th>2</th>\n",
       "      <td>Acta2</td>\n",
       "      <td>273</td>\n",
       "      <td>133</td>\n",
       "      <td>12</td>\n",
       "    </tr>\n",
       "    <tr>\n",
       "      <th>3</th>\n",
       "      <td>Cps1</td>\n",
       "      <td>98</td>\n",
       "      <td>338</td>\n",
       "      <td>12</td>\n",
       "    </tr>\n",
       "    <tr>\n",
       "      <th>4</th>\n",
       "      <td>Apob</td>\n",
       "      <td>612</td>\n",
       "      <td>488</td>\n",
       "      <td>11</td>\n",
       "    </tr>\n",
       "  </tbody>\n",
       "</table>\n",
       "</div>"
      ],
      "text/plain": [
       "  gene_ID    x    y  MIDCounts\n",
       "0   Acta2  593   81         12\n",
       "1   Mptx2  400  223         12\n",
       "2   Acta2  273  133         12\n",
       "3    Cps1   98  338         12\n",
       "4    Apob  612  488         11"
      ]
     },
     "execution_count": 19,
     "metadata": {},
     "output_type": "execute_result"
    }
   ],
   "source": [
    "# SCS assume that the data is indexed (x, y), so rows are named `x`\n",
    "bin_df =(\n",
    "    df.groupby(['gene', 'row', 'column']).\n",
    "    size().\n",
    "    sort_values(ascending=False).\n",
    "    reset_index().\n",
    "    rename(columns={0: 'MIDCounts', 'gene': 'gene_ID', 'row': 'y', 'column': 'x'})\n",
    ")[['gene_ID', 'x', 'y', 'MIDCounts']]\n",
    "\n",
    "bin_df.head()"
   ]
  },
  {
   "cell_type": "code",
   "execution_count": 20,
   "metadata": {
    "execution": {
     "iopub.execute_input": "2025-02-05T11:39:15.232510Z",
     "iopub.status.busy": "2025-02-05T11:39:15.232296Z",
     "iopub.status.idle": "2025-02-05T11:39:15.286795Z",
     "shell.execute_reply": "2025-02-05T11:39:15.286475Z",
     "shell.execute_reply.started": "2025-02-05T11:39:15.232497Z"
    }
   },
   "outputs": [
    {
     "data": {
      "text/plain": [
       "((0, 939), (0, 560))"
      ]
     },
     "execution_count": 20,
     "metadata": {},
     "output_type": "execute_result"
    }
   ],
   "source": [
    "(bin_df.x.min(), bin_df.x.max()), (bin_df.y.min(), bin_df.y.max())"
   ]
  },
  {
   "cell_type": "code",
   "execution_count": 21,
   "metadata": {
    "execution": {
     "iopub.execute_input": "2025-02-05T11:39:15.287375Z",
     "iopub.status.busy": "2025-02-05T11:39:15.287147Z",
     "iopub.status.idle": "2025-02-05T11:39:15.675628Z",
     "shell.execute_reply": "2025-02-05T11:39:15.675200Z",
     "shell.execute_reply.started": "2025-02-05T11:39:15.287356Z"
    }
   },
   "outputs": [],
   "source": [
    "sio.imsave(IMG_PATH, dapi_img[4,::pixel_step, ::pixel_step])\n",
    "bin_df.to_csv(BIN_PATH, index=False, sep='\\t')"
   ]
  },
  {
   "cell_type": "markdown",
   "metadata": {},
   "source": [
    "## Run SCS"
   ]
  },
  {
   "cell_type": "code",
   "execution_count": 22,
   "metadata": {
    "execution": {
     "iopub.execute_input": "2025-02-05T11:39:15.676238Z",
     "iopub.status.busy": "2025-02-05T11:39:15.676046Z",
     "iopub.status.idle": "2025-02-05T11:39:15.728493Z",
     "shell.execute_reply": "2025-02-05T11:39:15.728145Z",
     "shell.execute_reply.started": "2025-02-05T11:39:15.676225Z"
    }
   },
   "outputs": [],
   "source": [
    "from src import preprocessing, transformer, postprocessing\n",
    "import scanpy as sc"
   ]
  },
  {
   "cell_type": "code",
   "execution_count": null,
   "metadata": {},
   "outputs": [],
   "source": [
    "preprocessing.preprocess(\n",
    "    BIN_PATH, IMG_PATH, False, None, 0, 0, patchsize=0, bin_size=3,\n",
    "    n_neighbor=50, watershed_labels=None, out_path=OUT_FOLDER\n",
    ")"
   ]
  },
  {
   "cell_type": "code",
   "execution_count": null,
   "metadata": {
    "scrolled": true
   },
   "outputs": [],
   "source": [
    "transformer.train(0, 0, 0, 100, 0.0625, out_path=OUT_FOLDER)"
   ]
  },
  {
   "cell_type": "code",
   "execution_count": null,
   "metadata": {},
   "outputs": [],
   "source": [
    "cell_labels = postprocessing.postprocess(0, 0, 0, 3, 15, out_path=OUT_FOLDER, figsize=(10, 10))\n",
    "cell_labels.shape"
   ]
  },
  {
   "cell_type": "code",
   "execution_count": null,
   "metadata": {},
   "outputs": [],
   "source": [
    "cell_labels.max()"
   ]
  },
  {
   "cell_type": "markdown",
   "metadata": {},
   "source": [
    "## Run SCS on CellPose"
   ]
  },
  {
   "cell_type": "code",
   "execution_count": null,
   "metadata": {},
   "outputs": [],
   "source": [
    "from src import preprocessing, transformer, postprocessing\n",
    "import scanpy as sc"
   ]
  },
  {
   "cell_type": "code",
   "execution_count": null,
   "metadata": {},
   "outputs": [],
   "source": [
    "OUT_FOLDER = data_path / 'seg_method_results' / 'scs_cellpose/'\n",
    "!mkdir -p $OUT_FOLDER"
   ]
  },
  {
   "cell_type": "code",
   "execution_count": null,
   "metadata": {},
   "outputs": [],
   "source": [
    "dapi_mask = sio.imread(\n",
    "    data_path / 'data_analysis' / 'cellpose' / 'cell_boundaries' / 'results' / 'cellpose_dapi.tif'\n",
    ")[4, ::pixel_step, ::pixel_step]\n",
    "\n",
    "dapi_mask.shape"
   ]
  },
  {
   "cell_type": "code",
   "execution_count": null,
   "metadata": {
    "scrolled": true
   },
   "outputs": [],
   "source": [
    "preprocessing.preprocess(\n",
    "    BIN_PATH, IMG_PATH, False, None, 0, 0, patchsize=0, bin_size=3,\n",
    "    n_neighbor=50, watershed_labels=dapi_mask, out_path=OUT_FOLDER\n",
    ")"
   ]
  },
  {
   "cell_type": "code",
   "execution_count": null,
   "metadata": {
    "scrolled": true
   },
   "outputs": [],
   "source": [
    "transformer.train(0, 0, 0, 100, 0.0625, out_path=OUT_FOLDER)"
   ]
  },
  {
   "cell_type": "code",
   "execution_count": null,
   "metadata": {},
   "outputs": [],
   "source": [
    "cell_labels = postprocessing.postprocess(0, 0, 0, 3, 15, out_path=OUT_FOLDER, figsize=(10, 10))\n",
    "cell_labels.shape"
   ]
  },
  {
   "cell_type": "code",
   "execution_count": null,
   "metadata": {},
   "outputs": [],
   "source": [
    "cell_labels.max()"
   ]
  }
 ],
 "metadata": {
  "kernelspec": {
   "display_name": "xenium-workflow",
   "language": "python",
   "name": "xenium-workflow"
  },
  "language_info": {
   "codemirror_mode": {
    "name": "ipython",
    "version": 3
   },
   "file_extension": ".py",
   "mimetype": "text/x-python",
   "name": "python",
   "nbconvert_exporter": "python",
   "pygments_lexer": "ipython3",
   "version": "3.10.0"
  }
 },
 "nbformat": 4,
 "nbformat_minor": 4
}
