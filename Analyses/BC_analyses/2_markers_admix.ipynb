{
 "cells": [
  {
   "cell_type": "code",
   "execution_count": 3,
   "id": "1ab6027c-3882-4543-8ca2-52a838a0496d",
   "metadata": {
    "vscode": {
     "languageId": "r"
    }
   },
   "outputs": [
    {
     "name": "stderr",
     "output_type": "stream",
     "text": [
      "\u001b[1m\u001b[22m\u001b[36mℹ\u001b[39m Loading \u001b[34mcellAdmixNotebooks\u001b[39m\n",
      "Warning message:\n",
      "“\u001b[1m\u001b[22mObjects listed as exports, but not present in namespace:\n",
      "\u001b[36m•\u001b[39m plot_expression_comparison”\n"
     ]
    }
   ],
   "source": [
    "suppressPackageStartupMessages({\n",
    "  library(dplyr)\n",
    "  library(pagoda2)\n",
    "  library(cowplot)\n",
    "  library(magrittr)\n",
    "  library(dataorganizer)\n",
    "\n",
    "  devtools::load_all()\n",
    "})"
   ]
  },
  {
   "cell_type": "code",
   "execution_count": 4,
   "id": "c65c1978",
   "metadata": {
    "vscode": {
     "languageId": "r"
    }
   },
   "outputs": [],
   "source": [
    "sos <- prepare_BC_sc_spatial(load_molecules=FALSE)\n",
    "so_rna <- sos$so_rna\n",
    "so_spatial <- sos$so_spatial"
   ]
  },
  {
   "cell_type": "code",
   "execution_count": 7,
   "id": "f2679be5-6002-4f0a-9b75-a65c208d5354",
   "metadata": {
    "vscode": {
     "languageId": "r"
    }
   },
   "outputs": [
    {
     "name": "stderr",
     "output_type": "stream",
     "text": [
      "Warning message in LayerData.Assay5(object = x, layer = i):\n",
      "“multiple layers are identified by counts.Gene Expression counts.Blank Codeword counts.Negative Control Codeword counts.Negative Control Probe\n",
      " only the first layer is used”\n"
     ]
    },
    {
     "name": "stderr",
     "output_type": "stream",
     "text": [
      "21847 cells, 313 genes; normalizing ... \n",
      "\n",
      "Using plain model \n",
      "\n",
      "log scale ... \n",
      "\n",
      "done.\n",
      "\n",
      "\n",
      "158030 cells, 313 genes; normalizing ... \n",
      "\n",
      "Using plain model \n",
      "\n",
      "log scale ... \n",
      "\n",
      "done.\n",
      "\n",
      "\n"
     ]
    }
   ],
   "source": [
    "# make pagoda objects for the sc and spatial datasets\n",
    "sc_counts <- so_rna[['RNA']]$counts\n",
    "spatial_counts <- so_spatial[['RNA']]$counts\n",
    "spatial_counts <- spatial_counts[rownames(sc_counts),]\n",
    "\n",
    "sc_obj <- Pagoda2$new(sc_counts,log.scale=TRUE, n.cores=20)\n",
    "spatial_obj <- Pagoda2$new(spatial_counts,log.scale=TRUE, n.cores=20)"
   ]
  },
  {
   "cell_type": "code",
   "execution_count": 8,
   "id": "e1e1d7d1-b495-4401-941d-2386c4c7ba29",
   "metadata": {
    "vscode": {
     "languageId": "r"
    }
   },
   "outputs": [
    {
     "name": "stderr",
     "output_type": "stream",
     "text": [
      "running differential expression with 18 clusters ... \n",
      "\n",
      "adjusting p-values ... \n",
      "\n",
      "done.\n",
      "\n",
      "\n"
     ]
    }
   ],
   "source": [
    "# run DE\n",
    "ct_annot <- factor(so_rna@meta.data$cell_type,levels=unique(so_rna@meta.data$cell_type))\n",
    "names(ct_annot) <- rownames(so_rna@meta.data)\n",
    "de_out_mark <- sc_obj$getDifferentialGenes(\n",
    "  verbose=TRUE,groups=ct_annot,z.threshold = 0,\n",
    "  upregulated.only=TRUE,append.auc = TRUE\n",
    ")\n",
    "\n",
    "# put into a table\n",
    "de_genes <- lapply(1:length(de_out_mark),function(i){\n",
    "  ct_nm <- names(de_out_mark)[i]\n",
    "  x <- de_out_mark[[i]]\n",
    "\n",
    "  # add pvalues\n",
    "  x$padj <- 2*pnorm(abs(x$Z), mean = 0, sd = 1, lower.tail = FALSE)\n",
    "\n",
    "  x$cell_type <- ct_nm\n",
    "  rownames(x) <- NULL\n",
    "  return(x)\n",
    "})"
   ]
  },
  {
   "cell_type": "code",
   "execution_count": 9,
   "id": "69428cbc-5dca-4831-8117-bcd0f8cfecfc",
   "metadata": {
    "vscode": {
     "languageId": "r"
    }
   },
   "outputs": [],
   "source": [
    "de_genes_full1 <- do.call(\"rbind.data.frame\", de_genes)\n",
    "\n",
    "# subset to same genes in spatial data\n",
    "de_genes_full1 <- de_genes_full1[de_genes_full1$Gene %in% rownames(so_spatial),]"
   ]
  },
  {
   "cell_type": "code",
   "execution_count": 10,
   "id": "fd4b7848-0a48-4850-87ef-c132a391a35a",
   "metadata": {
    "vscode": {
     "languageId": "r"
    }
   },
   "outputs": [
    {
     "data": {
      "text/html": [
       "<style>\n",
       ".list-inline {list-style: none; margin:0; padding: 0}\n",
       ".list-inline>li {display: inline-block}\n",
       ".list-inline>li:not(:last-child)::after {content: \"\\00b7\"; padding: 0 .5ex}\n",
       "</style>\n",
       "<ol class=list-inline><li>'TIMP4'</li><li>'LEP'</li><li>'LPL'</li><li>'ADH1B'</li><li>'ADIPOQ'</li><li>'RAB30'</li><li>'TNFRSF17'</li><li>'DERL3'</li><li>'PIGR'</li><li>'ALDH1A3'</li><li>'KRT23'</li><li>'SLAMF7'</li><li>'CD274'</li><li>'CD80'</li><li>'FAM49A'</li><li>'CTSG'</li><li>'KIT'</li><li>'HDC'</li><li>'TPSAB1'</li><li>'CPA3'</li><li>'C5orf46'</li><li>'KRT6B'</li><li>'ACTG2'</li><li>'MYH11'</li><li>'SPIB'</li><li>'LILRA4'</li><li>'IL3RA'</li><li>'PLD4'</li><li>'GZMB'</li><li>'CD19'</li><li>'CD79B'</li><li>'CD79A'</li><li>'BANK1'</li><li>'MS4A1'</li><li>'CAVIN2'</li><li>'RAMP2'</li><li>'CLEC14A'</li><li>'VWF'</li><li>'LY86'</li><li>'IL2RA'</li><li>'MRC1'</li><li>'KLRD1'</li><li>'CD247'</li><li>'CD3G'</li><li>'GZMA'</li><li>'CD8A'</li><li>'LGALSL'</li><li>'HPX'</li><li>'RAPGEF3'</li><li>'STC1'</li><li>'HMGA1'</li><li>'DPT'</li><li>'SFRP4'</li><li>'IGF1'</li><li>'PDGFRA'</li><li>'PDGFRB'</li><li>'KDR'</li><li>'EDNRB'</li><li>'AVPR1A'</li><li>'FBLIM1'</li><li>'NDUFA4L2'</li><li>'CD86'</li><li>'APOC1'</li><li>'MNDA'</li><li>'FCGR3A'</li><li>'HAVCR2'</li></ol>\n"
      ],
      "text/latex": [
       "\\begin{enumerate*}\n",
       "\\item 'TIMP4'\n",
       "\\item 'LEP'\n",
       "\\item 'LPL'\n",
       "\\item 'ADH1B'\n",
       "\\item 'ADIPOQ'\n",
       "\\item 'RAB30'\n",
       "\\item 'TNFRSF17'\n",
       "\\item 'DERL3'\n",
       "\\item 'PIGR'\n",
       "\\item 'ALDH1A3'\n",
       "\\item 'KRT23'\n",
       "\\item 'SLAMF7'\n",
       "\\item 'CD274'\n",
       "\\item 'CD80'\n",
       "\\item 'FAM49A'\n",
       "\\item 'CTSG'\n",
       "\\item 'KIT'\n",
       "\\item 'HDC'\n",
       "\\item 'TPSAB1'\n",
       "\\item 'CPA3'\n",
       "\\item 'C5orf46'\n",
       "\\item 'KRT6B'\n",
       "\\item 'ACTG2'\n",
       "\\item 'MYH11'\n",
       "\\item 'SPIB'\n",
       "\\item 'LILRA4'\n",
       "\\item 'IL3RA'\n",
       "\\item 'PLD4'\n",
       "\\item 'GZMB'\n",
       "\\item 'CD19'\n",
       "\\item 'CD79B'\n",
       "\\item 'CD79A'\n",
       "\\item 'BANK1'\n",
       "\\item 'MS4A1'\n",
       "\\item 'CAVIN2'\n",
       "\\item 'RAMP2'\n",
       "\\item 'CLEC14A'\n",
       "\\item 'VWF'\n",
       "\\item 'LY86'\n",
       "\\item 'IL2RA'\n",
       "\\item 'MRC1'\n",
       "\\item 'KLRD1'\n",
       "\\item 'CD247'\n",
       "\\item 'CD3G'\n",
       "\\item 'GZMA'\n",
       "\\item 'CD8A'\n",
       "\\item 'LGALSL'\n",
       "\\item 'HPX'\n",
       "\\item 'RAPGEF3'\n",
       "\\item 'STC1'\n",
       "\\item 'HMGA1'\n",
       "\\item 'DPT'\n",
       "\\item 'SFRP4'\n",
       "\\item 'IGF1'\n",
       "\\item 'PDGFRA'\n",
       "\\item 'PDGFRB'\n",
       "\\item 'KDR'\n",
       "\\item 'EDNRB'\n",
       "\\item 'AVPR1A'\n",
       "\\item 'FBLIM1'\n",
       "\\item 'NDUFA4L2'\n",
       "\\item 'CD86'\n",
       "\\item 'APOC1'\n",
       "\\item 'MNDA'\n",
       "\\item 'FCGR3A'\n",
       "\\item 'HAVCR2'\n",
       "\\end{enumerate*}\n"
      ],
      "text/markdown": [
       "1. 'TIMP4'\n",
       "2. 'LEP'\n",
       "3. 'LPL'\n",
       "4. 'ADH1B'\n",
       "5. 'ADIPOQ'\n",
       "6. 'RAB30'\n",
       "7. 'TNFRSF17'\n",
       "8. 'DERL3'\n",
       "9. 'PIGR'\n",
       "10. 'ALDH1A3'\n",
       "11. 'KRT23'\n",
       "12. 'SLAMF7'\n",
       "13. 'CD274'\n",
       "14. 'CD80'\n",
       "15. 'FAM49A'\n",
       "16. 'CTSG'\n",
       "17. 'KIT'\n",
       "18. 'HDC'\n",
       "19. 'TPSAB1'\n",
       "20. 'CPA3'\n",
       "21. 'C5orf46'\n",
       "22. 'KRT6B'\n",
       "23. 'ACTG2'\n",
       "24. 'MYH11'\n",
       "25. 'SPIB'\n",
       "26. 'LILRA4'\n",
       "27. 'IL3RA'\n",
       "28. 'PLD4'\n",
       "29. 'GZMB'\n",
       "30. 'CD19'\n",
       "31. 'CD79B'\n",
       "32. 'CD79A'\n",
       "33. 'BANK1'\n",
       "34. 'MS4A1'\n",
       "35. 'CAVIN2'\n",
       "36. 'RAMP2'\n",
       "37. 'CLEC14A'\n",
       "38. 'VWF'\n",
       "39. 'LY86'\n",
       "40. 'IL2RA'\n",
       "41. 'MRC1'\n",
       "42. 'KLRD1'\n",
       "43. 'CD247'\n",
       "44. 'CD3G'\n",
       "45. 'GZMA'\n",
       "46. 'CD8A'\n",
       "47. 'LGALSL'\n",
       "48. 'HPX'\n",
       "49. 'RAPGEF3'\n",
       "50. 'STC1'\n",
       "51. 'HMGA1'\n",
       "52. 'DPT'\n",
       "53. 'SFRP4'\n",
       "54. 'IGF1'\n",
       "55. 'PDGFRA'\n",
       "56. 'PDGFRB'\n",
       "57. 'KDR'\n",
       "58. 'EDNRB'\n",
       "59. 'AVPR1A'\n",
       "60. 'FBLIM1'\n",
       "61. 'NDUFA4L2'\n",
       "62. 'CD86'\n",
       "63. 'APOC1'\n",
       "64. 'MNDA'\n",
       "65. 'FCGR3A'\n",
       "66. 'HAVCR2'\n",
       "\n",
       "\n"
      ],
      "text/plain": [
       " [1] \"TIMP4\"    \"LEP\"      \"LPL\"      \"ADH1B\"    \"ADIPOQ\"   \"RAB30\"   \n",
       " [7] \"TNFRSF17\" \"DERL3\"    \"PIGR\"     \"ALDH1A3\"  \"KRT23\"    \"SLAMF7\"  \n",
       "[13] \"CD274\"    \"CD80\"     \"FAM49A\"   \"CTSG\"     \"KIT\"      \"HDC\"     \n",
       "[19] \"TPSAB1\"   \"CPA3\"     \"C5orf46\"  \"KRT6B\"    \"ACTG2\"    \"MYH11\"   \n",
       "[25] \"SPIB\"     \"LILRA4\"   \"IL3RA\"    \"PLD4\"     \"GZMB\"     \"CD19\"    \n",
       "[31] \"CD79B\"    \"CD79A\"    \"BANK1\"    \"MS4A1\"    \"CAVIN2\"   \"RAMP2\"   \n",
       "[37] \"CLEC14A\"  \"VWF\"      \"LY86\"     \"IL2RA\"    \"MRC1\"     \"KLRD1\"   \n",
       "[43] \"CD247\"    \"CD3G\"     \"GZMA\"     \"CD8A\"     \"LGALSL\"   \"HPX\"     \n",
       "[49] \"RAPGEF3\"  \"STC1\"     \"HMGA1\"    \"DPT\"      \"SFRP4\"    \"IGF1\"    \n",
       "[55] \"PDGFRA\"   \"PDGFRB\"   \"KDR\"      \"EDNRB\"    \"AVPR1A\"   \"FBLIM1\"  \n",
       "[61] \"NDUFA4L2\" \"CD86\"     \"APOC1\"    \"MNDA\"     \"FCGR3A\"   \"HAVCR2\"  "
      ]
     },
     "metadata": {},
     "output_type": "display_data"
    }
   ],
   "source": [
    "# subset to significant results only\n",
    "de_genes_full1 <- de_genes_full1[de_genes_full1$padj<.05,]\n",
    "de_genes_full1 <- de_genes_full1[de_genes_full1$AUC>.55,]\n",
    "de_genes_full1 <- de_genes_full1[de_genes_full1$Specificity>.95,]\n",
    "\n",
    "# order by AUC\n",
    "de_genes_full1 <- de_genes_full1[order(de_genes_full1$AUC,decreasing = TRUE),]\n",
    "\n",
    "ct_list <- lapply(unique(de_genes_full1$cell_type),function(ct){\n",
    "  return(de_genes_full1[de_genes_full1$cell_type==ct,])\n",
    "})\n",
    "names(ct_list) <- unique(de_genes_full1$cell_type)\n",
    "\n",
    "markers_plot <- unique(de_genes_full1$Gene)\n",
    "all_expr_counts <- list()\n",
    "for (ct in unique(so_rna@meta.data$cell_type)) {\n",
    "  cells_keep <- rownames(so_rna@meta.data)[as.character(so_rna@meta.data$cell_type)==ct]\n",
    "  so_rna_sub <- subset(so_rna,cells=cells_keep)\n",
    "  expr <- sc_counts[markers_plot,]\n",
    "  cell_expr_counts <- rowSums(expr>0) / ncol(expr)\n",
    "  all_expr_counts[[ct]] <- cell_expr_counts\n",
    "}\n",
    "\n",
    "all_expr_counts <- do.call(cbind,all_expr_counts)\n",
    "\n",
    "for (ct in unique(de_genes_full1$cell_type)) {\n",
    "  marker_df_sub <- de_genes_full1[de_genes_full1$cell_type==ct,]\n",
    "  potential_markers <- marker_df_sub$Gene\n",
    "\n",
    "  # now remove the markers if they are more highly expressed in other cell types\n",
    "  g_rem_all <- c()\n",
    "  for (mark in potential_markers) {\n",
    "    de_sub_efrac <- all_expr_counts[mark,]\n",
    "    de_sub_efrac2_other <- de_sub_efrac[names(de_sub_efrac)!=ct]\n",
    "    if (de_sub_efrac[ct]<max(de_sub_efrac2_other)) {\n",
    "      g_rem_all <- c(g_rem_all,mark)\n",
    "    }\n",
    "\n",
    "    if (sum(de_sub_efrac2_other>.6)>1) {\n",
    "      g_rem_all <- c(g_rem_all,mark)\n",
    "    }\n",
    "\n",
    "  }\n",
    "  ct_dat <- ct_list[[ct]]\n",
    "  ct_dat <- ct_dat[!(ct_dat$Gene %in% g_rem_all),]\n",
    "  ct_list[[ct]] <- ct_dat\n",
    "}\n",
    "\n",
    "# extract markers to plot\n",
    "markers_plot <- lapply(unique(so_rna@meta.data$cell_type),function(ct) {\n",
    "  marker_df_sub <- ct_list[[ct]]\n",
    "  if (length(marker_df_sub$Gene) > 5) {\n",
    "    return(marker_df_sub$Gene[1:5])\n",
    "  } else {\n",
    "    return(marker_df_sub$Gene)\n",
    "  }\n",
    "})\n",
    "markers_plot <- unique(unlist(markers_plot))\n",
    "markers_plot <- rev(markers_plot)\n",
    "markers_plot"
   ]
  },
  {
   "cell_type": "code",
   "execution_count": 11,
   "id": "0a84c5de-fe12-4b5d-8822-61641129c075",
   "metadata": {
    "vscode": {
     "languageId": "r"
    }
   },
   "outputs": [],
   "source": [
    "# save the full table of thresholded markers\n",
    "ct_list_df <- do.call(rbind.data.frame, ct_list)\n",
    "write.csv(ct_list_df, file=CachePath('BC_markers_sub.csv'))"
   ]
  }
 ],
 "metadata": {
  "kernelspec": {
   "display_name": "R",
   "language": "R",
   "name": "ir"
  },
  "language_info": {
   "codemirror_mode": "r",
   "file_extension": ".r",
   "mimetype": "text/x-r-source",
   "name": "R",
   "pygments_lexer": "r",
   "version": "4.4.1"
  }
 },
 "nbformat": 4,
 "nbformat_minor": 5
}
