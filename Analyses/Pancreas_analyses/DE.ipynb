{
 "cells": [
  {
   "cell_type": "code",
   "execution_count": 8,
   "id": "238119c5-57a6-4103-9b10-7a2395ca7e11",
   "metadata": {
    "vscode": {
     "languageId": "r"
    }
   },
   "outputs": [
    {
     "name": "stderr",
     "output_type": "stream",
     "text": [
      "\u001b[1m\u001b[22m\u001b[36mℹ\u001b[39m Loading \u001b[34mcellAdmixNotebooks\u001b[39m\n"
     ]
    }
   ],
   "source": [
    "suppressPackageStartupMessages({\n",
    "  library(dplyr)\n",
    "  library(cowplot)\n",
    "  library(magrittr)\n",
    "  library(dataorganizer)\n",
    "  library(pagoda2)\n",
    "  library(ggrepel)\n",
    "  library(data.table)\n",
    "\n",
    "  devtools::load_all()\n",
    "})\n",
    "\n",
    "suppressMessages({\n",
    "  load_arial_font()\n",
    "})"
   ]
  },
  {
   "cell_type": "code",
   "execution_count": 2,
   "id": "3e1ea969-5236-4551-98f3-48b31acdce9e",
   "metadata": {
    "vscode": {
     "languageId": "r"
    }
   },
   "outputs": [],
   "source": [
    "all_markers <- load_markers_pancreas(filter_markers=FALSE)\n",
    "\n",
    "all_markers_list <- lapply(unique(all_markers$marker_of),function(x){\n",
    "  return(all_markers$gene[all_markers$marker_of==x])\n",
    "})\n",
    "names(all_markers_list) <- unique(all_markers$marker_of)"
   ]
  },
  {
   "cell_type": "code",
   "execution_count": 3,
   "id": "981834d9-676e-40ea-93df-b731fe4cc957",
   "metadata": {
    "vscode": {
     "languageId": "r"
    }
   },
   "outputs": [
    {
     "name": "stderr",
     "output_type": "stream",
     "text": [
      "Normalizing layer: counts\n",
      "\n"
     ]
    }
   ],
   "source": [
    "# load counts version of org and clean data\n",
    "base_dir <- CachePath('pancreas_scaled_dat4/')\n",
    "so_spatial_orig <- readRDS(file=paste0(base_dir,'so_spatial_orig.rds'))\n",
    "so_spatial_cln <- readRDS(file=paste0(base_dir,'so_spatial_cln_15_full.rds'))\n",
    "\n",
    "dat_orig <- so_spatial_orig[['RNA']]$counts\n",
    "meta_orig <- so_spatial_orig@meta.data\n",
    "\n",
    "dat_cln <- so_spatial_cln[['RNA']]$counts\n",
    "meta_cln <- so_spatial_cln@meta.data\n",
    "\n",
    "# subset data to same cells\n",
    "cells_both <- intersect(colnames(dat_orig),colnames(dat_cln))\n",
    "dat_orig <- dat_orig[,cells_both]\n",
    "dat_cln <- dat_cln[,cells_both]\n",
    "meta_orig <- meta_orig[cells_both,]\n",
    "\n",
    "# append xy cell centroids\n",
    "data <- prepare_pancreas_sc_spatial()\n",
    "cell_annot <- data[[2]]\n",
    "meta_orig <- cbind.data.frame(meta_orig,cell_annot[rownames(meta_orig),c('x','y')])"
   ]
  },
  {
   "cell_type": "code",
   "execution_count": 4,
   "id": "9d7559a6-10dd-41dc-994a-f02d65bbb5ab",
   "metadata": {
    "vscode": {
     "languageId": "r"
    }
   },
   "outputs": [
    {
     "data": {
      "text/html": [
       "<table class=\"dataframe\">\n",
       "<caption>A data.frame: 6 × 7</caption>\n",
       "<thead>\n",
       "\t<tr><th></th><th scope=col>orig.ident</th><th scope=col>nCount_RNA</th><th scope=col>nFeature_RNA</th><th scope=col>cell</th><th scope=col>cell_type</th><th scope=col>x</th><th scope=col>y</th></tr>\n",
       "\t<tr><th></th><th scope=col>&lt;fct&gt;</th><th scope=col>&lt;dbl&gt;</th><th scope=col>&lt;int&gt;</th><th scope=col>&lt;chr&gt;</th><th scope=col>&lt;chr&gt;</th><th scope=col>&lt;dbl&gt;</th><th scope=col>&lt;dbl&gt;</th></tr>\n",
       "</thead>\n",
       "<tbody>\n",
       "\t<tr><th scope=row>aaacalai-1</th><td>SeuratProject</td><td> 67</td><td>32</td><td>aaacalai-1</td><td>tumor</td><td>441.3078</td><td>1735.878</td></tr>\n",
       "\t<tr><th scope=row>aaacjgil-1</th><td>SeuratProject</td><td> 66</td><td>36</td><td>aaacjgil-1</td><td>tumor</td><td>466.0532</td><td>1712.260</td></tr>\n",
       "\t<tr><th scope=row>aaadhocp-1</th><td>SeuratProject</td><td>159</td><td>60</td><td>aaadhocp-1</td><td>tumor</td><td>476.1111</td><td>1711.089</td></tr>\n",
       "\t<tr><th scope=row>aaadpbhl-1</th><td>SeuratProject</td><td> 99</td><td>40</td><td>aaadpbhl-1</td><td>tumor</td><td>490.0821</td><td>1717.446</td></tr>\n",
       "\t<tr><th scope=row>aaafbala-1</th><td>SeuratProject</td><td> 75</td><td>37</td><td>aaafbala-1</td><td>tumor</td><td>490.2920</td><td>1709.011</td></tr>\n",
       "\t<tr><th scope=row>aaagannb-1</th><td>SeuratProject</td><td> 87</td><td>40</td><td>aaagannb-1</td><td>tumor</td><td>499.5687</td><td>1710.915</td></tr>\n",
       "</tbody>\n",
       "</table>\n"
      ],
      "text/latex": [
       "A data.frame: 6 × 7\n",
       "\\begin{tabular}{r|lllllll}\n",
       "  & orig.ident & nCount\\_RNA & nFeature\\_RNA & cell & cell\\_type & x & y\\\\\n",
       "  & <fct> & <dbl> & <int> & <chr> & <chr> & <dbl> & <dbl>\\\\\n",
       "\\hline\n",
       "\taaacalai-1 & SeuratProject &  67 & 32 & aaacalai-1 & tumor & 441.3078 & 1735.878\\\\\n",
       "\taaacjgil-1 & SeuratProject &  66 & 36 & aaacjgil-1 & tumor & 466.0532 & 1712.260\\\\\n",
       "\taaadhocp-1 & SeuratProject & 159 & 60 & aaadhocp-1 & tumor & 476.1111 & 1711.089\\\\\n",
       "\taaadpbhl-1 & SeuratProject &  99 & 40 & aaadpbhl-1 & tumor & 490.0821 & 1717.446\\\\\n",
       "\taaafbala-1 & SeuratProject &  75 & 37 & aaafbala-1 & tumor & 490.2920 & 1709.011\\\\\n",
       "\taaagannb-1 & SeuratProject &  87 & 40 & aaagannb-1 & tumor & 499.5687 & 1710.915\\\\\n",
       "\\end{tabular}\n"
      ],
      "text/markdown": [
       "\n",
       "A data.frame: 6 × 7\n",
       "\n",
       "| <!--/--> | orig.ident &lt;fct&gt; | nCount_RNA &lt;dbl&gt; | nFeature_RNA &lt;int&gt; | cell &lt;chr&gt; | cell_type &lt;chr&gt; | x &lt;dbl&gt; | y &lt;dbl&gt; |\n",
       "|---|---|---|---|---|---|---|---|\n",
       "| aaacalai-1 | SeuratProject |  67 | 32 | aaacalai-1 | tumor | 441.3078 | 1735.878 |\n",
       "| aaacjgil-1 | SeuratProject |  66 | 36 | aaacjgil-1 | tumor | 466.0532 | 1712.260 |\n",
       "| aaadhocp-1 | SeuratProject | 159 | 60 | aaadhocp-1 | tumor | 476.1111 | 1711.089 |\n",
       "| aaadpbhl-1 | SeuratProject |  99 | 40 | aaadpbhl-1 | tumor | 490.0821 | 1717.446 |\n",
       "| aaafbala-1 | SeuratProject |  75 | 37 | aaafbala-1 | tumor | 490.2920 | 1709.011 |\n",
       "| aaagannb-1 | SeuratProject |  87 | 40 | aaagannb-1 | tumor | 499.5687 | 1710.915 |\n",
       "\n"
      ],
      "text/plain": [
       "           orig.ident    nCount_RNA nFeature_RNA cell       cell_type x       \n",
       "aaacalai-1 SeuratProject  67        32           aaacalai-1 tumor     441.3078\n",
       "aaacjgil-1 SeuratProject  66        36           aaacjgil-1 tumor     466.0532\n",
       "aaadhocp-1 SeuratProject 159        60           aaadhocp-1 tumor     476.1111\n",
       "aaadpbhl-1 SeuratProject  99        40           aaadpbhl-1 tumor     490.0821\n",
       "aaafbala-1 SeuratProject  75        37           aaafbala-1 tumor     490.2920\n",
       "aaagannb-1 SeuratProject  87        40           aaagannb-1 tumor     499.5687\n",
       "           y       \n",
       "aaacalai-1 1735.878\n",
       "aaacjgil-1 1712.260\n",
       "aaadhocp-1 1711.089\n",
       "aaadpbhl-1 1717.446\n",
       "aaafbala-1 1709.011\n",
       "aaagannb-1 1710.915"
      ]
     },
     "metadata": {},
     "output_type": "display_data"
    }
   ],
   "source": [
    "head(meta_orig)"
   ]
  },
  {
   "cell_type": "code",
   "execution_count": 9,
   "id": "71d06dba-fe33-4f09-9c1c-e6a43b46ed18",
   "metadata": {
    "vscode": {
     "languageId": "r"
    }
   },
   "outputs": [
    {
     "name": "stderr",
     "output_type": "stream",
     "text": [
      "1470 cells, 377 genes; normalizing ... \n",
      "\n",
      "Using plain model \n",
      "\n",
      "Winsorizing ... \n",
      "\n",
      "log scale ... \n",
      "\n",
      "done.\n",
      "\n",
      "\n",
      "calculating variance fit ...\n",
      "\n",
      " using gam \n",
      "\n",
      "4 overdispersed genes ... 4\n",
      "\n",
      "persisting ... \n",
      "\n",
      "done.\n",
      "\n",
      "running PCA using 377 OD genes .\n",
      "\n",
      ".\n",
      "\n",
      ".\n",
      "\n",
      ".\n",
      "\n",
      " done\n",
      "\n",
      "\n"
     ]
    },
    {
     "name": "stdout",
     "output_type": "stream",
     "text": [
      "creating space of type angular done\n",
      "adding data ... done\n",
      "building index ... done\n",
      "querying ... done\n"
     ]
    },
    {
     "name": "stderr",
     "output_type": "stream",
     "text": [
      "running tSNE using 1 cores:\n",
      "\n",
      "\n",
      "running differential expression with 2 clusters ... \n",
      "\n",
      "adjusting p-values ... \n",
      "\n",
      "done.\n",
      "\n",
      "\n"
     ]
    }
   ],
   "source": [
    "xn = meta_orig %>% select(x, y) %>% FNN::get.knn(k = 5) %>% .$nn.index\n",
    "ct_dict = meta_orig %>% mutate(id = 1:n()) %>% {setNames(.$cell_type, .$id)}\n",
    "cell_dict = meta_orig %>% mutate(id = 1:n()) %>% {setNames(.$cell, .$id)}\n",
    "nmat = apply(xn, 2, function(i){ct_dict[i]})\n",
    "\n",
    "ct_counts = nmat %>%\n",
    "  reshape2::melt() %>%\n",
    "  select(id = Var1, ct = value) %>%\n",
    "  mutate(\n",
    "    cell = cell_dict[id]\n",
    "  ) %>%\n",
    "  select(-id) %>%\n",
    "  as.data.table %>%\n",
    "  mutate(ct = paste0('n_', ct)) %>%\n",
    "  dplyr::count(cell, ct, .drop = T) %>%\n",
    "  dcast(cell ~ ct, value.var = 'n', fill = 0)\n",
    "\n",
    "ct_counts <- as.data.frame(ct_counts)\n",
    "rownames(ct_counts) <- ct_counts$cell\n",
    "ct_counts$cell <- NULL\n",
    "\n",
    "cells_keep <- meta_orig$cell[meta_orig$cell_type=='Endothelial']\n",
    "\n",
    "dat_orig <- dat_orig[,cells_keep]\n",
    "meta_orig <- meta_orig[cells_keep,]\n",
    "dat_cln <- dat_cln[,cells_keep]\n",
    "meta_cln <- meta_orig\n",
    "\n",
    "meta_orig$stel_adj <- ct_counts[rownames(meta_orig),'n_Stellate']>0\n",
    "meta_orig$stel_adj <- factor(meta_orig$stel_adj,levels=c(TRUE,FALSE))\n",
    "levels(meta_orig$stel_adj) <- c('Near','Not near')\n",
    "\n",
    "# # running de for original data\n",
    "dat_pgda_orig <- basicP2proc(dat_orig, n.cores=1, min.cells.per.gene=0,min.transcripts.per.cell = 20,\n",
    "                             n.odgenes=2e3, get.largevis=FALSE, make.geneknn=FALSE)\n",
    "regions_compare <- meta_orig$stel_adj\n",
    "names(regions_compare) <- rownames(meta_orig)\n",
    "de_out_orig <- dat_pgda_orig$getDifferentialGenes(verbose=TRUE,groups=regions_compare,z.threshold = 0,\n",
    "                                                  upregulated.only=FALSE,append.auc = TRUE)\n",
    "de_out_orig <- de_out_orig[['Near']]"
   ]
  },
  {
   "cell_type": "code",
   "execution_count": 10,
   "id": "fb5551a9-7d0e-431e-b3cb-c331c2b52320",
   "metadata": {
    "vscode": {
     "languageId": "r"
    }
   },
   "outputs": [
    {
     "name": "stderr",
     "output_type": "stream",
     "text": [
      "Warning message:\n",
      "“\u001b[1m\u001b[22mRemoved 367 rows containing missing values or values outside the scale range\n",
      "(`geom_text_repel()`).”\n"
     ]
    },
    {
     "data": {
      "image/png": "[encoded data removed]",
      "text/plain": [
       "plot without title"
      ]
     },
     "metadata": {
      "image/png": {
       "height": 200,
       "width": 325
      }
     },
     "output_type": "display_data"
    }
   ],
   "source": [
    "# make volcano plot\n",
    "options(repr.plot.width = 3.25, repr.plot.height = 2, repr.plot.res = 200)\n",
    "de_out_orig$padj <- 2*pnorm(abs(de_out_orig$Z), mean = 0, sd = 1, lower.tail = FALSE) # convert z back to padj\n",
    "de_out_orig$mark_other <- sapply(de_out_orig$Gene,function(x){\n",
    "  if (x %in% all_markers_list[['Stellate']]) {\n",
    "    return('stellate marker')\n",
    "  } else if (x %in% all_markers_list[['Acinar']]) {\n",
    "    return('acinar marker')\n",
    "  } else {\n",
    "    return('other')\n",
    "  }\n",
    "})\n",
    "de_out_orig$logpv <- -log10(de_out_orig$padj)\n",
    "de_out_orig$logpv[de_out_orig$logpv>30] <- 30\n",
    "de_out_orig$M[de_out_orig$M<(-1.5)] <- -1.5\n",
    "ymax <- max(de_out_orig$logpv,na.rm=TRUE)+3\n",
    "myColors <- c('red4','blue4','grey70')\n",
    "\n",
    "# Helper variables\n",
    "limits <- range(de_out_orig$logpv,na.rm = TRUE,finite = TRUE)\n",
    "step   <- diff(limits) * 0.1\n",
    "size   <- 0.45 * step\n",
    "\n",
    "de_out_orig$mark_other <- factor(de_out_orig$mark_other,levels=c('stellate marker','acinar marker','other'))\n",
    "bottom_lim <- min(limits[1] - as.numeric(de_out_orig$mark_other) * step - size) - .5\n",
    "\n",
    "de_out_orig <- de_out_orig[order(de_out_orig$Z,decreasing=TRUE),]\n",
    "de_out_orig_flip <- de_out_orig[order(de_out_orig$Z,decreasing=FALSE),]\n",
    "\n",
    "g1 <- de_out_orig$Gene[de_out_orig$mark_other=='stellate marker'][1:5]\n",
    "g2 <- de_out_orig_flip$Gene[de_out_orig_flip$mark_other=='acinar marker'][1:5]\n",
    "g_lab <- c(g1,g2)\n",
    "de_out_orig$top_mark_other <- NA\n",
    "de_out_orig[de_out_orig$Gene%in%g_lab,'top_mark_other'] <- de_out_orig$Gene[de_out_orig$Gene%in%g_lab]\n",
    "\n",
    "p <- ggplot(de_out_orig,aes(x=M,y=logpv,color=mark_other,label=top_mark_other)) +\n",
    "  geom_segment(aes(y=ymax,yend=0,x = log2(1.5)),color='red',linetype='dashed',alpha=gg_line_alpha,linewidth=3*gg_line_thickness/4) +\n",
    "  geom_segment(aes(y=ymax,yend=0,x = -log2(1.5)),color='red',linetype='dashed',alpha=gg_line_alpha,linewidth=3*gg_line_thickness/4) +\n",
    "  geom_hline(yintercept=0,linewidth=gg_line_thickness,alpha=gg_line_alpha) +\n",
    "  geom_segment(aes(x=-Inf,xend=Inf,y = -log10(.05)),color='red',linetype='dashed',alpha=gg_line_alpha,linewidth=3*gg_line_thickness/4) +\n",
    "  geom_segment(\n",
    "    aes(\n",
    "      color = mark_other,\n",
    "      xend = M,\n",
    "      y    = limits[1] - as.numeric(mark_other) * step + size,\n",
    "      yend = limits[1] - as.numeric(mark_other) * step - size\n",
    "    ),\n",
    "      linewidth=gg_line_thickness\n",
    "  ) +\n",
    "  geom_text_repel(size=geom_text_size, family=font_choice, show.legend = FALSE) +\n",
    "  geom_vline(xintercept=0,linewidth=gg_line_thickness,alpha=gg_line_alpha) +\n",
    "  geom_point(data=de_out_orig[de_out_orig$mark_other=='other',],alpha=gg_point_alpha,size=gg_point_size) +\n",
    "  geom_point(data=de_out_orig[de_out_orig$mark_other=='stellate marker',],alpha=gg_point_alpha,size=gg_point_size) +\n",
    "  geom_point(data=de_out_orig[de_out_orig$mark_other=='acinar marker',],alpha=gg_point_alpha,size=gg_point_size) +\n",
    "  scale_y_continuous(limits=c(bottom_lim,ymax),expand = c(0, 0)) +\n",
    "  xlab('logFC') +\n",
    "  ylab('-log10(Padj)') +\n",
    "  ggtitle('Endothelial DE (stellate adjacent vs. not)') +\n",
    "  scale_colour_manual(breaks = c('stellate marker','acinar marker','other'), values = myColors) +\n",
    "  theme_classic(base_line_size = gg_line_thickness) +\n",
    "  p_theme +\n",
    "  theme(plot.title = element_text(hjust = 0.5),\n",
    "       legend.title=element_blank()) +\n",
    "  legend_mod\n",
    "\n",
    "p"
   ]
  },
  {
   "cell_type": "code",
   "execution_count": 11,
   "id": "6b3910dd-791d-4873-9560-2db1f970ce58",
   "metadata": {
    "vscode": {
     "languageId": "r"
    }
   },
   "outputs": [
    {
     "name": "stderr",
     "output_type": "stream",
     "text": [
      "Warning message:\n",
      "“\u001b[1m\u001b[22mRemoved 367 rows containing missing values or values outside the scale range\n",
      "(`geom_text_repel()`).”\n"
     ]
    },
    {
     "data": {
      "text/html": [
       "<strong>png:</strong> 2"
      ],
      "text/latex": [
       "\\textbf{png:} 2"
      ],
      "text/markdown": [
       "**png:** 2"
      ],
      "text/plain": [
       "png \n",
       "  2 "
      ]
     },
     "metadata": {},
     "output_type": "display_data"
    }
   ],
   "source": [
    "pdf(OutputPath(\"pancreas_endo_de.pdf\"), useDingbats=FALSE, width=3.25, height=2)\n",
    "p\n",
    "dev.off()"
   ]
  },
  {
   "cell_type": "code",
   "execution_count": 13,
   "id": "29d98d80-fe4f-48f0-a9ff-afd53dd80a66",
   "metadata": {
    "vscode": {
     "languageId": "r"
    }
   },
   "outputs": [
    {
     "name": "stderr",
     "output_type": "stream",
     "text": [
      "Warning message in preparePathwaysAndStats(pathways, stats, minSize, maxSize, gseaParam, :\n",
      "“There are ties in the preranked stats (2.39% of the list).\n",
      "The order of those tied genes will be arbitrary, which may produce unexpected results.”\n"
     ]
    },
    {
     "name": "stdout",
     "output_type": "stream",
     "text": [
      "                  pathway        pval        padj         ES        NES\n",
      "                   <char>       <num>       <num>      <num>      <num>\n",
      "1:               Stellate 0.001310616 0.006553080  0.6312382  2.1477415\n",
      "2:            Endothelial 0.905249344 0.905249344 -0.2478873 -0.6460381\n",
      "3: Alpha-Beta-Delta-Gamma 0.021606318 0.036010530 -0.7078221 -1.5882447\n",
      "4:             Macrophage 0.833169291 0.905249344  0.2147513  0.7672555\n",
      "5:                 Acinar 0.003333333 0.008333333 -0.8873900 -1.6433763\n",
      "   nMoreExtreme  size  leadingEdge\n",
      "          <num> <int>       <list>\n",
      "1:            2    24 THBS2, C....\n",
      "2:         6897    22 CA4, SOX....\n",
      "3:          144    11 INS, CHG....\n",
      "4:         1692    28 VCAN, CX....\n",
      "5:           18     5 AQP8, GA....\n"
     ]
    }
   ],
   "source": [
    "## run fgsea\n",
    "mystats <- de_out_orig$M\n",
    "names(mystats) <- rownames(de_out_orig)\n",
    "mystats <- mystats[!is.nan(mystats)]\n",
    "mystats <- mystats[is.finite(mystats)]\n",
    "# set_list <- list(admix_markers)\n",
    "# names(set_list) <- c('stellate_markers')\n",
    "set_list <- all_markers_list\n",
    "fgsea_res <- fgsea::fgseaSimple(\n",
    "  pathways = set_list, stats = mystats, minSize=5, nperm=10000\n",
    ")\n",
    "print(head(fgsea_res))"
   ]
  },
  {
   "cell_type": "code",
   "execution_count": 14,
   "id": "f19cf0a0-f8a5-4fbd-b6c1-acd8d9e337f5",
   "metadata": {
    "vscode": {
     "languageId": "r"
    }
   },
   "outputs": [
    {
     "name": "stderr",
     "output_type": "stream",
     "text": [
      "1463 cells, 377 genes; normalizing ... \n",
      "\n",
      "Using plain model \n",
      "\n",
      "Winsorizing ... \n",
      "\n",
      "log scale ... \n",
      "\n",
      "done.\n",
      "\n",
      "\n",
      "calculating variance fit ...\n",
      "\n",
      " using gam \n",
      "\n",
      "4 overdispersed genes ... 4\n",
      "\n",
      "persisting ... \n",
      "\n",
      "done.\n",
      "\n",
      "running PCA using 377 OD genes .\n",
      "\n",
      ".\n",
      "\n"
     ]
    },
    {
     "name": "stderr",
     "output_type": "stream",
     "text": [
      ".\n",
      "\n",
      ".\n",
      "\n",
      " done\n",
      "\n",
      "\n"
     ]
    },
    {
     "name": "stdout",
     "output_type": "stream",
     "text": [
      "creating space of type angular done\n",
      "adding data ... done\n",
      "building index ... done\n",
      "querying ... done\n"
     ]
    },
    {
     "name": "stderr",
     "output_type": "stream",
     "text": [
      "running tSNE using 1 cores:\n",
      "\n",
      "\n",
      "running differential expression with 2 clusters ... \n",
      "\n",
      "adjusting p-values ... \n",
      "\n",
      "done.\n",
      "\n",
      "\n"
     ]
    }
   ],
   "source": [
    "## run de for cleaned data\n",
    "meta_cln$stel_adj <- meta_orig$stel_adj\n",
    "dat_pgda_cln <- basicP2proc(dat_cln, n.cores=1, min.cells.per.gene=0,min.transcripts.per.cell = 20,\n",
    "                             n.odgenes=2e3, get.largevis=FALSE, make.geneknn=FALSE)\n",
    "regions_compare <- meta_cln$stel_adj\n",
    "names(regions_compare) <- rownames(meta_cln)\n",
    "de_out_cln <- dat_pgda_cln$getDifferentialGenes(verbose=TRUE,groups=regions_compare,z.threshold = 0,\n",
    "                                                  upregulated.only=FALSE,append.auc = TRUE)\n",
    "de_out_cln <- de_out_cln[['Near']]\n",
    "\n",
    "# order genes the same in both de results matrixes\n",
    "de_out_orig <- de_out_orig[rownames(de_out_cln),]"
   ]
  },
  {
   "cell_type": "code",
   "execution_count": 15,
   "id": "874663c4-9d47-4164-a056-bbe43327a8bd",
   "metadata": {
    "vscode": {
     "languageId": "r"
    }
   },
   "outputs": [
    {
     "name": "stderr",
     "output_type": "stream",
     "text": [
      "Warning message:\n",
      "“\u001b[1m\u001b[22mRemoved 367 rows containing missing values or values outside the scale range\n",
      "(`geom_text_repel()`).”\n"
     ]
    },
    {
     "data": {
      "image/png": "[encoded data removed]",
      "text/plain": [
       "plot without title"
      ]
     },
     "metadata": {
      "image/png": {
       "height": 200,
       "width": 300
      }
     },
     "output_type": "display_data"
    }
   ],
   "source": [
    "options(repr.plot.width = 3, repr.plot.height = 2, repr.plot.res = 200)\n",
    "\n",
    "#### plot DE comparison\n",
    "z_thresh <- qnorm(.01/2,lower.tail = FALSE)\n",
    "tmp <- cbind.data.frame(de_out_orig[,'Z'],de_out_cln[,'Z'])\n",
    "colnames(tmp) <- c('orig','clean')\n",
    "rownames(tmp) <- rownames(de_out_orig)\n",
    "\n",
    "## trying to color points by tumor marker set belonging\n",
    "tmp$markers <- sapply(rownames(tmp),function(x){\n",
    "  if (x %in% all_markers_list[['Stellate']]) {\n",
    "    return('stellate marker')\n",
    "  } else if (x %in% all_markers_list[['Acinar']]) {\n",
    "    return('acinar marker')\n",
    "  } else {\n",
    "    return('other')\n",
    "  }\n",
    "})\n",
    "ndx_lab <- match(g_lab,rownames(tmp))\n",
    "g_lab <- g_lab[!is.na(ndx_lab)]\n",
    "ndx_lab <- ndx_lab[!is.na(ndx_lab)]\n",
    "tmp$glab <- NA\n",
    "tmp[ndx_lab,'glab'] <- g_lab\n",
    "z_upper_thresh <- 20\n",
    "tmp[which(tmp$orig>z_upper_thresh),'orig'] <- z_upper_thresh\n",
    "tmp[which(tmp$orig<(-z_upper_thresh)),'orig'] <- -z_upper_thresh\n",
    "tmp[which(tmp$clean>z_upper_thresh),'clean'] <- z_upper_thresh\n",
    "tmp[which(tmp$clean<(-z_upper_thresh)),'clean'] <- -z_upper_thresh\n",
    "tmp$markers <- factor(tmp$markers,levels=c('stellate marker','acinar marker','other'))\n",
    "myColors <- c('red4','blue4','grey70')\n",
    "p <- ggplot(tmp,aes(x=orig,y=clean,color=markers,label=glab)) +\n",
    "  geom_point(data=tmp[tmp$markers=='other',],alpha=gg_point_alpha,size=gg_point_size) +\n",
    "  geom_point(data=tmp[tmp$markers=='stellate marker',],alpha=gg_point_alpha,size=gg_point_size) +\n",
    "  geom_point(data=tmp[tmp$markers=='acinar marker',],alpha=gg_point_alpha,size=gg_point_size) +\n",
    "  geom_text_repel(size=geom_text_size,show.legend = FALSE,family=font_choice) +\n",
    "  ggtitle('Endothelial DE (stellate adjacent vs. not)') +\n",
    "  xlab('Z-score (original)') +\n",
    "  ylab('Z-score (cleaned)') +\n",
    "  geom_hline(linewidth=gg_line_thickness, yintercept = z_thresh,color='red',linetype='dashed',alpha=gg_line_alpha) +\n",
    "  geom_hline(linewidth=gg_line_thickness, yintercept = -1*z_thresh,color='red',linetype='dashed',alpha=gg_line_alpha) +\n",
    "  geom_hline(linewidth=gg_line_thickness, yintercept = 0,alpha=gg_line_alpha) +\n",
    "  geom_abline(linewidth=gg_line_thickness, slope = 1,intercept=0,alpha=gg_line_alpha) +\n",
    "  scale_colour_manual(breaks = c('stellate marker','acinar marker','other'), values = myColors) +\n",
    "  theme_classic(base_line_size = gg_line_thickness) +\n",
    "  p_theme +\n",
    "  theme(plot.title = element_text(hjust = 0.5),\n",
    "       legend.title=element_blank()) +\n",
    "  legend_mod\n",
    "\n",
    "p"
   ]
  },
  {
   "cell_type": "code",
   "execution_count": 16,
   "id": "4da5eaa4-629c-4cd4-9f7f-0cd12c2e5a49",
   "metadata": {
    "vscode": {
     "languageId": "r"
    }
   },
   "outputs": [
    {
     "name": "stderr",
     "output_type": "stream",
     "text": [
      "Warning message:\n",
      "“\u001b[1m\u001b[22mRemoved 367 rows containing missing values or values outside the scale range\n",
      "(`geom_text_repel()`).”\n"
     ]
    },
    {
     "data": {
      "text/html": [
       "<strong>png:</strong> 2"
      ],
      "text/latex": [
       "\\textbf{png:} 2"
      ],
      "text/markdown": [
       "**png:** 2"
      ],
      "text/plain": [
       "png \n",
       "  2 "
      ]
     },
     "metadata": {},
     "output_type": "display_data"
    }
   ],
   "source": [
    "pdf(OutputPath(\"pancreas_de_pre_post.pdf\"), useDingbats=FALSE, width=3, height=2)\n",
    "p\n",
    "dev.off()"
   ]
  }
 ],
 "metadata": {
  "kernelspec": {
   "display_name": "R",
   "language": "R",
   "name": "ir"
  },
  "language_info": {
   "codemirror_mode": "r",
   "file_extension": ".r",
   "mimetype": "text/x-r-source",
   "name": "R",
   "pygments_lexer": "r",
   "version": "4.4.1"
  }
 },
 "nbformat": 4,
 "nbformat_minor": 5
}
