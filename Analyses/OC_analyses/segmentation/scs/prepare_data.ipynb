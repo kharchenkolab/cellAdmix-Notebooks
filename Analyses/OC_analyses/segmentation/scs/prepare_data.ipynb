{
 "cells": [
  {
   "cell_type": "code",
   "execution_count": 11,
   "metadata": {
    "execution": {
     "iopub.execute_input": "2025-01-28T13:23:04.600575Z",
     "iopub.status.busy": "2025-01-28T13:23:04.600247Z",
     "iopub.status.idle": "2025-01-28T13:23:04.659675Z",
     "shell.execute_reply": "2025-01-28T13:23:04.659281Z",
     "shell.execute_reply.started": "2025-01-28T13:23:04.600561Z"
    },
    "scrolled": true
   },
   "outputs": [
    {
     "name": "stdout",
     "output_type": "stream",
     "text": [
      "The autoreload extension is already loaded. To reload it, use:\n",
      "  %reload_ext autoreload\n"
     ]
    }
   ],
   "source": [
    "%load_ext autoreload\n",
    "%autoreload 2\n",
    "\n",
    "import sys\n",
    "sys.path.append('../../../../../SCS')\n",
    "sys.path.append('../../../scripts/')\n",
    "\n",
    "from scs import preprocessing, transformer, postprocessing\n",
    "\n",
    "import math\n",
    "import os\n",
    "\n",
    "from seg_utils import bin_2d_data\n",
    "from paths import get_data_paths\n",
    "\n",
    "from src import scs\n",
    "import pandas as pd\n",
    "import matplotlib.pyplot as plt\n",
    "import spateo as st\n",
    "import skimage.io as sio\n",
    "import skmisc\n",
    "from skimage import measure\n",
    "import numpy as np\n",
    "\n",
    "%matplotlib inline"
   ]
  },
  {
   "cell_type": "code",
   "execution_count": 2,
   "metadata": {
    "execution": {
     "iopub.execute_input": "2025-01-28T13:15:04.527027Z",
     "iopub.status.busy": "2025-01-28T13:15:04.526480Z",
     "iopub.status.idle": "2025-01-28T13:15:04.580566Z",
     "shell.execute_reply": "2025-01-28T13:15:04.580216Z",
     "shell.execute_reply.started": "2025-01-28T13:15:04.527012Z"
    }
   },
   "outputs": [],
   "source": [
    "DATA_FOLDER = get_data_paths('../../../../data_mapping.yml')['human_ovarian_cancer']\n",
    "OUT_FOLDER = f'{DATA_FOLDER}/seg_method_results/scs'\n",
    "INPUT_FOLDER = f'{OUT_FOLDER}/input/'\n",
    "IMG_PATH = f'{INPUT_FOLDER}/dapi.tif'\n",
    "BIN_PATH = f'{INPUT_FOLDER}/bin_df_subset.tsv'\n",
    "\n",
    "os.makedirs(INPUT_FOLDER, exist_ok=True)"
   ]
  },
  {
   "cell_type": "code",
   "execution_count": 3,
   "metadata": {
    "execution": {
     "iopub.execute_input": "2025-01-28T13:15:05.618080Z",
     "iopub.status.busy": "2025-01-28T13:15:05.617722Z",
     "iopub.status.idle": "2025-01-28T13:15:05.672028Z",
     "shell.execute_reply": "2025-01-28T13:15:05.671713Z",
     "shell.execute_reply.started": "2025-01-28T13:15:05.618067Z"
    }
   },
   "outputs": [
    {
     "data": {
      "text/plain": [
       "1.0625"
      ]
     },
     "execution_count": 3,
     "metadata": {},
     "output_type": "execute_result"
    }
   ],
   "source": [
    "pixel_scale = 0.2125\n",
    "pixel_step = 5\n",
    "pixel_step * pixel_scale"
   ]
  },
  {
   "cell_type": "markdown",
   "metadata": {},
   "source": [
    "## Prepare data"
   ]
  },
  {
   "cell_type": "code",
   "execution_count": 4,
   "metadata": {
    "execution": {
     "iopub.execute_input": "2025-01-28T13:15:09.492009Z",
     "iopub.status.busy": "2025-01-28T13:15:09.491761Z",
     "iopub.status.idle": "2025-01-28T13:15:10.012048Z",
     "shell.execute_reply": "2025-01-28T13:15:10.011695Z",
     "shell.execute_reply.started": "2025-01-28T13:15:09.491995Z"
    }
   },
   "outputs": [
    {
     "data": {
      "text/html": [
       "<div>\n",
       "<style scoped>\n",
       "    .dataframe tbody tr th:only-of-type {\n",
       "        vertical-align: middle;\n",
       "    }\n",
       "\n",
       "    .dataframe tbody tr th {\n",
       "        vertical-align: top;\n",
       "    }\n",
       "\n",
       "    .dataframe thead th {\n",
       "        text-align: right;\n",
       "    }\n",
       "</style>\n",
       "<table border=\"1\" class=\"dataframe\">\n",
       "  <thead>\n",
       "    <tr style=\"text-align: right;\">\n",
       "      <th></th>\n",
       "      <th>transcript_id</th>\n",
       "      <th>cell_id</th>\n",
       "      <th>overlaps_nucleus</th>\n",
       "      <th>gene</th>\n",
       "      <th>x</th>\n",
       "      <th>y</th>\n",
       "      <th>z</th>\n",
       "      <th>qv</th>\n",
       "      <th>fov_name</th>\n",
       "      <th>nucleus_distance</th>\n",
       "      <th>codeword_index</th>\n",
       "      <th>codeword_category</th>\n",
       "      <th>is_gene</th>\n",
       "    </tr>\n",
       "  </thead>\n",
       "  <tbody>\n",
       "    <tr>\n",
       "      <th>132387431</th>\n",
       "      <td>281951718555201</td>\n",
       "      <td>mmpmbecc-1</td>\n",
       "      <td>0</td>\n",
       "      <td>A2ML1</td>\n",
       "      <td>40144.191406</td>\n",
       "      <td>21640.734375</td>\n",
       "      <td>112.573524</td>\n",
       "      <td>40.0</td>\n",
       "      <td>G15</td>\n",
       "      <td>0.000000</td>\n",
       "      <td>14663</td>\n",
       "      <td>predesigned_gene</td>\n",
       "      <td>True</td>\n",
       "    </tr>\n",
       "    <tr>\n",
       "      <th>132387432</th>\n",
       "      <td>281951718555748</td>\n",
       "      <td>bnplodci-1</td>\n",
       "      <td>1</td>\n",
       "      <td>A2ML1</td>\n",
       "      <td>40373.601562</td>\n",
       "      <td>22323.308594</td>\n",
       "      <td>95.294113</td>\n",
       "      <td>40.0</td>\n",
       "      <td>G15</td>\n",
       "      <td>0.000000</td>\n",
       "      <td>14663</td>\n",
       "      <td>predesigned_gene</td>\n",
       "      <td>True</td>\n",
       "    </tr>\n",
       "    <tr>\n",
       "      <th>132387433</th>\n",
       "      <td>281951718433855</td>\n",
       "      <td>mmljnhlf-1</td>\n",
       "      <td>0</td>\n",
       "      <td>AAMP</td>\n",
       "      <td>40318.160156</td>\n",
       "      <td>21698.087891</td>\n",
       "      <td>108.088234</td>\n",
       "      <td>40.0</td>\n",
       "      <td>G15</td>\n",
       "      <td>0.234375</td>\n",
       "      <td>2394</td>\n",
       "      <td>predesigned_gene</td>\n",
       "      <td>True</td>\n",
       "    </tr>\n",
       "    <tr>\n",
       "      <th>132387434</th>\n",
       "      <td>281951718267364</td>\n",
       "      <td>bnpmabda-1</td>\n",
       "      <td>0</td>\n",
       "      <td>AAMP</td>\n",
       "      <td>40323.011719</td>\n",
       "      <td>22330.367188</td>\n",
       "      <td>104.411758</td>\n",
       "      <td>40.0</td>\n",
       "      <td>G15</td>\n",
       "      <td>0.359375</td>\n",
       "      <td>2394</td>\n",
       "      <td>predesigned_gene</td>\n",
       "      <td>True</td>\n",
       "    </tr>\n",
       "    <tr>\n",
       "      <th>132387435</th>\n",
       "      <td>281951718434656</td>\n",
       "      <td>bnmcjpdd-1</td>\n",
       "      <td>1</td>\n",
       "      <td>AAMP</td>\n",
       "      <td>40467.203125</td>\n",
       "      <td>22008.380859</td>\n",
       "      <td>112.352936</td>\n",
       "      <td>40.0</td>\n",
       "      <td>G15</td>\n",
       "      <td>0.000000</td>\n",
       "      <td>2394</td>\n",
       "      <td>predesigned_gene</td>\n",
       "      <td>True</td>\n",
       "    </tr>\n",
       "  </tbody>\n",
       "</table>\n",
       "</div>"
      ],
      "text/plain": [
       "             transcript_id     cell_id  overlaps_nucleus   gene             x  \\\n",
       "132387431  281951718555201  mmpmbecc-1                 0  A2ML1  40144.191406   \n",
       "132387432  281951718555748  bnplodci-1                 1  A2ML1  40373.601562   \n",
       "132387433  281951718433855  mmljnhlf-1                 0   AAMP  40318.160156   \n",
       "132387434  281951718267364  bnpmabda-1                 0   AAMP  40323.011719   \n",
       "132387435  281951718434656  bnmcjpdd-1                 1   AAMP  40467.203125   \n",
       "\n",
       "                      y           z    qv fov_name  nucleus_distance  \\\n",
       "132387431  21640.734375  112.573524  40.0      G15          0.000000   \n",
       "132387432  22323.308594   95.294113  40.0      G15          0.000000   \n",
       "132387433  21698.087891  108.088234  40.0      G15          0.234375   \n",
       "132387434  22330.367188  104.411758  40.0      G15          0.359375   \n",
       "132387435  22008.380859  112.352936  40.0      G15          0.000000   \n",
       "\n",
       "           codeword_index codeword_category  is_gene  \n",
       "132387431           14663  predesigned_gene     True  \n",
       "132387432           14663  predesigned_gene     True  \n",
       "132387433            2394  predesigned_gene     True  \n",
       "132387434            2394  predesigned_gene     True  \n",
       "132387435            2394  predesigned_gene     True  "
      ]
     },
     "execution_count": 4,
     "metadata": {},
     "output_type": "execute_result"
    }
   ],
   "source": [
    "df = pd.read_parquet(f'{DATA_FOLDER}/subset/transcripts.parquet')\n",
    "df.rename(\n",
    "    columns={'x_location': 'x', 'y_location': 'y', 'z_location': 'z', 'feature_name': 'gene'},\n",
    "    inplace=True\n",
    ")\n",
    "df[['x', 'y', 'z']] /= 0.2125\n",
    "\n",
    "df.head()"
   ]
  },
  {
   "cell_type": "code",
   "execution_count": 24,
   "metadata": {
    "execution": {
     "iopub.execute_input": "2025-01-28T13:50:23.964688Z",
     "iopub.status.busy": "2025-01-28T13:50:23.964328Z",
     "iopub.status.idle": "2025-01-28T13:52:31.569905Z",
     "shell.execute_reply": "2025-01-28T13:52:31.569213Z",
     "shell.execute_reply.started": "2025-01-28T13:50:23.964673Z"
    }
   },
   "outputs": [
    {
     "name": "stderr",
     "output_type": "stream",
     "text": [
      "WARNING:tifffile:<tifffile.TiffFile 'morphology_focus_0000.ome.tif'> OME series cannot read multi-file pyramids\n"
     ]
    }
   ],
   "source": [
    "dapi_img = sio.imread(f'{DATA_FOLDER}/morphology_focus/morphology_focus_0000.ome.tif')[:,:,0]"
   ]
  },
  {
   "cell_type": "code",
   "execution_count": 9,
   "metadata": {
    "execution": {
     "iopub.execute_input": "2025-01-28T13:22:23.846849Z",
     "iopub.status.busy": "2025-01-28T13:22:23.846669Z",
     "iopub.status.idle": "2025-01-28T13:22:23.918851Z",
     "shell.execute_reply": "2025-01-28T13:22:23.918455Z",
     "shell.execute_reply.started": "2025-01-28T13:22:23.846836Z"
    }
   },
   "outputs": [],
   "source": [
    "x_min, x_max = (df.x.min(), df.x.max())\n",
    "y_min, y_max = (df.y.min(), df.y.max())"
   ]
  },
  {
   "cell_type": "code",
   "execution_count": null,
   "metadata": {
    "execution": {
     "iopub.status.busy": "2025-01-28T14:12:31.250280Z",
     "iopub.status.idle": "2025-01-28T14:12:31.250484Z",
     "shell.execute_reply": "2025-01-28T14:12:31.250425Z",
     "shell.execute_reply.started": "2025-01-28T14:12:31.250418Z"
    }
   },
   "outputs": [],
   "source": [
    "x_min, y_min"
   ]
  },
  {
   "cell_type": "code",
   "execution_count": 25,
   "metadata": {
    "execution": {
     "iopub.execute_input": "2025-01-28T13:52:44.947157Z",
     "iopub.status.busy": "2025-01-28T13:52:44.946810Z",
     "iopub.status.idle": "2025-01-28T13:52:45.937916Z",
     "shell.execute_reply": "2025-01-28T13:52:45.937556Z",
     "shell.execute_reply.started": "2025-01-28T13:52:44.947139Z"
    }
   },
   "outputs": [
    {
     "data": {
      "text/plain": [
       "(2353, 2352)"
      ]
     },
     "execution_count": 25,
     "metadata": {},
     "output_type": "execute_result"
    }
   ],
   "source": [
    "dapi_img = np.array(dapi_img[int(y_min):int(y_max), int(x_min):int(x_max)])\n",
    "dapi_img.shape"
   ]
  },
  {
   "cell_type": "code",
   "execution_count": 26,
   "metadata": {
    "execution": {
     "iopub.execute_input": "2025-01-28T13:52:48.288452Z",
     "iopub.status.busy": "2025-01-28T13:52:48.288194Z",
     "iopub.status.idle": "2025-01-28T13:52:48.344134Z",
     "shell.execute_reply": "2025-01-28T13:52:48.343755Z",
     "shell.execute_reply.started": "2025-01-28T13:52:48.288439Z"
    }
   },
   "outputs": [],
   "source": [
    "df.x -= x_min\n",
    "df.y -= y_min"
   ]
  },
  {
   "cell_type": "code",
   "execution_count": 27,
   "metadata": {
    "execution": {
     "iopub.execute_input": "2025-01-28T13:52:49.638457Z",
     "iopub.status.busy": "2025-01-28T13:52:49.638207Z",
     "iopub.status.idle": "2025-01-28T13:52:49.825628Z",
     "shell.execute_reply": "2025-01-28T13:52:49.825272Z",
     "shell.execute_reply.started": "2025-01-28T13:52:49.638442Z"
    }
   },
   "outputs": [
    {
     "data": {
      "text/plain": [
       "(471, 471)"
      ]
     },
     "execution_count": 27,
     "metadata": {},
     "output_type": "execute_result"
    },
    {
     "data": {
      "image/png": "[encoded data removed]",
      "text/plain": [
       "<Figure size 400x300 with 1 Axes>"
      ]
     },
     "metadata": {
      "image/png": {
       "height": 282,
       "width": 395
      }
     },
     "output_type": "display_data"
    }
   ],
   "source": [
    "hist_info = bin_2d_data(df['x'], df['y'], step=pixel_step)\n",
    "plt.figure(figsize=(4, 3))\n",
    "plt.hist(hist_info[0].flatten(), bins=30);\n",
    "plt.xlabel('Number of molecules per bin'); plt.ylabel('Number of bins');\n",
    "plt.xlim(0, None);\n",
    "\n",
    "hist_info[0].shape"
   ]
  },
  {
   "cell_type": "code",
   "execution_count": 28,
   "metadata": {
    "execution": {
     "iopub.execute_input": "2025-01-28T13:52:50.668511Z",
     "iopub.status.busy": "2025-01-28T13:52:50.668159Z",
     "iopub.status.idle": "2025-01-28T13:52:50.830813Z",
     "shell.execute_reply": "2025-01-28T13:52:50.830448Z",
     "shell.execute_reply.started": "2025-01-28T13:52:50.668497Z"
    }
   },
   "outputs": [
    {
     "data": {
      "text/html": [
       "<div>\n",
       "<style scoped>\n",
       "    .dataframe tbody tr th:only-of-type {\n",
       "        vertical-align: middle;\n",
       "    }\n",
       "\n",
       "    .dataframe tbody tr th {\n",
       "        vertical-align: top;\n",
       "    }\n",
       "\n",
       "    .dataframe thead th {\n",
       "        text-align: right;\n",
       "    }\n",
       "</style>\n",
       "<table border=\"1\" class=\"dataframe\">\n",
       "  <thead>\n",
       "    <tr style=\"text-align: right;\">\n",
       "      <th></th>\n",
       "      <th>gene_ID</th>\n",
       "      <th>x</th>\n",
       "      <th>y</th>\n",
       "      <th>MIDCounts</th>\n",
       "    </tr>\n",
       "  </thead>\n",
       "  <tbody>\n",
       "    <tr>\n",
       "      <th>0</th>\n",
       "      <td>DeprecatedCodeword_2163</td>\n",
       "      <td>192</td>\n",
       "      <td>361</td>\n",
       "      <td>5</td>\n",
       "    </tr>\n",
       "    <tr>\n",
       "      <th>1</th>\n",
       "      <td>DeprecatedCodeword_11713</td>\n",
       "      <td>126</td>\n",
       "      <td>291</td>\n",
       "      <td>5</td>\n",
       "    </tr>\n",
       "    <tr>\n",
       "      <th>2</th>\n",
       "      <td>EEF1G</td>\n",
       "      <td>219</td>\n",
       "      <td>358</td>\n",
       "      <td>5</td>\n",
       "    </tr>\n",
       "    <tr>\n",
       "      <th>3</th>\n",
       "      <td>DeprecatedCodeword_2163</td>\n",
       "      <td>163</td>\n",
       "      <td>276</td>\n",
       "      <td>5</td>\n",
       "    </tr>\n",
       "    <tr>\n",
       "      <th>4</th>\n",
       "      <td>DeprecatedCodeword_2163</td>\n",
       "      <td>264</td>\n",
       "      <td>12</td>\n",
       "      <td>5</td>\n",
       "    </tr>\n",
       "  </tbody>\n",
       "</table>\n",
       "</div>"
      ],
      "text/plain": [
       "                    gene_ID    x    y  MIDCounts\n",
       "0   DeprecatedCodeword_2163  192  361          5\n",
       "1  DeprecatedCodeword_11713  126  291          5\n",
       "2                     EEF1G  219  358          5\n",
       "3   DeprecatedCodeword_2163  163  276          5\n",
       "4   DeprecatedCodeword_2163  264   12          5"
      ]
     },
     "execution_count": 28,
     "metadata": {},
     "output_type": "execute_result"
    }
   ],
   "source": [
    "df['row'] = hist_info[-2]\n",
    "df['column'] = hist_info[-1]\n",
    "\n",
    "# SCS assume that the data is indexed (x, y), so rows are named `x`\n",
    "bin_df =(\n",
    "    df.groupby(['gene', 'row', 'column']).\n",
    "    size().\n",
    "    sort_values(ascending=False).\n",
    "    reset_index().\n",
    "    rename(columns={0: 'MIDCounts', 'gene': 'gene_ID', 'row': 'y', 'column': 'x'})\n",
    ")[['gene_ID', 'x', 'y', 'MIDCounts']]\n",
    "\n",
    "bin_df.head()"
   ]
  },
  {
   "cell_type": "code",
   "execution_count": 29,
   "metadata": {
    "execution": {
     "iopub.execute_input": "2025-01-28T13:52:52.428391Z",
     "iopub.status.busy": "2025-01-28T13:52:52.428139Z",
     "iopub.status.idle": "2025-01-28T13:52:52.482962Z",
     "shell.execute_reply": "2025-01-28T13:52:52.482627Z",
     "shell.execute_reply.started": "2025-01-28T13:52:52.428378Z"
    }
   },
   "outputs": [
    {
     "data": {
      "text/plain": [
       "((0, 470), (0, 470))"
      ]
     },
     "execution_count": 29,
     "metadata": {},
     "output_type": "execute_result"
    }
   ],
   "source": [
    "(bin_df.x.min(), bin_df.x.max()), (bin_df.y.min(), bin_df.y.max())"
   ]
  },
  {
   "cell_type": "code",
   "execution_count": 30,
   "metadata": {
    "execution": {
     "iopub.execute_input": "2025-01-28T13:52:56.817389Z",
     "iopub.status.busy": "2025-01-28T13:52:56.817032Z",
     "iopub.status.idle": "2025-01-28T13:52:57.042802Z",
     "shell.execute_reply": "2025-01-28T13:52:57.042390Z",
     "shell.execute_reply.started": "2025-01-28T13:52:56.817375Z"
    }
   },
   "outputs": [],
   "source": [
    "sio.imsave(IMG_PATH, dapi_img[::pixel_step, ::pixel_step])\n",
    "bin_df.to_csv(BIN_PATH, index=False, sep='\\t')"
   ]
  },
  {
   "cell_type": "markdown",
   "metadata": {},
   "source": [
    "## Run SCS"
   ]
  },
  {
   "cell_type": "code",
   "execution_count": 17,
   "metadata": {
    "execution": {
     "iopub.execute_input": "2025-01-28T13:49:03.636787Z",
     "iopub.status.busy": "2025-01-28T13:49:03.636521Z",
     "iopub.status.idle": "2025-01-28T13:49:03.690578Z",
     "shell.execute_reply": "2025-01-28T13:49:03.690186Z",
     "shell.execute_reply.started": "2025-01-28T13:49:03.636772Z"
    }
   },
   "outputs": [],
   "source": [
    "from src import preprocessing, transformer, postprocessing\n",
    "import scanpy as sc"
   ]
  },
  {
   "cell_type": "code",
   "execution_count": null,
   "metadata": {
    "execution": {
     "iopub.execute_input": "2025-01-28T15:44:26.772310Z",
     "iopub.status.busy": "2025-01-28T15:44:26.772056Z"
    }
   },
   "outputs": [
    {
     "name": "stdout",
     "output_type": "stream",
     "text": [
      "|-----> Constructing count matrices.\n",
      "|-----> <insert> __type to uns in AnnData Object.\n",
      "|-----> <insert> pp to uns in AnnData Object.\n",
      "|-----> <insert> spatial to uns in AnnData Object.\n",
      "|-----> <select> unspliced layer in AnnData Object\n",
      "|-----> <select> stain layer in AnnData Object\n",
      "|-----> <select> unspliced layer in AnnData Object\n",
      "fig folder exists\n",
      "|-----> <select> stain layer in AnnData Object\n",
      "|-----> Constructing nuclei mask from staining image.\n"
     ]
    }
   ],
   "source": [
    "preprocessing.preprocess(\n",
    "    BIN_PATH, IMG_PATH, False, None, 0, 0, patchsize=0, bin_size=5,\n",
    "    n_neighbor=50, watershed_labels=None, out_path=OUT_FOLDER\n",
    ")"
   ]
  },
  {
   "cell_type": "code",
   "execution_count": null,
   "metadata": {
    "scrolled": true
   },
   "outputs": [],
   "source": [
    "transformer.train(0, 0, 0, 100, 0.0625, out_path=OUT_FOLDER)"
   ]
  },
  {
   "cell_type": "code",
   "execution_count": null,
   "metadata": {},
   "outputs": [],
   "source": [
    "cell_labels = postprocessing.postprocess(0, 0, 0, 3, 15, out_path=OUT_FOLDER, figsize=(10, 10))\n",
    "cell_labels.shape"
   ]
  },
  {
   "cell_type": "code",
   "execution_count": null,
   "metadata": {},
   "outputs": [],
   "source": [
    "cell_labels.max()"
   ]
  }
 ],
 "metadata": {
  "kernelspec": {
   "display_name": "bidcell",
   "language": "python",
   "name": "bidcell"
  },
  "language_info": {
   "codemirror_mode": {
    "name": "ipython",
    "version": 3
   },
   "file_extension": ".py",
   "mimetype": "text/x-python",
   "name": "python",
   "nbconvert_exporter": "python",
   "pygments_lexer": "ipython3",
   "version": "3.10.15"
  }
 },
 "nbformat": 4,
 "nbformat_minor": 4
}
