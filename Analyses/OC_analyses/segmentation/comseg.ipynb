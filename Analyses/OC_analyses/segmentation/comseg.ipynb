{
 "cells": [
  {
   "cell_type": "code",
   "execution_count": 1,
   "metadata": {
    "execution": {
     "iopub.execute_input": "2025-01-28T12:46:24.976367Z",
     "iopub.status.busy": "2025-01-28T12:46:24.976197Z",
     "iopub.status.idle": "2025-01-28T12:46:27.463056Z",
     "shell.execute_reply": "2025-01-28T12:46:27.462652Z",
     "shell.execute_reply.started": "2025-01-28T12:46:24.976355Z"
    }
   },
   "outputs": [],
   "source": [
    "%load_ext autoreload\n",
    "%autoreload 2\n",
    "\n",
    "from pathlib import Path\n",
    "import scanpy as sc\n",
    "import skimage.io as sio\n",
    "import random\n",
    "import comseg\n",
    "import comseg.dataset\n",
    "from comseg import dictionary\n",
    "\n",
    "import pandas as pd\n",
    "import numpy as np\n",
    "import time\n",
    "import datetime\n",
    "import os"
   ]
  },
  {
   "cell_type": "code",
   "execution_count": 1,
   "metadata": {},
   "outputs": [],
   "source": [
    "import sys\n",
    "sys.path.append('../../../scripts/')\n",
    "\n",
    "from paths import get_data_paths\n",
    "from seg_utils import create_xenium_dapi_mask"
   ]
  },
  {
   "cell_type": "code",
   "execution_count": 3,
   "metadata": {
    "execution": {
     "iopub.execute_input": "2025-01-28T12:46:27.485194Z",
     "iopub.status.busy": "2025-01-28T12:46:27.484988Z",
     "iopub.status.idle": "2025-01-28T12:46:27.506338Z",
     "shell.execute_reply": "2025-01-28T12:46:27.506039Z",
     "shell.execute_reply.started": "2025-01-28T12:46:27.485183Z"
    }
   },
   "outputs": [],
   "source": [
    "e = datetime.datetime.now()\n",
    "date_str = f\"{e.month}_d{e.day}_h{e.hour}_min{e.minute}_s{e.second}_r\" + str(random.randint(0, 5000))"
   ]
  },
  {
   "cell_type": "markdown",
   "metadata": {},
   "source": [
    "## Prepare data"
   ]
  },
  {
   "cell_type": "code",
   "execution_count": 4,
   "metadata": {
    "execution": {
     "iopub.execute_input": "2025-01-28T12:46:27.506751Z",
     "iopub.status.busy": "2025-01-28T12:46:27.506659Z",
     "iopub.status.idle": "2025-01-28T12:46:27.524622Z",
     "shell.execute_reply": "2025-01-28T12:46:27.524345Z",
     "shell.execute_reply.started": "2025-01-28T12:46:27.506742Z"
    }
   },
   "outputs": [],
   "source": [
    "DATA_FOLDER = get_data_paths()['human_ovarian_cancer']\n",
    "INPUT_FOLDER = f'{DATA_FOLDER}/seg_method_results/comseg/input/'\n",
    "os.makedirs(INPUT_FOLDER, exist_ok=True)"
   ]
  },
  {
   "cell_type": "code",
   "execution_count": 5,
   "metadata": {
    "execution": {
     "iopub.execute_input": "2025-01-28T12:46:32.666383Z",
     "iopub.status.busy": "2025-01-28T12:46:32.666127Z",
     "iopub.status.idle": "2025-01-28T12:46:33.180541Z",
     "shell.execute_reply": "2025-01-28T12:46:33.180187Z",
     "shell.execute_reply.started": "2025-01-28T12:46:32.666369Z"
    }
   },
   "outputs": [
    {
     "data": {
      "text/plain": [
       "291586"
      ]
     },
     "execution_count": 5,
     "metadata": {},
     "output_type": "execute_result"
    }
   ],
   "source": [
    "df_spatial = pd.read_parquet(f'{DATA_FOLDER}/subset/transcripts.parquet')\n",
    "df_spatial.rename(\n",
    "    columns={'x_location': 'x', 'y_location': 'y', 'z_location': 'z', 'feature_name': 'gene'},\n",
    "    inplace=True\n",
    ")\n",
    "\n",
    "df_spatial = df_spatial[['x', 'y', 'z', 'gene']].copy()\n",
    "df_spatial[['x', 'y', 'z']] /= 0.2125\n",
    "\n",
    "df_spatial.to_csv(f'{INPUT_FOLDER}/data.csv')\n",
    "df_spatial.shape[0]"
   ]
  },
  {
   "cell_type": "code",
   "execution_count": null,
   "metadata": {
    "execution": {
     "execution_failed": "2025-01-28T12:46:19.262Z",
     "iopub.execute_input": "2025-01-28T12:45:35.485984Z",
     "iopub.status.busy": "2025-01-28T12:45:35.485711Z"
    }
   },
   "outputs": [],
   "source": [
    "dapi_mask = create_xenium_dapi_mask(DATA_FOLDER, scale=0.2125, shape=(37631, 54089))"
   ]
  },
  {
   "cell_type": "code",
   "execution_count": 12,
   "metadata": {
    "execution": {
     "iopub.execute_input": "2025-01-20T13:25:18.294985Z",
     "iopub.status.busy": "2025-01-20T13:25:18.294772Z",
     "iopub.status.idle": "2025-01-20T13:25:23.616631Z",
     "shell.execute_reply": "2025-01-20T13:25:23.615777Z",
     "shell.execute_reply.started": "2025-01-20T13:25:18.294972Z"
    }
   },
   "outputs": [
    {
     "name": "stderr",
     "output_type": "stream",
     "text": [
      "/tmp/ipykernel_1722607/2190343423.py:1: UserWarning: /home/vpetukhov/data/human_ovarian_cancer/xenium_5k//seg_method_results/comseg/input//data.tif is a boolean image: setting True to 255 and False to 0. To silence this warning, please convert the image using img_as_ubyte.\n",
      "  sio.imsave(f'{INPUT_FOLDER}/data.tif', dapi_mask)\n"
     ]
    }
   ],
   "source": [
    "sio.imsave(f'{INPUT_FOLDER}/data.tif', dapi_mask)"
   ]
  },
  {
   "cell_type": "markdown",
   "metadata": {},
   "source": [
    "## Run ComSeg"
   ]
  },
  {
   "cell_type": "code",
   "execution_count": 6,
   "metadata": {
    "execution": {
     "iopub.execute_input": "2025-01-28T12:46:39.494595Z",
     "iopub.status.busy": "2025-01-28T12:46:39.494321Z",
     "iopub.status.idle": "2025-01-28T12:46:39.519350Z",
     "shell.execute_reply": "2025-01-28T12:46:39.519012Z",
     "shell.execute_reply.started": "2025-01-28T12:46:39.494583Z"
    }
   },
   "outputs": [],
   "source": [
    "max_cell_radius = 8\n",
    "mean_cell_diameter = 7\n",
    "\n",
    "path_dataset_folder = INPUT_FOLDER\n",
    "path_to_mask_prior = INPUT_FOLDER\n",
    "\n",
    "path_save = str(Path(path_dataset_folder) / (\"results/\" + date_str + \"/\"))\n",
    "Path(path_save).mkdir(parents=True, exist_ok=True)"
   ]
  },
  {
   "cell_type": "markdown",
   "metadata": {},
   "source": [
    "## Main run"
   ]
  },
  {
   "cell_type": "code",
   "execution_count": 7,
   "metadata": {
    "execution": {
     "iopub.execute_input": "2025-01-28T12:46:54.577088Z",
     "iopub.status.busy": "2025-01-28T12:46:54.576831Z",
     "iopub.status.idle": "2025-01-28T12:47:26.912202Z",
     "shell.execute_reply": "2025-01-28T12:47:26.911637Z",
     "shell.execute_reply.started": "2025-01-28T12:46:54.577076Z"
    }
   },
   "outputs": [
    {
     "name": "stdout",
     "output_type": "stream",
     "text": [
      "prior added to data and saved in csv file\n",
      "dict_centroid added for data \n"
     ]
    },
    {
     "name": "stdout",
     "output_type": "stream",
     "text": [
      "add prior to data\n",
      "prior added to data and saved in csv file\n",
      "dict_centroid added for data \n"
     ]
    }
   ],
   "source": [
    "dict_scale = {\"x\": 0.2125, 'y': 0.2125, \"z\": 0.2125}\n",
    "\n",
    "### create the dataset object\n",
    "dataset = comseg.dataset.ComSegDataset(\n",
    "    path_dataset_folder=path_dataset_folder,\n",
    "    path_to_mask_prior=path_to_mask_prior,\n",
    "    dict_scale=dict_scale,\n",
    "    mask_file_extension=\".tif\",\n",
    "    mean_cell_diameter=mean_cell_diameter,\n",
    "    prior_name='in_nucleus'\n",
    ")\n",
    "\n",
    "dataset.add_prior_from_mask(overwrite=True)"
   ]
  },
  {
   "cell_type": "code",
   "execution_count": 8,
   "metadata": {
    "execution": {
     "iopub.execute_input": "2025-01-28T12:47:34.952245Z",
     "iopub.status.busy": "2025-01-28T12:47:34.951804Z",
     "iopub.status.idle": "2025-01-28T14:35:08.161748Z",
     "shell.execute_reply": "2025-01-28T14:35:08.161088Z",
     "shell.execute_reply.started": "2025-01-28T12:47:34.952232Z"
    }
   },
   "outputs": [
    {
     "name": "stderr",
     "output_type": "stream",
     "text": [
      "Processing images: 100%|█████████████████████████████████████████████████████████████████████████████████████████████████████████████████████████████| 1/1 [00:15<00:00, 15.19s/it]\n",
      "/home/vpetukhov/seg-errors/segmentation/env_sopa/lib/python3.12/site-packages/comseg/dataset.py:358: ConstantInputWarning: An input array is constant; the correlation coefficient is not defined.\n",
      "  corr = scipy.stats.pearsonr(exp_gene_source, exp_gene_target)[0]\n",
      "100%|████████████████████████████████████████████████████████████████████████████████████████████████████████████████████████████████████████| 5250/5250 [1:44:28<00:00,  1.19s/it]\n"
     ]
    }
   ],
   "source": [
    "dataset.compute_edge_weight(\n",
    "    images_subset=None,\n",
    "    n_neighbors=40,\n",
    "    sampling=True,\n",
    "    sampling_size=10000\n",
    ")\n",
    "corr_matrix = []\n",
    "np.save(Path(path_to_mask_prior) /'dict_co_expression_n40_10000.npy', dataset.dict_co_expression)"
   ]
  },
  {
   "cell_type": "markdown",
   "metadata": {},
   "source": [
    "Code fails on this cell:"
   ]
  },
  {
   "cell_type": "code",
   "execution_count": null,
   "metadata": {},
   "outputs": [],
   "source": [
    "Comsegdict = dictionary.ComSegDict(\n",
    "    dataset=dataset,\n",
    "    mean_cell_diameter=mean_cell_diameter,\n",
    "    community_detection=\"with_prior\"\n",
    ")\n",
    "\n",
    "Comsegdict.compute_community_vector()\n",
    "\n",
    "Comsegdict.compute_insitu_clustering(\n",
    "    size_commu_min=3,\n",
    "    norm_vector=True,\n",
    "    ### parameter clustering\n",
    "    n_pcs=3,\n",
    "    n_comps=3,\n",
    "    clustering_method=\"leiden\",\n",
    "    n_neighbors=20,\n",
    "    resolution=1,\n",
    "    n_clusters_kmeans=4,\n",
    "    palette=None,\n",
    "    nb_min_cluster=0,\n",
    "    min_merge_correlation=0.8,\n",
    ")"
   ]
  },
  {
   "cell_type": "code",
   "execution_count": null,
   "metadata": {
    "execution": {
     "iopub.status.busy": "2025-01-28T14:38:52.198507Z",
     "iopub.status.idle": "2025-01-28T14:38:52.198626Z",
     "shell.execute_reply": "2025-01-28T14:38:52.198572Z",
     "shell.execute_reply.started": "2025-01-28T14:38:52.198566Z"
    }
   },
   "outputs": [],
   "source": [
    "palette = {}\n",
    "for i in range(-1, 500):\n",
    "    palette[str(i)] = \"#\" + \"%06x\" % random.randint(0, 0xFFFFFF)\n",
    "adata = Comsegdict.in_situ_clustering.anndata_cluster\n",
    "adata.obs[\"leiden_merged\"] = adata.obs[\"leiden_merged\"].astype(int)\n",
    "# sc.tl.umap(adata)\n",
    "# sc.pl.umap(adata, color=[\"leiden_merged\"], palette=palette, legend_loc='on data')"
   ]
  },
  {
   "cell_type": "code",
   "execution_count": null,
   "metadata": {},
   "outputs": [],
   "source": [
    "Comsegdict.add_cluster_id_to_graph(clustering_method=\"leiden_merged\")\n",
    "\n",
    "### get a csv spot/cluster\n",
    "\n",
    "gene_list = []\n",
    "x_list = []\n",
    "y_list = []\n",
    "z_list = []\n",
    "leiden = []\n",
    "cell_id = []\n",
    "\n",
    "img_name = list(Comsegdict.keys())[0]\n",
    "for node in Comsegdict[img_name].G.nodes:\n",
    "    gene_list.append(Comsegdict[img_name].G.nodes[node][\"gene\"])\n",
    "    x_list.append(Comsegdict[img_name].G.nodes[node][\"x\"])\n",
    "    y_list.append(Comsegdict[img_name].G.nodes[node][\"y\"])\n",
    "    z_list.append(Comsegdict[img_name].G.nodes[node][\"z\"])\n",
    "    leiden.append(Comsegdict[img_name].G.nodes[node][\"leiden_merged\"])\n",
    "\n",
    "dictio = {'gene': gene_list, 'x': x_list, 'y': y_list,  'z': z_list,\n",
    "            \"leiden\": leiden}\n",
    "df = pd.DataFrame(dictio)\n",
    "\n",
    "df.to_csv(Path(path_save) / \"leiden0.csv\")\n",
    "\n",
    "Comsegdict.classify_centroid(\n",
    "    path_cell_centroid=None,\n",
    "    n_neighbors=15,\n",
    "    dict_in_pixel=True,\n",
    "    max_dist_centroid=None,\n",
    "    key_pred=\"leiden_merged\",\n",
    "    distance=\"ngb_distance_weights\",\n",
    "    file_extension=\".tiff.npy\"\n",
    ")"
   ]
  },
  {
   "cell_type": "code",
   "execution_count": 19,
   "metadata": {},
   "outputs": [
    {
     "name": "stderr",
     "output_type": "stream",
     "text": [
      "  0%|          | 0/1 [00:00<?, ?it/s]"
     ]
    },
    {
     "name": "stdout",
     "output_type": "stream",
     "text": [
      "data\n"
     ]
    },
    {
     "name": "stderr",
     "output_type": "stream",
     "text": [
      "100%|██████████| 480609/480609 [00:01<00:00, 368900.97it/s]\n",
      "100%|██████████| 1/1 [08:09<00:00, 489.69s/it]\n"
     ]
    }
   ],
   "source": [
    "Comsegdict.associate_rna2landmark(\n",
    "    key_pred=\"leiden_merged\",\n",
    "    distance='distance',\n",
    "    max_cell_radius=max_cell_radius\n",
    ")"
   ]
  }
 ],
 "metadata": {
  "kernelspec": {
   "display_name": "xenium-workflow",
   "language": "python",
   "name": "xenium-workflow"
  },
  "language_info": {
   "codemirror_mode": {
    "name": "ipython",
    "version": 3
   },
   "file_extension": ".py",
   "mimetype": "text/x-python",
   "name": "python",
   "nbconvert_exporter": "python",
   "pygments_lexer": "ipython3",
   "version": "3.10.0"
  }
 },
 "nbformat": 4,
 "nbformat_minor": 4
}
