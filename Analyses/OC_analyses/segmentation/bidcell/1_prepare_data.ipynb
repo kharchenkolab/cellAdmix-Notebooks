{
 "cells": [
  {
   "cell_type": "code",
   "execution_count": null,
   "metadata": {},
   "outputs": [],
   "source": [
    "%load_ext autoreload\n",
    "%autoreload 2\n",
    "\n",
    "from bidcell import BIDCellModel\n",
    "import pandas as pd\n",
    "import numpy as np\n",
    "import skimage.io as sio\n",
    "import scanpy as sc"
   ]
  },
  {
   "cell_type": "code",
   "execution_count": 2,
   "metadata": {},
   "outputs": [],
   "source": [
    "import sys\n",
    "sys.path.append('../../../../scripts/')\n",
    "\n",
    "from paths import get_data_paths"
   ]
  },
  {
   "cell_type": "code",
   "execution_count": 6,
   "metadata": {
    "execution": {
     "iopub.execute_input": "2025-01-16T13:46:11.513165Z",
     "iopub.status.busy": "2025-01-16T13:46:11.512765Z",
     "iopub.status.idle": "2025-01-16T13:46:11.539308Z",
     "shell.execute_reply": "2025-01-16T13:46:11.538723Z",
     "shell.execute_reply.started": "2025-01-16T13:46:11.513152Z"
    }
   },
   "outputs": [],
   "source": [
    "DATA_DIR = get_data_paths('../../../../data_mapping.yml')['human_ovarian_cancer']"
   ]
  },
  {
   "cell_type": "markdown",
   "metadata": {},
   "source": [
    "## Prepare data"
   ]
  },
  {
   "cell_type": "code",
   "execution_count": 3,
   "metadata": {
    "execution": {
     "iopub.execute_input": "2025-01-16T13:46:11.540546Z",
     "iopub.status.busy": "2025-01-16T13:46:11.540426Z",
     "iopub.status.idle": "2025-01-16T13:46:11.742509Z",
     "shell.execute_reply": "2025-01-16T13:46:11.741625Z",
     "shell.execute_reply.started": "2025-01-16T13:46:11.540534Z"
    }
   },
   "outputs": [],
   "source": [
    "INPUT_DIR = f'{DATA_DIR}/seg_method_results/bidcell/input/'\n",
    "!mkdir -p $INPUT_DIR"
   ]
  },
  {
   "cell_type": "code",
   "execution_count": 4,
   "metadata": {
    "execution": {
     "iopub.execute_input": "2025-01-16T13:46:11.743302Z",
     "iopub.status.busy": "2025-01-16T13:46:11.743171Z",
     "iopub.status.idle": "2025-01-16T13:46:26.424207Z",
     "shell.execute_reply": "2025-01-16T13:46:26.422879Z",
     "shell.execute_reply.started": "2025-01-16T13:46:11.743287Z"
    }
   },
   "outputs": [],
   "source": [
    "df = pd.read_parquet(DATA_DIR / 'transcripts.parquet')"
   ]
  },
  {
   "cell_type": "code",
   "execution_count": null,
   "metadata": {},
   "outputs": [],
   "source": [
    "stains = sio.imread(f'{DATA_DIR}/morphology_focus/morphology_focus_0000.ome.tif')\n",
    "sio.imsave(f'{INPUT_DIR}/dapi.tif', stains[:,:, 0])"
   ]
  },
  {
   "cell_type": "code",
   "execution_count": null,
   "metadata": {},
   "outputs": [],
   "source": [
    "RNA_PATH = get_data_paths('../../../../data_mapping.yml')['human_ovarian_cancer_rna']\n",
    "cell_meta = pd.read_csv(f'{RNA_PATH}/FLEX_Ovarian_Barcode_Cluster_Annotation.csv')\n",
    "cell_annot = cell_meta.set_index('Barcode')['Cell Annotation']\n",
    "cm_full = sc.read_10x_h5(f'{RNA_PATH}/17k_Ovarian_Cancer_scFFPE_count_filtered_feature_bc_matrix.h5').to_df()"
   ]
  },
  {
   "cell_type": "code",
   "execution_count": 7,
   "metadata": {
    "execution": {
     "iopub.execute_input": "2025-01-16T13:48:45.884599Z",
     "iopub.status.busy": "2025-01-16T13:48:45.884469Z",
     "iopub.status.idle": "2025-01-16T13:48:50.750709Z",
     "shell.execute_reply": "2025-01-16T13:48:50.749859Z",
     "shell.execute_reply.started": "2025-01-16T13:48:45.884585Z"
    }
   },
   "outputs": [
    {
     "data": {
      "text/plain": [
       "(17050, 4912)"
      ]
     },
     "execution_count": 7,
     "metadata": {},
     "output_type": "execute_result"
    }
   ],
   "source": [
    "common_genes = sorted(set(df.feature_name.unique()) & set(cm_full.columns))\n",
    "cm_full = cm_full.loc[cell_annot.index, common_genes]\n",
    "cm_full.shape"
   ]
  },
  {
   "cell_type": "code",
   "execution_count": 8,
   "metadata": {
    "execution": {
     "iopub.execute_input": "2025-01-16T13:48:50.751484Z",
     "iopub.status.busy": "2025-01-16T13:48:50.751353Z",
     "iopub.status.idle": "2025-01-16T13:48:50.786477Z",
     "shell.execute_reply": "2025-01-16T13:48:50.785897Z",
     "shell.execute_reply.started": "2025-01-16T13:48:50.751471Z"
    }
   },
   "outputs": [],
   "source": [
    "cm_full['atlas'] = 'sample1'\n",
    "cm_full['cell_type'] = cell_annot[cm_full.index]\n",
    "cm_full['ct_idx'] = pd.factorize(cm_full['cell_type'])[0]"
   ]
  },
  {
   "cell_type": "code",
   "execution_count": 9,
   "metadata": {
    "execution": {
     "iopub.execute_input": "2025-01-16T13:48:50.787176Z",
     "iopub.status.busy": "2025-01-16T13:48:50.787059Z",
     "iopub.status.idle": "2025-01-16T13:48:50.909468Z",
     "shell.execute_reply": "2025-01-16T13:48:50.908640Z",
     "shell.execute_reply.started": "2025-01-16T13:48:50.787164Z"
    }
   },
   "outputs": [],
   "source": [
    "cm_bulk = cm_full.groupby(['atlas', 'cell_type', 'ct_idx']).sum()\n",
    "cm_bulk = np.log1p(10000 * (cm_bulk.T / cm_bulk.T.sum()).T).reset_index()\n",
    "cm_bulk = pd.concat([cm_bulk.iloc[:,3:], cm_bulk[['ct_idx', 'cell_type', 'atlas']]], axis=1)"
   ]
  },
  {
   "cell_type": "code",
   "execution_count": 10,
   "metadata": {
    "execution": {
     "iopub.execute_input": "2025-01-16T13:48:50.910298Z",
     "iopub.status.busy": "2025-01-16T13:48:50.910174Z",
     "iopub.status.idle": "2025-01-16T13:48:50.986897Z",
     "shell.execute_reply": "2025-01-16T13:48:50.986282Z",
     "shell.execute_reply.started": "2025-01-16T13:48:50.910286Z"
    }
   },
   "outputs": [],
   "source": [
    "cm_bulk.to_csv(f'{INPUT_DIR}/sc_ref.csv')"
   ]
  },
  {
   "cell_type": "code",
   "execution_count": null,
   "metadata": {
    "execution": {
     "iopub.execute_input": "2025-01-16T13:48:50.987746Z",
     "iopub.status.busy": "2025-01-16T13:48:50.987620Z"
    }
   },
   "outputs": [],
   "source": [
    "df[df.feature_name.isin(common_genes)].to_csv(f'{INPUT_DIR}/molecules.csv', index=False)"
   ]
  },
  {
   "cell_type": "code",
   "execution_count": null,
   "metadata": {},
   "outputs": [],
   "source": [
    "!gzip $INPUT_DIR/molecules.csv"
   ]
  },
  {
   "cell_type": "markdown",
   "metadata": {},
   "source": [
    "### Find markers"
   ]
  },
  {
   "cell_type": "markdown",
   "metadata": {},
   "source": [
    "Copied from https://github.com/SydneyBioX/BIDCell/issues/9"
   ]
  },
  {
   "cell_type": "code",
   "execution_count": null,
   "metadata": {},
   "outputs": [],
   "source": [
    "# import numpy as np\n",
    "# import pandas as pd\n",
    "import natsort\n",
    "\n",
    "max_overlaps_neg = 15\n",
    "max_overlaps_pos = 4\n",
    "\n",
    "ref_df = cm_bulk\n",
    "n_genes = ref_df.shape[1] - 3\n",
    "print(\"Ref data shape\", ref_df.shape)"
   ]
  },
  {
   "cell_type": "code",
   "execution_count": null,
   "metadata": {},
   "outputs": [],
   "source": [
    "cell_types = ref_df[\"cell_type\"].tolist()\n",
    "cell_types = natsort.natsorted(list(set(cell_types)))\n",
    "print(cell_types)\n",
    "n_cell_types = len(cell_types)\n",
    "\n",
    "ref_expr = ref_df.iloc[:, :n_genes].to_numpy()\n",
    "gene_names = ref_df.columns[:n_genes]\n",
    "\n",
    "# Find genes with expressions in bottom 10% percentile for every ref cell type\n",
    "pct_10 = np.percentile(ref_expr, 10, axis=1, keepdims=True)\n",
    "pct_10 = np.tile(pct_10, (1, n_genes))\n",
    "low_expr_true = np.zeros(pct_10.shape)\n",
    "low_expr_true[ref_expr <= pct_10] = 1\n",
    "\n",
    "# Find overlap for different ref samples of the same cell type\n",
    "ct_idx = ref_df[\"ct_idx\"].to_numpy()\n",
    "low_expr_true_agg = np.zeros((n_cell_types, n_genes))\n",
    "for ct in range(n_cell_types):\n",
    "    rows = np.where(ct_idx == ct)[0]\n",
    "    low_expr_true_ct = low_expr_true[rows]\n",
    "    low_expr_true_agg[ct, :] = np.prod(low_expr_true_ct, axis=0)\n",
    "\n",
    "# Set overlaps to 0\n",
    "overlaps = np.sum(low_expr_true_agg, 0)\n",
    "too_many = np.where(overlaps > max_overlaps_neg)[0]\n",
    "low_expr_true_agg[:, too_many] = 0"
   ]
  },
  {
   "cell_type": "code",
   "execution_count": null,
   "metadata": {},
   "outputs": [],
   "source": [
    "cell_types = ref_df[\"cell_type\"].tolist()\n",
    "cell_types = natsort.natsorted(list(set(cell_types)))\n",
    "print(cell_types)\n",
    "n_cell_types = len(cell_types)\n",
    "\n",
    "ref_expr = ref_df.iloc[:, :n_genes].to_numpy()\n",
    "gene_names = ref_df.columns[:n_genes]\n",
    "\n",
    "# Find genes with expressions in bottom 10% percentile for every ref cell type\n",
    "pct_10 = np.percentile(ref_expr, 10, axis=1, keepdims=True)\n",
    "pct_10 = np.tile(pct_10, (1, n_genes))\n",
    "low_expr_true = np.zeros(pct_10.shape)\n",
    "low_expr_true[ref_expr <= pct_10] = 1\n",
    "\n",
    "# Find overlap for different ref samples of the same cell type\n",
    "ct_idx = ref_df[\"ct_idx\"].to_numpy()\n",
    "low_expr_true_agg = np.zeros((n_cell_types, n_genes))\n",
    "for ct in range(n_cell_types):\n",
    "    rows = np.where(ct_idx == ct)[0]\n",
    "    low_expr_true_ct = low_expr_true[rows]\n",
    "    low_expr_true_agg[ct, :] = np.prod(low_expr_true_ct, axis=0)\n",
    "\n",
    "# Set overlaps to 0\n",
    "overlaps = np.sum(low_expr_true_agg, 0)\n",
    "too_many = np.where(overlaps > max_overlaps_neg)[0]\n",
    "low_expr_true_agg[:, too_many] = 0\n",
    "\n",
    "# print(\"num neg genes per cell type\")\n",
    "# print(np.sum(low_expr_true_agg, 1))\n",
    "\n",
    "df_neg = pd.DataFrame(low_expr_true_agg, index=cell_types, columns=gene_names)\n",
    "\n",
    "# Find genes with expressions in top 90% percentile for every ref cell type\n",
    "pct_90 = np.percentile(ref_expr, 90, axis=1, keepdims=True)\n",
    "pct_90 = np.tile(pct_90, (1, n_genes))\n",
    "high_expr_true = np.zeros(pct_90.shape)\n",
    "high_expr_true[ref_expr >= pct_90] = 1\n",
    "\n",
    "# Find overlap for different ref samples of the same cell type\n",
    "ct_idx = ref_df[\"ct_idx\"].to_numpy()\n",
    "high_expr_true_agg = np.zeros((n_cell_types, n_genes))\n",
    "for ct in range(n_cell_types):\n",
    "    rows = np.where(ct_idx == ct)[0]\n",
    "    high_expr_true_ct = high_expr_true[rows]\n",
    "    high_expr_true_agg[ct, :] = np.prod(high_expr_true_ct, axis=0)\n",
    "\n",
    "# print(\"num pos genes per cell type\")\n",
    "# print(np.sum(high_expr_true_agg, 1))\n",
    "\n",
    "# Set overlaps to 0\n",
    "overlaps = np.sum(high_expr_true_agg, 0)\n",
    "too_many = np.where(overlaps > max_overlaps_pos)[0]\n",
    "high_expr_true_agg[:, too_many] = 0\n",
    "\n",
    "df_pos = pd.DataFrame(high_expr_true_agg, index=cell_types, columns=gene_names)"
   ]
  },
  {
   "cell_type": "code",
   "execution_count": null,
   "metadata": {},
   "outputs": [],
   "source": [
    "df_pos.to_csv(f'{INPUT_DIR}/sc_pos_markers.csv')\n",
    "df_neg.to_csv(f'{INPUT_DIR}/sc_neg_markers.csv')"
   ]
  },
  {
   "cell_type": "markdown",
   "metadata": {},
   "source": [
    "## Run BIDCell"
   ]
  },
  {
   "cell_type": "markdown",
   "metadata": {},
   "source": [
    "For convenience, it's easier to run [`run_bidcell.py`](./run_bidcell.py) from the command line instead of this section."
   ]
  },
  {
   "cell_type": "code",
   "execution_count": null,
   "metadata": {},
   "outputs": [],
   "source": [
    "model = BIDCellModel(\"xenium_config.yaml\")"
   ]
  },
  {
   "cell_type": "code",
   "execution_count": null,
   "metadata": {},
   "outputs": [],
   "source": [
    "import torch # Otherwise BIDCell fails version check with conda torch\n",
    "torch.__version__ = '.'.join(torch.__version__.split('.')[:3])"
   ]
  },
  {
   "cell_type": "code",
   "execution_count": null,
   "metadata": {},
   "outputs": [],
   "source": [
    "model.preprocess()"
   ]
  },
  {
   "cell_type": "code",
   "execution_count": null,
   "metadata": {},
   "outputs": [],
   "source": [
    "model.train()"
   ]
  },
  {
   "cell_type": "code",
   "execution_count": null,
   "metadata": {},
   "outputs": [],
   "source": [
    "model.predict()"
   ]
  },
  {
   "cell_type": "markdown",
   "metadata": {},
   "source": [
    "## Check results"
   ]
  },
  {
   "cell_type": "code",
   "execution_count": null,
   "metadata": {},
   "outputs": [],
   "source": [
    "model.config.experiment_dirs.test_output_dir"
   ]
  },
  {
   "cell_type": "code",
   "execution_count": null,
   "metadata": {},
   "outputs": [],
   "source": [
    "im = sio.imread(f'{DATA_DIR}/output/model_outputs/2024_11_12_06_37_26/test_output/epoch_10_step_120_connected.tif')\n",
    "print(im.max())\n",
    "sio.imshow(im)"
   ]
  }
 ],
 "metadata": {
  "kernelspec": {
   "display_name": "xenium-workflow",
   "language": "python",
   "name": "xenium-workflow"
  },
  "language_info": {
   "codemirror_mode": {
    "name": "ipython",
    "version": 3
   },
   "file_extension": ".py",
   "mimetype": "text/x-python",
   "name": "python",
   "nbconvert_exporter": "python",
   "pygments_lexer": "ipython3",
   "version": "3.10.0"
  }
 },
 "nbformat": 4,
 "nbformat_minor": 4
}
