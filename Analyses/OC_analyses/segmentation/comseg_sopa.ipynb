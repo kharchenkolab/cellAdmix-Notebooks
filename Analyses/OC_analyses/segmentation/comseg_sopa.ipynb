{
 "cells": [
  {
   "cell_type": "code",
   "execution_count": 1,
   "id": "11fea1d4",
   "metadata": {},
   "outputs": [],
   "source": [
    "import sys\n",
    "sys.path.append('../../../scripts/')\n",
    "\n",
    "from paths import get_data_paths"
   ]
  },
  {
   "cell_type": "code",
   "execution_count": null,
   "id": "5af010a0",
   "metadata": {},
   "outputs": [],
   "source": [
    "import spatialdata\n",
    "import sopa\n",
    "import dask\n",
    "\n",
    "sopa.settings.parallelization_backend = \"dask\"\n",
    "sopa.settings.dask_client_kwargs[\"n_workers\"] = 60\n",
    "\n",
    "dask.config.set({'dataframe.query-planning': True})"
   ]
  },
  {
   "cell_type": "code",
   "execution_count": null,
   "id": "ac516d83",
   "metadata": {},
   "outputs": [],
   "source": [
    "sdata = sopa.io.xenium(get_data_paths()['human_ovarian_cancer'], cells_boundaries=True)\n",
    "sdata"
   ]
  },
  {
   "cell_type": "code",
   "execution_count": 4,
   "id": "abfd020b",
   "metadata": {
    "collapsed": false,
    "execution": {
     "iopub.execute_input": "2025-01-21T10:59:31.892434Z",
     "iopub.status.busy": "2025-01-21T10:59:31.892027Z",
     "iopub.status.idle": "2025-01-21T11:44:26.633851Z",
     "shell.execute_reply": "2025-01-21T11:44:26.633138Z",
     "shell.execute_reply.started": "2025-01-21T10:59:31.892415Z"
    },
    "jupyter": {
     "outputs_hidden": false
    },
    "scrolled": true
   },
   "outputs": [
    {
     "name": "stdout",
     "output_type": "stream",
     "text": [
      "[########################################] | 100% Completed | 36m 46s\n"
     ]
    },
    {
     "name": "stderr",
     "output_type": "stream",
     "text": [
      "\u001b[36;20m[INFO] (sopa.patches._transcripts)\u001b[0m Patch 0 is out for segmentation (less than 4000 transcripts).\n",
      "\u001b[36;20m[INFO] (sopa.patches._transcripts)\u001b[0m Patch 1 is out for segmentation (less than 4000 transcripts).\n",
      "\u001b[36;20m[INFO] (sopa.patches._transcripts)\u001b[0m Patch 2 is out for segmentation (less than 4000 transcripts).\n",
      "\u001b[36;20m[INFO] (sopa.patches._transcripts)\u001b[0m Patch 3 is out for segmentation (less than 4000 transcripts).\n",
      "\u001b[36;20m[INFO] (sopa.patches._transcripts)\u001b[0m Patch 4 is out for segmentation (less than 4000 transcripts).\n",
      "\u001b[36;20m[INFO] (sopa.patches._transcripts)\u001b[0m Patch 5 is out for segmentation (less than 4000 transcripts).\n",
      "\u001b[36;20m[INFO] (sopa.patches._transcripts)\u001b[0m Patch 6 is out for segmentation (less than 4000 transcripts).\n",
      "\u001b[36;20m[INFO] (sopa.patches._transcripts)\u001b[0m Patch 7 is out for segmentation (less than 4000 transcripts).\n",
      "\u001b[36;20m[INFO] (sopa.patches._transcripts)\u001b[0m Patch 8 is out for segmentation (less than 4000 transcripts).\n",
      "\u001b[36;20m[INFO] (sopa.patches._transcripts)\u001b[0m Patch 9 is out for segmentation (less than 4000 transcripts).\n",
      "\u001b[36;20m[INFO] (sopa.patches._transcripts)\u001b[0m Patch 13 is out for segmentation (less than 4000 transcripts).\n",
      "\u001b[36;20m[INFO] (sopa.patches._transcripts)\u001b[0m Patch 14 is out for segmentation (less than 4000 transcripts).\n",
      "\u001b[36;20m[INFO] (sopa.patches._transcripts)\u001b[0m Patch 15 is out for segmentation (less than 4000 transcripts).\n",
      "\u001b[36;20m[INFO] (sopa.patches._transcripts)\u001b[0m Patch 24 is out for segmentation (less than 4000 transcripts).\n",
      "\u001b[36;20m[INFO] (sopa.patches._transcripts)\u001b[0m Patch 25 is out for segmentation (less than 4000 transcripts).\n",
      "\u001b[36;20m[INFO] (sopa.patches._transcripts)\u001b[0m Patch 26 is out for segmentation (less than 4000 transcripts).\n",
      "\u001b[36;20m[INFO] (sopa.patches._transcripts)\u001b[0m Patch 27 is out for segmentation (less than 4000 transcripts).\n",
      "\u001b[36;20m[INFO] (sopa.patches._transcripts)\u001b[0m Patch 28 is out for segmentation (less than 4000 transcripts).\n",
      "\u001b[36;20m[INFO] (sopa.patches._transcripts)\u001b[0m Patch 29 is out for segmentation (less than 4000 transcripts).\n",
      "\u001b[36;20m[INFO] (sopa.patches._transcripts)\u001b[0m Patch 30 is out for segmentation (less than 4000 transcripts).\n",
      "\u001b[36;20m[INFO] (sopa.patches._transcripts)\u001b[0m Patch 31 is out for segmentation (less than 4000 transcripts).\n",
      "\u001b[36;20m[INFO] (sopa.patches._transcripts)\u001b[0m Patch 32 is out for segmentation (less than 4000 transcripts).\n",
      "\u001b[36;20m[INFO] (sopa.patches._transcripts)\u001b[0m Patch 33 is out for segmentation (less than 4000 transcripts).\n",
      "\u001b[36;20m[INFO] (sopa.patches._transcripts)\u001b[0m Patch 34 is out for segmentation (less than 4000 transcripts).\n",
      "\u001b[36;20m[INFO] (sopa.patches._transcripts)\u001b[0m Patch 35 is out for segmentation (less than 4000 transcripts).\n",
      "\u001b[36;20m[INFO] (sopa.patches._transcripts)\u001b[0m Patch 36 is out for segmentation (less than 4000 transcripts).\n",
      "\u001b[36;20m[INFO] (sopa.patches._transcripts)\u001b[0m Patch 37 is out for segmentation (less than 4000 transcripts).\n",
      "\u001b[36;20m[INFO] (sopa.patches._transcripts)\u001b[0m Patch 38 is out for segmentation (less than 4000 transcripts).\n",
      "\u001b[36;20m[INFO] (sopa.patches._transcripts)\u001b[0m Patch 60 is out for segmentation (less than 4000 transcripts).\n",
      "\u001b[36;20m[INFO] (sopa.patches._transcripts)\u001b[0m Patch 61 is out for segmentation (less than 4000 transcripts).\n",
      "\u001b[36;20m[INFO] (sopa.patches._transcripts)\u001b[0m Patch 62 is out for segmentation (less than 4000 transcripts).\n",
      "\u001b[36;20m[INFO] (sopa.patches._transcripts)\u001b[0m Patch 63 is out for segmentation (less than 4000 transcripts).\n",
      "\u001b[36;20m[INFO] (sopa.patches._transcripts)\u001b[0m Patch 64 is out for segmentation (less than 4000 transcripts).\n",
      "\u001b[36;20m[INFO] (sopa.patches._transcripts)\u001b[0m Patch 65 is out for segmentation (less than 4000 transcripts).\n",
      "\u001b[36;20m[INFO] (sopa.patches._transcripts)\u001b[0m Patch 66 is out for segmentation (less than 4000 transcripts).\n",
      "\u001b[36;20m[INFO] (sopa.patches._transcripts)\u001b[0m Patch 67 is out for segmentation (less than 4000 transcripts).\n",
      "\u001b[36;20m[INFO] (sopa.patches._transcripts)\u001b[0m Patch 68 is out for segmentation (less than 4000 transcripts).\n",
      "\u001b[36;20m[INFO] (sopa.patches._transcripts)\u001b[0m Patch 69 is out for segmentation (less than 4000 transcripts).\n",
      "\u001b[36;20m[INFO] (sopa.patches._transcripts)\u001b[0m Patch 70 is out for segmentation (less than 4000 transcripts).\n",
      "\u001b[36;20m[INFO] (sopa.patches._transcripts)\u001b[0m Patch 71 is out for segmentation (less than 4000 transcripts).\n",
      "\u001b[36;20m[INFO] (sopa.patches._transcripts)\u001b[0m Patch 90 is out for segmentation (less than 4000 transcripts).\n",
      "\u001b[36;20m[INFO] (sopa.patches._transcripts)\u001b[0m Patch 91 is out for segmentation (less than 4000 transcripts).\n",
      "\u001b[36;20m[INFO] (sopa.patches._transcripts)\u001b[0m Patch 96 is out for segmentation (less than 4000 transcripts).\n",
      "\u001b[36;20m[INFO] (sopa.patches._transcripts)\u001b[0m Patch 97 is out for segmentation (less than 4000 transcripts).\n",
      "\u001b[36;20m[INFO] (sopa.patches._transcripts)\u001b[0m Patch 98 is out for segmentation (less than 4000 transcripts).\n",
      "\u001b[36;20m[INFO] (sopa.patches._transcripts)\u001b[0m Patch 99 is out for segmentation (less than 4000 transcripts).\n",
      "\u001b[36;20m[INFO] (sopa.patches._transcripts)\u001b[0m Patch 100 is out for segmentation (less than 4000 transcripts).\n",
      "\u001b[36;20m[INFO] (sopa.patches._transcripts)\u001b[0m Patch 101 is out for segmentation (less than 4000 transcripts).\n",
      "\u001b[36;20m[INFO] (sopa.patches._transcripts)\u001b[0m Patch 102 is out for segmentation (less than 4000 transcripts).\n",
      "\u001b[36;20m[INFO] (sopa.patches._transcripts)\u001b[0m Patch 128 is out for segmentation (less than 4000 transcripts).\n",
      "\u001b[36;20m[INFO] (sopa.patches._transcripts)\u001b[0m Patch 129 is out for segmentation (less than 4000 transcripts).\n",
      "\u001b[36;20m[INFO] (sopa.patches._transcripts)\u001b[0m Patch 130 is out for segmentation (less than 4000 transcripts).\n",
      "\u001b[36;20m[INFO] (sopa.patches._transcripts)\u001b[0m Patch 131 is out for segmentation (less than 4000 transcripts).\n",
      "\u001b[36;20m[INFO] (sopa.patches._transcripts)\u001b[0m Patch 132 is out for segmentation (less than 4000 transcripts).\n",
      "\u001b[36;20m[INFO] (sopa.patches._transcripts)\u001b[0m Patch 133 is out for segmentation (less than 4000 transcripts).\n",
      "\u001b[36;20m[INFO] (sopa.patches._transcripts)\u001b[0m Patch 134 is out for segmentation (less than 4000 transcripts).\n",
      "\u001b[36;20m[INFO] (sopa.patches._transcripts)\u001b[0m Patch 161 is out for segmentation (less than 4000 transcripts).\n",
      "\u001b[36;20m[INFO] (sopa.patches._transcripts)\u001b[0m Patch 162 is out for segmentation (less than 4000 transcripts).\n",
      "\u001b[36;20m[INFO] (sopa.patches._transcripts)\u001b[0m Patch 163 is out for segmentation (less than 4000 transcripts).\n",
      "\u001b[36;20m[INFO] (sopa.patches._transcripts)\u001b[0m Patch 165 is out for segmentation (less than 4000 transcripts).\n",
      "\u001b[36;20m[INFO] (sopa.patches._transcripts)\u001b[0m Patch 166 is out for segmentation (less than 4000 transcripts).\n",
      "\u001b[36;20m[INFO] (sopa.patches._transcripts)\u001b[0m Patch 195 is out for segmentation (less than 4000 transcripts).\n",
      "\u001b[36;20m[INFO] (sopa.patches._transcripts)\u001b[0m Patch 197 is out for segmentation (less than 4000 transcripts).\n",
      "\u001b[36;20m[INFO] (sopa.patches._transcripts)\u001b[0m Patch 198 is out for segmentation (less than 4000 transcripts).\n",
      "\u001b[36;20m[INFO] (sopa.patches._transcripts)\u001b[0m Patch 199 is out for segmentation (less than 4000 transcripts).\n",
      "\u001b[36;20m[INFO] (sopa.patches._transcripts)\u001b[0m Patch 230 is out for segmentation (less than 4000 transcripts).\n",
      "\u001b[36;20m[INFO] (sopa.patches._transcripts)\u001b[0m Patch 231 is out for segmentation (less than 4000 transcripts).\n",
      "\u001b[36;20m[INFO] (sopa.patches._transcripts)\u001b[0m Patch 255 is out for segmentation (less than 4000 transcripts).\n",
      "\u001b[36;20m[INFO] (sopa.patches._transcripts)\u001b[0m Patch 256 is out for segmentation (less than 4000 transcripts).\n",
      "\u001b[36;20m[INFO] (sopa.patches._transcripts)\u001b[0m Patch 263 is out for segmentation (less than 4000 transcripts).\n",
      "\u001b[36;20m[INFO] (sopa.patches._transcripts)\u001b[0m Patch 264 is out for segmentation (less than 4000 transcripts).\n",
      "\u001b[36;20m[INFO] (sopa.patches._transcripts)\u001b[0m Patch 598 is out for segmentation (less than 4000 transcripts).\n",
      "\u001b[36;20m[INFO] (sopa.patches._transcripts)\u001b[0m Patch 626 is out for segmentation (less than 4000 transcripts).\n",
      "\u001b[36;20m[INFO] (sopa.patches._transcripts)\u001b[0m Patch 658 is out for segmentation (less than 4000 transcripts).\n",
      "\u001b[36;20m[INFO] (sopa.patches._transcripts)\u001b[0m Patch 659 is out for segmentation (less than 4000 transcripts).\n",
      "\u001b[36;20m[INFO] (sopa.patches._transcripts)\u001b[0m Patch 691 is out for segmentation (less than 4000 transcripts).\n",
      "\u001b[36;20m[INFO] (sopa.patches._transcripts)\u001b[0m Patch 692 is out for segmentation (less than 4000 transcripts).\n",
      "\u001b[36;20m[INFO] (sopa.patches._transcripts)\u001b[0m Patch 710 is out for segmentation (less than 4000 transcripts).\n",
      "\u001b[36;20m[INFO] (sopa.patches._transcripts)\u001b[0m Patch 711 is out for segmentation (less than 4000 transcripts).\n",
      "\u001b[36;20m[INFO] (sopa.patches._transcripts)\u001b[0m Patch 712 is out for segmentation (less than 4000 transcripts).\n",
      "\u001b[36;20m[INFO] (sopa.patches._transcripts)\u001b[0m Patch 713 is out for segmentation (less than 4000 transcripts).\n",
      "\u001b[36;20m[INFO] (sopa.patches._transcripts)\u001b[0m Patch 722 is out for segmentation (less than 4000 transcripts).\n",
      "\u001b[36;20m[INFO] (sopa.patches._transcripts)\u001b[0m Patch 723 is out for segmentation (less than 4000 transcripts).\n",
      "\u001b[36;20m[INFO] (sopa.patches._transcripts)\u001b[0m Patch 724 is out for segmentation (less than 4000 transcripts).\n",
      "\u001b[36;20m[INFO] (sopa.patches._transcripts)\u001b[0m Patch 725 is out for segmentation (less than 4000 transcripts).\n",
      "\u001b[36;20m[INFO] (sopa.patches._transcripts)\u001b[0m Patch 739 is out for segmentation (less than 4000 transcripts).\n",
      "\u001b[36;20m[INFO] (sopa.patches._transcripts)\u001b[0m Patch 740 is out for segmentation (less than 4000 transcripts).\n",
      "\u001b[36;20m[INFO] (sopa.patches._transcripts)\u001b[0m Patch 741 is out for segmentation (less than 4000 transcripts).\n",
      "\u001b[36;20m[INFO] (sopa.patches._transcripts)\u001b[0m Patch 742 is out for segmentation (less than 4000 transcripts).\n",
      "\u001b[36;20m[INFO] (sopa.patches._transcripts)\u001b[0m Patch 743 is out for segmentation (less than 4000 transcripts).\n",
      "\u001b[36;20m[INFO] (sopa.patches._transcripts)\u001b[0m Patch 752 is out for segmentation (less than 4000 transcripts).\n",
      "\u001b[36;20m[INFO] (sopa.patches._transcripts)\u001b[0m Patch 753 is out for segmentation (less than 4000 transcripts).\n",
      "\u001b[36;20m[INFO] (sopa.patches._transcripts)\u001b[0m Patch 754 is out for segmentation (less than 4000 transcripts).\n",
      "\u001b[36;20m[INFO] (sopa.patches._transcripts)\u001b[0m Patch 755 is out for segmentation (less than 4000 transcripts).\n",
      "\u001b[36;20m[INFO] (sopa.patches._transcripts)\u001b[0m Patch 756 is out for segmentation (less than 4000 transcripts).\n",
      "\u001b[36;20m[INFO] (sopa.patches._transcripts)\u001b[0m Patch 757 is out for segmentation (less than 4000 transcripts).\n",
      "\u001b[36;20m[INFO] (sopa.patches._transcripts)\u001b[0m Patch 758 is out for segmentation (less than 4000 transcripts).\n",
      "\u001b[36;20m[INFO] (sopa.patches._transcripts)\u001b[0m 662 patche(s) were added to sdata['transcripts_patches']\n"
     ]
    }
   ],
   "source": [
    "sopa.make_transcript_patches(\n",
    "    sdata,\n",
    "    prior_shapes_key=\"cell_boundaries\",\n",
    "    write_cells_centroids=True,\n",
    "    patch_width=400,\n",
    "    min_points_per_patch=4000,\n",
    "    min_cells_per_patch=3\n",
    ")"
   ]
  },
  {
   "cell_type": "code",
   "execution_count": null,
   "id": "0f0c6b1f",
   "metadata": {},
   "outputs": [],
   "source": [
    "# the config dictionary is optional. If not provided, it will be inferred\n",
    "config = {\n",
    "    \"dict_scale\": {\"x\": 1, \"y\": 1, \"z\": 1},  # spot coordinates already in µm\n",
    "    \"mean_cell_diameter\": 15,\n",
    "    \"max_cell_radius\": 15,\n",
    "    \"alpha\": 0.5,  # alpha value to compute the polygon https://pypi.org/project/alphashape/\n",
    "    \"min_rna_per_cell\": 10,  # minimal number of RNAs for a cell to be taken into account\n",
    "    \"gene_column\": \"feature_name\",\n",
    "    \"allow_disconnected_polygon\": True,\n",
    "    \"norm_vector\": False,\n",
    "}\n",
    "\n",
    "with warnings.catch_warnings():\n",
    "    warnings.simplefilter(\"ignore\")\n",
    "    sopa.segmentation.comseg(sdata, config)"
   ]
  }
 ],
 "metadata": {
  "kernelspec": {
   "display_name": "xenium-workflow",
   "language": "python",
   "name": "xenium-workflow"
  },
  "language_info": {
   "codemirror_mode": {
    "name": "ipython",
    "version": 3
   },
   "file_extension": ".py",
   "mimetype": "text/x-python",
   "name": "python",
   "nbconvert_exporter": "python",
   "pygments_lexer": "ipython3",
   "version": "3.10.0"
  },
  "widgets": {
   "application/vnd.jupyter.widget-state+json": {
    "state": {},
    "version_major": 2,
    "version_minor": 0
   }
  }
 },
 "nbformat": 4,
 "nbformat_minor": 5
}
