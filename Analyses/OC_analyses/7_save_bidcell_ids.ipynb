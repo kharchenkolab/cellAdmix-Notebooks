{
 "cells": [
  {
   "cell_type": "markdown",
   "id": "bf473942",
   "metadata": {},
   "source": [
    "Requires running [segmentation/bidcell](./segmentation/bidcell) first."
   ]
  },
  {
   "cell_type": "code",
   "execution_count": 1,
   "id": "cd0b7a91-7ba9-4e4d-9661-08330d2493f1",
   "metadata": {},
   "outputs": [],
   "source": [
    "import skimage.io as sio\n",
    "import pandas as pd\n",
    "import sys\n",
    "\n",
    "sys.path.append('../../scripts/')\n",
    "from paths import get_data_paths"
   ]
  },
  {
   "cell_type": "code",
   "execution_count": 7,
   "id": "a7d66344",
   "metadata": {},
   "outputs": [],
   "source": [
    "data_path = get_data_paths()['human_ovarian_cancer'] / 'seg_method_results' / 'bidcell'"
   ]
  },
  {
   "cell_type": "code",
   "execution_count": 3,
   "id": "c56d013e",
   "metadata": {},
   "outputs": [],
   "source": [
    "df_spatial = pd.read_csv(\n",
    "    data_path / 'transcripts_processed.csv',\n",
    "    usecols=['feature_name', 'x_location', 'y_location']\n",
    ")"
   ]
  },
  {
   "cell_type": "code",
   "execution_count": 4,
   "id": "bff402e1-86ef-49b8-a8fe-0dda02686c8a",
   "metadata": {},
   "outputs": [],
   "source": [
    "im_path = (\n",
    "    data_path / 'model_outputs' / '2025_01_16_22_15_56' /\n",
    "    'test_output' / 'epoch_1_step_4000_connected.tif'\n",
    ")\n",
    "im = sio.imread(im_path)"
   ]
  },
  {
   "cell_type": "code",
   "execution_count": 5,
   "id": "b1a78ee7-4db1-4e48-8033-445066cc83d5",
   "metadata": {},
   "outputs": [],
   "source": [
    "df_spatial['cell_id'] = im[(\n",
    "    df_spatial.y_location.values.astype(int),\n",
    "    df_spatial.x_location.values.astype(int)\n",
    ")]"
   ]
  },
  {
   "cell_type": "code",
   "execution_count": 6,
   "id": "fbc5d3cd-e5a9-42ad-8ae0-49da76c7a459",
   "metadata": {},
   "outputs": [
    {
     "name": "stdout",
     "output_type": "stream",
     "text": [
      "  feature_name  x_location  y_location  cell_id\n",
      "0         AAMP  158.312500   2545.9219        0\n",
      "1          AXL  104.546875   2650.6250        0\n",
      "2       CSNK2B  107.156250   2742.2344        0\n",
      "3        GANAB  235.765620   2723.0469        0\n",
      "4          IDE  155.906250   2544.4219        0\n"
     ]
    }
   ],
   "source": [
    "print(df_spatial.head())"
   ]
  },
  {
   "cell_type": "code",
   "execution_count": 8,
   "id": "1b6cadd1-d41d-48fa-aea4-75cd0bbf47bf",
   "metadata": {},
   "outputs": [],
   "source": [
    "df_spatial.to_csv(data_path / 'df_small_bidcell_ids.csv', index=False)"
   ]
  }
 ],
 "metadata": {
  "kernelspec": {
   "display_name": "xenium-workflow",
   "language": "python",
   "name": "xenium-workflow"
  },
  "language_info": {
   "codemirror_mode": {
    "name": "ipython",
    "version": 3
   },
   "file_extension": ".py",
   "mimetype": "text/x-python",
   "name": "python",
   "nbconvert_exporter": "python",
   "pygments_lexer": "ipython3",
   "version": "3.10.0"
  }
 },
 "nbformat": 4,
 "nbformat_minor": 5
}
